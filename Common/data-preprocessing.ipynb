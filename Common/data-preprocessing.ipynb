{
 "cells": [
  {
   "cell_type": "markdown",
   "metadata": {},
   "source": [
    "# Initial Set Up: Data Pre-processing Step\n",
    "This notebook is for the initial set up of the LLM application that will be the same for each model.\n",
    "\n",
    "The focus is on the data-pre processing step of the RAG pipeline and getting the data into the vector database.\n",
    "\n",
    "We need to put the data of the SMU Catalog of 2023-2024 into Qdrant which is a cloud vector database. This will allow the language model to access and retrieve the necessary information.\n",
    "\n",
    "There are many changes that can be done at this step to alter how the text goes into the vector database (ex: different text splitters, document loaders, retrievers, etc.)\n",
    "\n",
    "We will install some of the necessary dependancies now and the rest along the way throughout the notebook."
   ]
  },
  {
   "cell_type": "code",
   "execution_count": null,
   "metadata": {},
   "outputs": [],
   "source": [
    "%pip install openai pypdf qdrant-client langchain python-dotenv tiktoken langchain-openai pandas"
   ]
  },
  {
   "cell_type": "code",
   "execution_count": 4,
   "metadata": {},
   "outputs": [
    {
     "data": {
      "text/plain": [
       "True"
      ]
     },
     "execution_count": 4,
     "metadata": {},
     "output_type": "execute_result"
    }
   ],
   "source": [
    "# Set up to initialize API keys from .env file into the\n",
    "import os\n",
    "from dotenv import find_dotenv, load_dotenv\n",
    "\n",
    "# Load environment variables from the .env files\n",
    "load_dotenv(find_dotenv(filename='SURF-Project_Optimizing-PerunaBot/setup/.env'))"
   ]
  },
  {
   "cell_type": "markdown",
   "metadata": {},
   "source": [
    "## PDF Breakdown\n",
    "If you take a look at the pdfs in the data folder, just the catalog pdf alone is over 800 pages long! To upload it into the vector databse, we have to 1st get all the text from the documents.\n",
    "\n",
    "First we will do the PDFs, then later on the CSV of the FAQs with a different method."
   ]
  },
  {
   "cell_type": "code",
   "execution_count": 5,
   "metadata": {},
   "outputs": [
    {
     "name": "stdout",
     "output_type": "stream",
     "text": [
      "896\n",
      " \n",
      " \n",
      " \n",
      " \n",
      " \n",
      " \n",
      "Southern Methodist University \n",
      "General Information \n",
      "Undergraduate Catalog  \n",
      "2023 -2024  \n",
      "{'source': 'C:/Users/yawbt/OneDrive/Documents/GitHub/SURF-Project_Optimizing-PerunaBot/Data/20232024 Undergraduate Catalog91123.pdf', 'page': 0}\n"
     ]
    }
   ],
   "source": [
    "# langchain imports\n",
    "from langchain.schema import Document\n",
    "from langchain_community.document_loaders import PyPDFLoader\n",
    "\n",
    "# file paths to the two PDFs we're using\n",
    "pdf_paths = ['C:/Users/yawbt/OneDrive/Documents/GitHub/SURF-Project_Optimizing-PerunaBot/Data/20232024 Undergraduate Catalog91123.pdf',\n",
    "             'C:/Users/yawbt/OneDrive/Documents/GitHub/SURF-Project_Optimizing-PerunaBot/Data/Official University Calendar 2023-2024.pdf',\n",
    "             'C:/Users/yawbt/OneDrive/Documents/GitHub/SURF-Project_Optimizing-PerunaBot/Data/2023_PerunaPassport.pdf',\n",
    "             'C:/Users/yawbt/OneDrive/Documents/GitHub/SURF-Project_Optimizing-PerunaBot/Data/SMU Student Handbook 23-24.pdf',\n",
    "             'C:/Users/yawbt/OneDrive/Documents/GitHub/SURF-Project_Optimizing-PerunaBot/Data/SMUCampusGuideFactsMap.pdf'\n",
    "             ]\n",
    "\n",
    "def load_pdfs_with_langchain(pdf_paths):\n",
    "    documents = []\n",
    "    for path in pdf_paths:\n",
    "        try:\n",
    "            # Use LangChain's PyPDFLoader to load the PDF\n",
    "            loader = PyPDFLoader(path)\n",
    "            # Load and pase the PDF into document instances\n",
    "            pdf_doc = loader.load()\n",
    "            # Insert pdf into documents list variable\n",
    "            documents.extend(pdf_doc)\n",
    "        except Exception as e:\n",
    "            print(f\"Error loading {path}: {e}\")\n",
    "    return documents\n",
    "\n",
    "#Load PDF documents using the function\n",
    "docs = load_pdfs_with_langchain(pdf_paths)\n",
    "\n",
    "print(len(docs))\n",
    "print(docs[0].page_content[0:100])\n",
    "print(docs[0].metadata)"
   ]
  },
  {
   "cell_type": "markdown",
   "metadata": {},
   "source": [
    "Here we are initializing an API connection to the Qdrant vector database from https://qdrant.tech/"
   ]
  },
  {
   "cell_type": "code",
   "execution_count": 6,
   "metadata": {},
   "outputs": [],
   "source": [
    "from qdrant_client import qdrant_client\n",
    "from qdrant_client.http import models"
   ]
  },
  {
   "cell_type": "code",
   "execution_count": 7,
   "metadata": {},
   "outputs": [],
   "source": [
    "# Initializing Qdrant host URL and API key\n",
    "qdrant_host = os.environ['QDRANT_HOST']\n",
    "qdrant_api_key = os.environ['QDRANT_API_KEY']\n",
    "\n",
    "#Initialize Qdrant Client\n",
    "client = qdrant_client.QdrantClient(\n",
    "    url=qdrant_host, \n",
    "    api_key = qdrant_api_key,\n",
    ")"
   ]
  },
  {
   "cell_type": "markdown",
   "metadata": {},
   "source": [
    "Now we are going to create the 1st collection of vectors and the vectorstore inside the database. Eventually, we will have more than one collection to see how changes to how the data is uploaded and retrieved affects the accuracy and other evaluation metrics.\n",
    "\n",
    "This is a very important step because an LLM application is only as good as its data and the documents it retrieves to create an answer.\n",
    "\n",
    "Since we will have more than one collection within the vector database, we will just create a function that will allow us to create a new vectorstore collection when needed."
   ]
  },
  {
   "cell_type": "code",
   "execution_count": 10,
   "metadata": {},
   "outputs": [],
   "source": [
    "# function to create a vector store based on the collection name\n",
    "from langchain_openai import OpenAIEmbeddings\n",
    "from langchain_qdrant import Qdrant\n",
    "\n",
    "# Initializing OpenAI API key for embeddings and later use\n",
    "openai_api_key = os.environ['OPENAI_API_KEY']\n",
    "\n",
    "def create_vectorstore(qdrant_collection_name):\n",
    "    \n",
    "    vectors_config = models.VectorParams(\n",
    "   size=1536, #for OpenAI\n",
    "   distance=models.Distance.COSINE\n",
    "   )\n",
    "    \n",
    "    client.create_collection(\n",
    "   collection_name = qdrant_collection_name,\n",
    "   vectors_config=vectors_config,   \n",
    "    )\n",
    "\n",
    "    vector_store = Qdrant(\n",
    "        client=client, \n",
    "        collection_name=qdrant_collection_name, \n",
    "        embeddings=OpenAIEmbeddings(),\n",
    "    )\n",
    "  \n",
    "    return vector_store"
   ]
  },
  {
   "cell_type": "code",
   "execution_count": 12,
   "metadata": {},
   "outputs": [],
   "source": [
    "# create 1st collection of vectors\n",
    "\n",
    "qdrant_collection_1 = os.environ['QDRANT_COLLECTION_1']\n",
    "vector_store_1 = create_vectorstore(qdrant_collection_1)"
   ]
  },
  {
   "cell_type": "markdown",
   "metadata": {},
   "source": [
    "This is where the experiment begins! Now we have all the text from the pdfs in the pdfs_doc_text variable, the text needs to be split into chunks using langchain text splitters to be turned into vectors using the OpenAI Embeddings Model.\n",
    "\n",
    "We are going to test two methods:\n",
    "1. Parent Doucment Retriever method with the **RecursiveCharacterTextSplitter**\n",
    "\n",
    "2. Semantic Chunking method using the **Semantic Text Splitter**\n",
    "\n",
    "Since this will generate two different types of chunks, we will but them in two different collections within the vector database."
   ]
  },
  {
   "cell_type": "code",
   "execution_count": 13,
   "metadata": {},
   "outputs": [],
   "source": [
    "# Parent Document Retriever Method\n",
    "from langchain.text_splitter import RecursiveCharacterTextSplitter\n",
    "from langchain.retrievers import ParentDocumentRetriever\n",
    "from langchain.storage import InMemoryStore\n",
    "\n",
    "child_splitter = RecursiveCharacterTextSplitter(chunk_size=250, chunk_overlap=25, \n",
    "                                                length_function=len, add_start_index=True) \n",
    "\n",
    "parent_splitter = RecursiveCharacterTextSplitter(chunk_size=750, chunk_overlap=50, \n",
    "                                                length_function=len, add_start_index=True)  \n",
    "\n",
    "# storage for parent splitter\n",
    "store = InMemoryStore()\n",
    "\n",
    "# retriever\n",
    "parent_retriever = ParentDocumentRetriever(\n",
    "    vectorstore=vector_store_1, \n",
    "    docstore=store, \n",
    "    child_splitter=child_splitter,\n",
    "    parent_splitter=parent_splitter,\n",
    "    )\n",
    "\n",
    "parent_retriever.add_documents(docs)\n",
    "\n",
    "# testing the retriever\n",
    "parent_retriever.invoke(\"How many credit hours is a major in Computer Science?\")\n",
    "\n",
    "# adding  documents into the Qdrant vector database in the 1st collection\n",
    "parent_retriever.add_documents(docs)"
   ]
  },
  {
   "cell_type": "markdown",
   "metadata": {},
   "source": [
    "Now for the 2nd method using the Semantic Text Splitter which splits the text based on the meaning within each sentence for more granular control of retrieval.\n",
    "\n",
    "For this one, we will use the Ensemble Retriever which allows us to combine the results of multiple retrievers, giving them different weights. Within the Ensemble retriever we will use: \n",
    "-BM25 Retriever which a retrieval method used by search engines\n",
    "-Base retriever that comes with using the vectorstore as a retriever\n"
   ]
  },
  {
   "cell_type": "code",
   "execution_count": 14,
   "metadata": {},
   "outputs": [
    {
     "name": "stdout",
     "output_type": "stream",
     "text": [
      " \n",
      " \n",
      " \n",
      " \n",
      " \n",
      " \n",
      "Southern Methodist University \n",
      "General Information \n",
      "Undergraduate Catalog  \n",
      "2023 -2024   \n",
      "2135\n"
     ]
    }
   ],
   "source": [
    "# semantic text splitting method\n",
    "# do '%pip install langchain_experimental' if needed\n",
    "from langchain_experimental.text_splitter import SemanticChunker\n",
    "from langchain_openai.embeddings import OpenAIEmbeddings\n",
    "\n",
    "semantic_text_splitter = SemanticChunker(\n",
    "    OpenAIEmbeddings(), \n",
    "    breakpoint_threshold_type=\"percentile\")\n",
    "\n",
    "semantic_docs = semantic_text_splitter.split_documents(docs)\n",
    "print(semantic_docs[0].page_content)\n",
    "print(len(semantic_docs))\n"
   ]
  },
  {
   "cell_type": "code",
   "execution_count": 17,
   "metadata": {},
   "outputs": [],
   "source": [
    "# creating another instance of a vector store with a new collection using the function we made earlier\n",
    "qdrant_collection_2 = os.environ['QDRANT_COLLECTION_2']\n",
    "vector_store_2 = create_vectorstore(qdrant_collection_2)"
   ]
  },
  {
   "cell_type": "code",
   "execution_count": 21,
   "metadata": {},
   "outputs": [
    {
     "data": {
      "text/plain": [
       "[Document(page_content=\"555 \\n Electrical and Computer Engineering, B.S.E.C.E., with a \\nSpecialization in Electrical Engineering  \\nThe electrical and computer engineering curriculum is administered by the Department of Electrical and Computer \\nEngineering. SMU Degree Requirements  \\nAn SMU undergraduate degree requires a minimum of 120 credit hours and must include completion of the \\nUniversity's Common Curriculum, one major and a combination of electives and/or other majors or minors. Completion of certain majors requires more than 120 hours to finish the degree.\", metadata={'source': 'C:/Users/yawbt/OneDrive/Documents/GitHub/SURF-Project_Optimizing-PerunaBot/Data/20232024 Undergraduate Catalog91123.pdf', 'page': 554}),\n",
       " Document(page_content='173 \\n Computer Science and Engineering (3 Credit Hours)  \\nOne course from the following: \\n• CS 1340 -  Introduction to Computing Concepts  \\n• CS 1341 -  Principles of Computer Science I  \\n• ITOM 3306 -  Operations Management  (for Cox majors and minors only)  \\nAccounting (6 Credit Hours)  \\n• ACCT 2301 -  Introduction to Financial Accounting  \\n• ACCT 2302 -  Introduction to Managerial Accounting  \\nAdvanced Economics Elective Courses (18 Credit Hours)  \\nSix courses from the list below:   \\n• ECO 4301 -  Topics  \\n• ECO 4330 -  Economics of Human Rights  \\n• ECO 4337 -  Urban Economics  \\n• ECO 4340 -  Cultural Economics  \\n• ECO 4341 -  Strategic Behavior  \\n• ECO 4342 -  Experimental and Behavioral Economics  \\n• ECO 4343 -  Decision -Making Under Uncertainty  \\n• ECO 4345 -  Ethics in Economics  \\n• ECO 4350 -  Introductory Econometrics  \\n• ECO 4351 -  Labor Economics  \\n• ECO 4353 -  Law and Economics  \\n• ECO 4354 -  Economic and Business Forecasting  \\n• ECO 4355 -  Environmental Economics  \\n• ECO 4356 -  Causal Inference in Economics  \\n• ECO 4357 -  International Trade  \\n• ECO 4358 -  International Macroeconomic Theory and Policy \\n• ECO 4360 -  Economic Development: Macroeconomic Perspectives  \\n• ECO 4361 -  Economics of Education  \\n• ECO 4362 -  Economic Growth \\n• ECO 4363 -  Political Economy  \\n• ECO 4366 -  Public Sector Taxation  \\n• ECO 4367 -  Public Sector Expenditures  \\n• ECO 4370 -  Computing for Economics  \\n• ECO 4371 -  Theory of Industrial Structure  \\n• ECO 4376 -  Special Topics in Economic History and Development  \\n• ECO 4382 -  Economics of Regulated Industries  \\n• ECO 4385 -  Macroeconomics: Theory and Policy  \\n• ECO 4386 -  Topics in Monetary Economics  \\n• ECO 4390 -  Independent Study in Economics  \\n• ECO 4398 -  Departmental Distinction in Economics  \\nTotal for the Major Only: 54 Credit Hours  \\nEconomics, B.A. The B.A.', metadata={'page': 172, 'source': 'C:/Users/yawbt/OneDrive/Documents/GitHub/SURF-Project_Optimizing-PerunaBot/Data/20232024 Undergraduate Catalog91123.pdf', '_id': '3a3de1da-5fbb-4340-8fce-0d5c3c5c0d2d', '_collection_name': 'smu-data_2'}),\n",
       " Document(page_content=\"Students may pursue a second degree program in math or physics. Students wishing to obtain a second degree in mathematics or physics should contact the respective departments in Dedman College to discuss the requirements. Electrical and Computer Engineering, B.S.E.C.E. The electrical and computer engineering curriculum is administered by the Department of Electrical and Computer Engineering. SMU Degree Requirements  \\nAn SMU undergraduate degree requires a minimum of 120 credit hours and must include completion of the University's Common Curriculum, one major and a combination of electives and/or other majors or minors. Completion of certain majors requires more than 120 hours to finish the degree. The credit hours within this curriculum are distributed as follows: \\nRequirements for the Major  \\nMathematics and Science (31 Credit Hours)  \\n• MATH 1337 - Calculus I  and MATH 1338 -  Calculus II   \\nor \\n• MATH 1340 - Consolidated Calculus  \\n   \\n• MATH 3304 - Introduction to Linear Algebra  \\n• ECE 3360 -  Statistical Methods in Electrical and Computer Engineering  \\n• PHYS 1303 -  Introductory Mechanics  \\n• PHYS 1304 -  Introductory Electricity and Magnetism  \\n   \\n• PHYS 1105 -  Mechanics Laboratory  \\nor \\n• PHYS 1106 -  Electricity and Magnetism Laboratory  \\nSix credit hours of advanced math or science electives  \\nChoose two (2) from the following:  \\n• CHEM 1303 -  General Chemistry  \", metadata={'source': 'C:/Users/yawbt/OneDrive/Documents/GitHub/SURF-Project_Optimizing-PerunaBot/Data/20232024 Undergraduate Catalog91123.pdf', 'page': 549}),\n",
       " Document(page_content=\"No more than 6 hours of courses \\noutside Lyle may be used toward this requirement. Other courses at the 3000 level or above may be \\npetitioned to meet this requirement with prior approval by advisor. CS courses used to meet this \\nrequirement may not also meet a CS elective requirement. Total for the Major Only: 60 Credit Hours  \\nNote:  All computer science majors must earn a grade of  C- or better in the computer science core courses and CS \\n2353 in fulfillment of the requirements for the major. Computer Science, B.S. SMU Degree Requirements  \\nAn SMU undergraduate degree requires a minimum of 120 credit hours and must include completion of the \\nUniversity's Common Curriculum, one major and a combination of electives and/or other majors or minors. Completion of certain majors requires more than 120 hours to finish the degree. The credit hours within this curriculum are distributed as follows: \", metadata={'page': 530, 'source': 'C:/Users/yawbt/OneDrive/Documents/GitHub/SURF-Project_Optimizing-PerunaBot/Data/20232024 Undergraduate Catalog91123.pdf', '_id': '8abecccc-b65e-4474-8e9c-5ac8291fd181', '_collection_name': 'smu-data_2'}),\n",
       " Document(page_content=\"Data Science, B.S. Today's world is data -driven. Data science is an exciting field, with its emphasis on using data to describe and \\nunderstand the world around us. It applies ideas and methods from statistics, computer science, and optimization to find innovative solutions t o important problems in many areas. Graduates that combine data science knowledge with \\nfields like management science, humanities, social sciences, or engineering are in high demand. The major in data science requires a minimum of 36 credit hours (12 courses). Given the interdisciplinary nature of \\nthe study of data science, students are required to take another  major in any discipline. The data science major \\ncannot be the first major declared by a student. Students obtaining a B.S. degree in data science may not also obtain \\na B.A. degree in mathematics. Admission to a Data Science Major  \\nTo declare the major, students must complete  two calculus classes, one of which must be  MATH 1338 - Calculus \\nII or MATH 1340 - Consolidated Calculus, and the three data science core courses with an overall B  average. SMU Degree Requirements  \\nAn SMU undergraduate degree requires a minimum of 120 credit hours and must include completion of the University's Common Curriculum, one major and a combination of electives and/or other majors or minors. Completion of certain majors requires more than 120 hours to finish the degree. The credit hours within this \\ncurriculum are distributed as follows: \\nRequirements for the Major  \\nCore Courses (18 Credit Hours)  \\nMathematics (9 Credit Hours)  \\n• MATH 1337 - Calculus I  \\nor \\n• MATH 1309 - Introduction to Calculus for Business and Social Science  \\n   \\n• MATH 1338 - Calculus II  \\nor \\n• MATH 1340 - Consolidated Calculus  \\n   \\n• MATH 3304 - Introduction to Linear Algebra  \", metadata={'source': 'C:/Users/yawbt/OneDrive/Documents/GitHub/SURF-Project_Optimizing-PerunaBot/Data/20232024 Undergraduate Catalog91123.pdf', 'page': 356}),\n",
       " Document(page_content='The credit hours within this curriculum are distributed as follows: \\nRequirements for the Major  \\nMathematics and Science (31 Credit Hours)  \\n• MATH 1337 - Calculus I  and MATH 1338 -  Calculus II  \\nor \\n• MATH 1340 - Consolidated Calculus   (will receive credit for MATH 1337 upon successful completion of \\nthis course)  \\n   \\n• MATH 3304 - Introduction to Linear Algebra  \\n• MATH 3308 - Introduction to Discrete Mathematics/CS 2353 -  Discrete Computational Structure   \\n• MATH 3315 - Introduction to Scientific Computing  \\n• ECE 3360 -  Statistical Methods in Electrical and Computer Engineering  \\n• PHYS 1303 -  Introductory Mechanics  \\n• PHYS 1304 -  Introductory Electricity and Magnetism  \\n   \\n• PHYS 1105 -  Mechanics Laboratory  \\nor \\n• PHYS 1106 -  Electricity and Magnetism Laboratory  \\nSix credit hours of advanced math or science electives:  \\n• BIOL 1301 -  Introductory Biology  \\n• BIOL 1302 -  Introductory Biology  \\n• CHEM 1303 -  General Chemistry  \\n• CHEM 1304 -  General Chemistry  \\n• MATH 3302 - Calculus III: Multi– Variable and Vector Calculus  \\n• MATH 3313 - Ordinary Differential Equations  \\n• MATH 4325 - Introduction to Dynamical Systems  \\n• PHYS 3305 -  Introduction to Modern Physics  \\n• PHYS 3344 -  Classical Mechanics  \\n• PHYS 3374 -  Thermodynamics and Statistical Mechanics  \\nCredit will not be given for both CS 2353 and MATH 3308. Core Computer Science (9 Credit Hours)  \\n• CS 1340 -  Introduction to Computing Concepts  \\n• CS 1342 -  Principles of Computer Science II  \\n• CS 2341 -  Data Structures  \\nCore Electrical and Computer Engineering (23 Credit Hours)  \\n• ECE 1350 -  Introduction to Electrical and Computer Engineering  \\n   \\n• ECE 1381 -  Microcontrollers and Embedded Systems  \\n• ECE 1181 -  ECE Laboratory: Microcontrollers and Embedded Systems  \\n   \\n• ECE 2370 -  Design and Analysis of Signals and Systems  \\n• ECE 2170 -  Design and Analysis of Signals and Systems Lab \\n   ', metadata={'page': 556, 'source': 'C:/Users/yawbt/OneDrive/Documents/GitHub/SURF-Project_Optimizing-PerunaBot/Data/20232024 Undergraduate Catalog91123.pdf', '_id': '9369b289-2588-4954-9a01-aa90a1347c16', '_collection_name': 'smu-data_2'}),\n",
       " Document(page_content=\"The critical thinking skills developed in the major and minors are of benefit to students in many \\ndisciplines and are especially useful as preparation for law s chool. The department offers a B.A. in philosophy and minors in philosophy and in ethics. Courses include core areas of philosophy and specialized topics such as animal rights, philosophy of law and philosophy of mind. The department also jointly operates two interdisciplinary minors in cognitive science  (with Psychology) and neuroscience  (with \\nBiology and Psychology). Departmental Distinction  \\nDepartmental distinction is awarded to philosophy majors graduating with at least a 3.5 GPA in philosophy and who successfully complete a writing project under the guidance of a faculty member. Philosophy, B.A. The B.A. degree in philosophy requires 30 credit hours of coursework in philosophy, including at least 21 credit \\nhours in advanced courses (3000- level and above). The 30 hours must include PHIL 1301, PHIL 3351, PHIL 3352; \\nat least one course from the seque nce PHIL 3311 –PHIL 3329; and at least one course from the sequence PHIL 3370 \\n- PHIL 3389 or PHIL 3363. SMU Degree Requirements  \\nAn SMU undergraduate degree requires a minimum of 120 credit hours and must include completion of the \\nUniversity's Common Curriculum, one major and a combination of electives and/or other majors or minors. Completion of certain majors requires more than 120 hours to finish the degree. The credit hours within this \\ncurriculum are distributed as follows: \\nRequirements for the Major  \\nCore Courses (15 Credit Hours)  \\n• PHIL 1301 - Elementary Logic \\n• PHIL 3351 - History of Western Philosophy (Ancient)  \\n• PHIL 3352 - History of Western Philosophy (Modern)  \\nMetaphysics and Epistemology (3 Credit Hours)  \\nOne course from the following:  \\n• PHIL 3312 - Introduction to Philosophy of Language  \\n• PHIL 3313 - Knowledge and Skepticism  \\n• PHIL 3314 - Metaphysics  \", metadata={'source': 'C:/Users/yawbt/OneDrive/Documents/GitHub/SURF-Project_Optimizing-PerunaBot/Data/20232024 Undergraduate Catalog91123.pdf', 'page': 290}),\n",
       " Document(page_content='532 \\n Requirements for the Major  \\nMathematics and Science (24-26 Credit Hours) \\n• MATH 1337 - Calculus I  and MATH 1338 -  Calculus II   \\nor \\n• MATH 1340 - Consolidated Calculus  \\n   \\n• MATH 3304 - Introduction to Linear Algebra  \\n• CS 2353 -  Discrete Computational Structures  \\n• CS 4340 -  Statistical Methods for Engineers and Applied Scientists  (Students may fulfill the CS \\n4340 requirement by taking any one of CS 4340/STAT 4340, or  OREM 3340.)  \\n• One 3000- level or higher MATH or STAT course (3 credit hours)  \\nTwo courses  \\nBoth courses must be selected from the same content area. Content Area 1, Biology  \\n• BIOL 1301 -  Introductory Biology/BIOL 1101 -  Introductory Biology Lab  \\n• BIOL 1302 -  Introductory Biology/BIOL 1102 -  Introductory Biology Lab  \\nContent Area 2, Chemistry  \\n• CHEM 1303 -  General Chemistry/CHEM 1113 -  General Chemistry Laboratory  \\n• CHEM 1304 -  General Chemistry/CHEM 1114 -  General Chemistry Laboratory  \\nContent Area 3, Geology  \\n• GEOL 1301 - Earth Systems  \\n• GEOL 1305 - Oceanography  \\n• GEOL 1307 - The Solar System  \\n• GEOL 1313 - Earthquakes and Volcanoes  \\n• GEOL 1315 - Introduction to Environmental Science  \\nContent Area 4, Physics  \\n• PHYS 1303 -  Introductory Mechanics/PHYS 1105 -  Mechanics Laboratory   \\n• PHYS 1304 -  Introductory Electricity and Magnetism/PHYS 1106 -  Electricity and Magnetism Laboratory   \\n• PHYS 3305 -  Introduction to Modern Physics  \\nComputer Science Core (33 Credit Hours)  \\n• CS 1341 -  Principles of Computer Science I  \\n• CS 1342 -  Principles of Computer Science II  \\n• CS 2340 -  Computer Organization \\n• CS 2341 -  Data Structures  \\n• CS 3341 -  Foundations of Modern Computing  \\n• CS 3353 -  Fundamentals of Algorithms  \\n• CS 5328 -  Software Engineering  \\n• CS 5330 -  Databases  \\n• CS 5343 -  Operating Systems \\n• CS 5344 -  Computer Networks and Distributed Systems  \\n• CS 5351 -  Senior Design  \\nTechnical Electives (9 Credit Hours)  \\nNine credit hours of CS courses at the 3000 level or above as approved by the adviser. The adviser may approve \\nother sufficiently technical courses from other departments to satisfy the Technical elective requirements.', metadata={'page': 531, 'source': 'C:/Users/yawbt/OneDrive/Documents/GitHub/SURF-Project_Optimizing-PerunaBot/Data/20232024 Undergraduate Catalog91123.pdf', '_id': '9c7e7562-076d-4a70-af3e-148ce8c2834e', '_collection_name': 'smu-data_2'})]"
      ]
     },
     "execution_count": 21,
     "metadata": {},
     "output_type": "execute_result"
    }
   ],
   "source": [
    "# %pip install rank_bm25\n",
    "from langchain.retrievers import EnsembleRetriever, BM25Retriever\n",
    "# we already imported the Qdrant vector store and OpenAI embeddings in a previous step\n",
    "\n",
    "bm25_retriever = BM25Retriever.from_documents(semantic_docs)\n",
    "\n",
    "# vector_store_2.from_documents(semantic_docs, OpenAIEmbeddings())\n",
    "vector_store_2_retriever = vector_store_2.as_retriever()\n",
    "\n",
    "# initialize the ensemble retriever\n",
    "ensemble_retriever = EnsembleRetriever(\n",
    "    retrievers=[bm25_retriever, vector_store_2_retriever], weights=[0.5, 0.5]\n",
    ")\n",
    "\n",
    "# adding the semantically split docs into the vector store\n",
    "vector_store_2_retriever.add_documents(semantic_docs)\n",
    "\n",
    "ensemble_retriever.invoke(\"How many credit hours is a major in Computer Science?\")"
   ]
  },
  {
   "cell_type": "markdown",
   "metadata": {},
   "source": [
    "We are going to have a base option that splits the text using just the RecursiveCharacterTextSplitter like the [original repo](https://github.com/yawbtng/SMUChatBot_Project/blob/main/main.py) does. From there, we're creating a third vector store collection to upload this text into using the vector store as the retriver."
   ]
  },
  {
   "cell_type": "code",
   "execution_count": 22,
   "metadata": {},
   "outputs": [
    {
     "name": "stdout",
     "output_type": "stream",
     "text": [
      "Southern Methodist University \n",
      "General Information \n",
      "Undergraduate Catalog  \n",
      "2023 -2024\n",
      "6481\n"
     ]
    }
   ],
   "source": [
    "base_text_splitter = RecursiveCharacterTextSplitter(chunk_size=500, chunk_overlap=50, \n",
    "                                                length_function=len, add_start_index=True)  \n",
    "\n",
    "normal_split_docs = base_text_splitter.split_documents(docs)\n",
    "\n",
    "# checking result\n",
    "print(normal_split_docs[0].page_content)\n",
    "print(len(normal_split_docs))"
   ]
  },
  {
   "cell_type": "code",
   "execution_count": 25,
   "metadata": {},
   "outputs": [
    {
     "data": {
      "text/plain": [
       "[Document(page_content='up to two computer science courses, not including CS 1341 or CS 1342.  \\nJunior Milestone (3 Credit Hours)  \\n• CRCP 4301 -  Junior Milestone  \\nSenior Capstone (3 Credit Hours)  \\n• CRCP 5301 -  Creative Computing Capstone  \\nor \\n• CS 5352 -  Senior Design II  \\nTotal for the Major Only: 36 Credit Hours  \\nCreative Computing Minor', metadata={'page': 697, 'source': 'C:/Users/yawbt/OneDrive/Documents/GitHub/SURF-Project_Optimizing-PerunaBot/Data/20232024 Undergraduate Catalog91123.pdf', 'start_index': 1294, '_id': '769036af-4b8d-4086-a710-46c9cc799b12', '_collection_name': 'smu-data_0'}),\n",
       " Document(page_content=\"Total for the Major Only: 60 Credit Hours  \\nNote:  All computer science majors must earn a grade of  C- or better in the computer science core courses and CS \\n2353 in fulfillment of the requirements for the major.  \\nComputer Science, B.S.  \\nSMU Degree Requirements  \\nAn SMU undergraduate degree requires a minimum of 120 credit hours and must include completion of the \\nUniversity's Common Curriculum, one major and a combination of electives and/or other majors or minors.\", metadata={'page': 530, 'source': 'C:/Users/yawbt/OneDrive/Documents/GitHub/SURF-Project_Optimizing-PerunaBot/Data/20232024 Undergraduate Catalog91123.pdf', 'start_index': 2077, '_id': 'c8c5727a-7613-4ada-95e3-f5960ca0bd2b', '_collection_name': 'smu-data_0'}),\n",
       " Document(page_content='General (9 credit hours)  \\nThree 3 -hour, 4000 -level or above CS courses approved by adviser  \\nResearch (9 credit hours)  \\n• CS 4397 -  Research Experience for Undergraduates  \\n• CS 5350 -  Algorithm Engineering  \\n• 3 credit hours of track electives approved by adviser  \\nSecurity (9 credit hours)  \\n• Select two of the following three courses:  \\no CS 3339 -  Information Assurance and Security  \\no CS 5339 -  Computer System Security   \\no CS 5349 -  Data and Network Security', metadata={'page': 532, 'source': 'C:/Users/yawbt/OneDrive/Documents/GitHub/SURF-Project_Optimizing-PerunaBot/Data/20232024 Undergraduate Catalog91123.pdf', 'start_index': 927, '_id': '815e60bc-f0f8-494e-91a8-d57133994f71', '_collection_name': 'smu-data_0'}),\n",
       " Document(page_content='602 \\n • CS 1341 -  Principles of Computer Science I  \\n   \\n• CS 1342 -  Principles of Computer Science II  \\n• 9 hours from OREM courses at the 5000 level or above  \\nBusiness (6 Credit Hours) \\n• ACCT 2301 -  Introduction to Financial Accounting  \\n• MKTG 3340 - Fundamentals of Marketing  \\nElectives (15 Credit Hours)  \\nAdviser must approve electives.  \\nTotal for the Major Only: 96 Credit Hours', metadata={'page': 601, 'source': 'C:/Users/yawbt/OneDrive/Documents/GitHub/SURF-Project_Optimizing-PerunaBot/Data/20232024 Undergraduate Catalog91123.pdf', 'start_index': 0, '_id': '73f16809-bbf4-4f70-912d-452d168a163d', '_collection_name': 'smu-data_0'})]"
      ]
     },
     "execution_count": 25,
     "metadata": {},
     "output_type": "execute_result"
    }
   ],
   "source": [
    "\n",
    "# getting the collection name of the third vector store\n",
    "qdrant_collection_0 = os.environ['QDRANT_COLLECTION_0']\n",
    "\n",
    "# creating the third vector store and retriever\n",
    "vector_store_0 = create_vectorstore(qdrant_collection_0)\n",
    "vector_store_0_retriever = vector_store_0.as_retriever()\n",
    "\n",
    "# adding the recursively split docs into the vector store\n",
    "vector_store_0_retriever.add_documents(normal_split_docs)\n",
    "\n",
    "# testing the retriever\n",
    "vector_store_0_retriever.invoke(\"How many credit hours is a major in Computer Science?\")"
   ]
  },
  {
   "cell_type": "markdown",
   "metadata": {},
   "source": [
    "## CSV Breakdown\n",
    "Now we are going to work on uploading the excel file of 115 FAQs into each vector database collection. There are multiple sheets within the excel file so we're going to have to turn each sheet into a CSV using the pandas library and then use langchain's CSV loader to turn them into langchain documents.\n",
    "\n",
    "The CSVs you see there now were created by iterating through the xlsx file so you can delete those if you want to see them being recreated (be careful not to delete the xlsx file)"
   ]
  },
  {
   "cell_type": "code",
   "execution_count": null,
   "metadata": {},
   "outputs": [],
   "source": [
    "# using the pandas library to work with the excel file and convert it to a data frame\n",
    "import pandas as pd\n",
    "\n",
    "# Load the Excel file\n",
    "excel_path = 'C:/Users/yawbt/OneDrive/Documents/GitHub/SURF-Project_Optimizing-PerunaBot/Data/SMU FAQs.xlsx'\n",
    "xlsx = pd.ExcelFile(excel_path)\n",
    "\n",
    "# checking to see if loading the file worked\n",
    "print(xlsx.sheet_names)\n",
    "\n",
    "# Iterate through each sheet and save as a CSV file\n",
    "csv_files = []\n",
    "for sheet_name in xlsx.sheet_names:\n",
    "    # Read the entire sheet to extract the metadata from cell A1\n",
    "    sheet_df = pd.read_excel(xlsx, sheet_name=sheet_name, header=None)\n",
    "    \n",
    "    # getting the link of the webpage to include as the metadata \n",
    "    metadata = sheet_df.iat[0, 0]\n",
    "    \n",
    "    # Read the sheet into a DataFrame starting from the second row\n",
    "    df = pd.read_excel(xlsx, sheet_name=sheet_name, skiprows=1)\n",
    "    \n",
    "    # Save the DataFrame to a CSV file\n",
    "    csv_path = f'C:/Users/yawbt/OneDrive/Documents/GitHub/SURF-Project_Optimizing-PerunaBot/Data/{sheet_name}.csv'\n",
    "    df.to_csv(csv_path, index=False)\n",
    "    csv_files.append((csv_path, metadata))\n",
    "\n",
    "# Display the list of generated CSV files and their metadata\n",
    "csv_files"
   ]
  },
  {
   "cell_type": "code",
   "execution_count": null,
   "metadata": {},
   "outputs": [],
   "source": [
    "# Now turning each csv into a langchain document\n",
    "from langchain.document_loaders import CSVLoader\n",
    "\n",
    "# Create LangChain documents from CSV files with metadata\n",
    "csv_documents = []\n",
    "\n",
    "for csv_path, metadata in csv_files:\n",
    "    loader = CSVLoader(file_path=csv_path)\n",
    "    csv_docs = loader.load()\n",
    "    for csv_doc in csv_docs:\n",
    "        csv_doc.metadata['source'] = metadata\n",
    "    csv_documents.extend(csv_docs)\n",
    "\n",
    "# Display the first document as an example\n",
    "print(csv_documents[0])"
   ]
  },
  {
   "cell_type": "markdown",
   "metadata": {},
   "source": [
    "Then lastly upload the csv documents into each vector store collection"
   ]
  },
  {
   "cell_type": "code",
   "execution_count": null,
   "metadata": {},
   "outputs": [],
   "source": [
    "# vector store collection 1 - uses parent/child text splitter with parent retriever\n",
    "parent_retriever.add_documents(csv_documents)"
   ]
  },
  {
   "cell_type": "code",
   "execution_count": null,
   "metadata": {},
   "outputs": [],
   "source": [
    "# vector store collection 2 - uses semantic text splitter (or chunker) with the ensemble retriever (BM25 + vector store as retriever)\n",
    "# uploaded to vector store using vector store as the retriever\n",
    "vector_store_2_retriever.add_documents(csv_documents)"
   ]
  },
  {
   "cell_type": "code",
   "execution_count": null,
   "metadata": {},
   "outputs": [],
   "source": [
    "# vector stoer collection 0 - uses the recursive chatacter text splitter with vector store as the retriever\n",
    "# base option from last project\n",
    "vector_store_0_retriever.add_documents(csv_documents)"
   ]
  }
 ],
 "metadata": {
  "kernelspec": {
   "display_name": "base",
   "language": "python",
   "name": "python3"
  },
  "language_info": {
   "codemirror_mode": {
    "name": "ipython",
    "version": 3
   },
   "file_extension": ".py",
   "mimetype": "text/x-python",
   "name": "python",
   "nbconvert_exporter": "python",
   "pygments_lexer": "ipython3",
   "version": "3.11.5"
  }
 },
 "nbformat": 4,
 "nbformat_minor": 2
}
