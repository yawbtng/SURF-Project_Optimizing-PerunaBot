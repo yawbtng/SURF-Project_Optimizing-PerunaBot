{
 "cells": [
  {
   "cell_type": "markdown",
   "metadata": {},
   "source": [
    "# Initial Set Up: Data Pre-processing Step\n",
    "This notebook is for the initial set up of the LLM application that will be the same for each model.\n",
    "\n",
    "The focus is on the data-pre processing step of the RAG pipeline and getting the data into the vector database.\n",
    "\n",
    "We need to put the data of the SMU Catalog of 2023-2024 into Qdrant which is a cloud vector database. This will allow the language model to access and retrieve the necessary information.\n",
    "\n",
    "There are many changes that can be done at this step to alter how the text goes into the vector database (ex: different text splitters, document loaders, retrievers, etc.)\n",
    "\n",
    "We will install some of the necessary dependancies now and the rest along the way throughout the notebook."
   ]
  },
  {
   "cell_type": "code",
   "execution_count": null,
   "metadata": {},
   "outputs": [],
   "source": [
    "%pip install openai pypdf qdrant-client langchain python-dotenv tiktoken langchain-openai pandas"
   ]
  },
  {
   "cell_type": "code",
   "execution_count": 1,
   "metadata": {},
   "outputs": [
    {
     "data": {
      "text/plain": [
       "True"
      ]
     },
     "execution_count": 1,
     "metadata": {},
     "output_type": "execute_result"
    }
   ],
   "source": [
    "# Set up to initialize API keys from .env file into the\n",
    "import os\n",
    "from dotenv import find_dotenv, load_dotenv\n",
    "\n",
    "# Load environment variables from the .env files\n",
    "load_dotenv(find_dotenv(filename='SURF-Project_Optimizing-PerunaBot/setup/.env'))"
   ]
  },
  {
   "cell_type": "markdown",
   "metadata": {},
   "source": [
    "## PDF Breakdown\n",
    "If you take a look at the pdfs in the data folder, just the catalog pdf alone is over 800 pages long! To upload it into the vector databse, we have to 1st get all the text from the documents.\n",
    "\n",
    "First we will do the PDFs, then later on the CSV of the FAQs with a different method."
   ]
  },
  {
   "cell_type": "code",
   "execution_count": 2,
   "metadata": {},
   "outputs": [
    {
     "name": "stdout",
     "output_type": "stream",
     "text": [
      "1015\n",
      " \n",
      " \n",
      " \n",
      " \n",
      " \n",
      " \n",
      "Southern Methodist University \n",
      "General Information \n",
      "Undergraduate Catalog  \n",
      "2023 -2024  \n",
      "{'source': 'C:/Users/yawbt/OneDrive/Documents/GitHub/SURF-Project_Optimizing-PerunaBot/Data/20232024 Undergraduate Catalog91123.pdf', 'page': 0}\n"
     ]
    }
   ],
   "source": [
    "# langchain imports\n",
    "from langchain.schema import Document\n",
    "from langchain_community.document_loaders import PyPDFLoader\n",
    "\n",
    "# file paths to the two PDFs we're using\n",
    "pdf_paths = ['C:/Users/yawbt/OneDrive/Documents/GitHub/SURF-Project_Optimizing-PerunaBot/Data/20232024 Undergraduate Catalog91123.pdf',\n",
    "             'C:/Users/yawbt/OneDrive/Documents/GitHub/SURF-Project_Optimizing-PerunaBot/Data/Official University Calendar 2023-2024.pdf',\n",
    "             'C:/Users/yawbt/OneDrive/Documents/GitHub/SURF-Project_Optimizing-PerunaBot/Data/2023_PerunaPassport.pdf',\n",
    "             'C:/Users/yawbt/OneDrive/Documents/GitHub/SURF-Project_Optimizing-PerunaBot/Data/SMU Student Handbook 23-24.pdf',\n",
    "             'C:/Users/yawbt/OneDrive/Documents/GitHub/SURF-Project_Optimizing-PerunaBot/Data/SMUCampusGuideFactsMap.pdf'\n",
    "             ]\n",
    "\n",
    "def load_pdfs_with_langchain(pdf_paths):\n",
    "    documents = []\n",
    "    for path in pdf_paths:\n",
    "        try:\n",
    "            # Use LangChain's PyPDFLoader to load the PDF\n",
    "            loader = PyPDFLoader(path)\n",
    "            # Load and pase the PDF into document instances\n",
    "            pdf_doc = loader.load()\n",
    "            # Insert pdf into documents list variable\n",
    "            documents.extend(pdf_doc)\n",
    "        except Exception as e:\n",
    "            print(f\"Error loading {path}: {e}\")\n",
    "    return documents\n",
    "\n",
    "#Load PDF documents using the function\n",
    "docs = load_pdfs_with_langchain(pdf_paths)\n",
    "\n",
    "print(len(docs))\n",
    "print(docs[0].page_content[0:100])\n",
    "print(docs[0].metadata)"
   ]
  },
  {
   "cell_type": "markdown",
   "metadata": {},
   "source": [
    "Here we are initializing an API connection to the Qdrant vector database from https://qdrant.tech/"
   ]
  },
  {
   "cell_type": "code",
   "execution_count": 3,
   "metadata": {},
   "outputs": [],
   "source": [
    "from qdrant_client import qdrant_client\n",
    "from qdrant_client.http import models"
   ]
  },
  {
   "cell_type": "code",
   "execution_count": 4,
   "metadata": {},
   "outputs": [],
   "source": [
    "# Initializing Qdrant host URL and API key\n",
    "qdrant_host = os.environ['QDRANT_HOST']\n",
    "qdrant_api_key = os.environ['QDRANT_API_KEY']\n",
    "\n",
    "#Initialize Qdrant Client\n",
    "client = qdrant_client.QdrantClient(\n",
    "    url=qdrant_host, \n",
    "    api_key = qdrant_api_key,\n",
    ")"
   ]
  },
  {
   "cell_type": "markdown",
   "metadata": {},
   "source": [
    "Now we are going to create the 1st collection of vectors and the vectorstore inside the database. Eventually, we will have more than one collection to see how changes to how the data is uploaded and retrieved affects the accuracy and other evaluation metrics.\n",
    "\n",
    "This is a very important step because an LLM application is only as good as its data and the documents it retrieves to create an answer.\n",
    "\n",
    "Since we will have more than one collection within the vector database, we will just create a function that will allow us to create a new vectorstore collection when needed."
   ]
  },
  {
   "cell_type": "code",
   "execution_count": 5,
   "metadata": {},
   "outputs": [],
   "source": [
    "# function to create a vector store based on the collection name\n",
    "from langchain_openai import OpenAIEmbeddings\n",
    "from langchain_qdrant import Qdrant\n",
    "\n",
    "# Initializing OpenAI API key for embeddings and later use\n",
    "openai_api_key = os.environ['OPENAI_API_KEY']\n",
    "\n",
    "def create_vectorstore(qdrant_collection_name):\n",
    "    \n",
    "    vectors_config = models.VectorParams(\n",
    "   size=1536, #for OpenAI\n",
    "   distance=models.Distance.COSINE\n",
    "   )\n",
    "    \n",
    "    client.create_collection(\n",
    "   collection_name = qdrant_collection_name,\n",
    "   vectors_config=vectors_config,   \n",
    "    )\n",
    "\n",
    "    vector_store = Qdrant(\n",
    "        client=client, \n",
    "        collection_name=qdrant_collection_name, \n",
    "        embeddings=OpenAIEmbeddings(),\n",
    "    )\n",
    "  \n",
    "    return vector_store"
   ]
  },
  {
   "cell_type": "code",
   "execution_count": 8,
   "metadata": {},
   "outputs": [],
   "source": [
    "# create 1st collection of vectors\n",
    "\n",
    "qdrant_collection_1 = os.environ['QDRANT_COLLECTION_1']\n",
    "vector_store_1 = create_vectorstore(qdrant_collection_1)"
   ]
  },
  {
   "cell_type": "markdown",
   "metadata": {},
   "source": [
    "This is where the experiment begins! Now we have all the text from the pdfs in the pdfs_doc_text variable, the text needs to be split into chunks using langchain text splitters to be turned into vectors using the OpenAI Embeddings Model.\n",
    "\n",
    "We are going to test two methods:\n",
    "1. Parent Doucment Retriever method with the **RecursiveCharacterTextSplitter**\n",
    "\n",
    "2. Semantic Chunking method using the **Semantic Text Splitter**\n",
    "\n",
    "Since this will generate two different types of chunks, we will but them in two different collections within the vector database."
   ]
  },
  {
   "cell_type": "code",
   "execution_count": 9,
   "metadata": {},
   "outputs": [
    {
     "data": {
      "text/plain": [
       "[Document(page_content='Lyle to meet AME or Leadership requirements with adviser approval.  \\nComputer Science Minor \\nA student majoring in computer engineering may not minor in computer science.  \\nRequirements for the Minor  \\nThe following computer science courses are required:  \\n• CS 1341 -  Principles of Computer Science I  \\n• CS 1342 -  Principles of Computer Science II  \\n• CS 2341 -  Data Structures  \\n• CS 2353 -  Discrete Computational Structures  \\nElective Courses \\nElective courses can be any six hours of CS  courses numbered 3000 or above as approved by the computer science \\nminor adviser.  \\nTotal: 18 Credit Hours  \\nComputer Science Courses  \\nCS 1340 -  Introduction to Computing Concepts  \\nCredits:  3', metadata={'source': 'C:/Users/yawbt/OneDrive/Documents/GitHub/SURF-Project_Optimizing-PerunaBot/Data/20232024 Undergraduate Catalog91123.pdf', 'page': 533, 'start_index': 1391}),\n",
       " Document(page_content='Senior Capstone (3 Credit Hours)  \\n• CRCP 5301 -  Creative Computing Capstone  \\nor \\n• CS 5352 -  Senior Design II  \\nTotal for the Major Only: 36 Credit Hours  \\nCreative Computing Minor \\nThe minor in creative computing is highly interdisciplinary, championing a \"whole brain\" approach. Combining study, creative practice and research, students explore computing as a universal creative medium, integrating \\naesthetic principles and practices fr om the arts with analytical theories and processes from computer science and \\nengineering.', metadata={'source': 'C:/Users/yawbt/OneDrive/Documents/GitHub/SURF-Project_Optimizing-PerunaBot/Data/20232024 Undergraduate Catalog91123.pdf', 'page': 697, 'start_index': 1436}),\n",
       " Document(page_content=\"at least one academic year  prior to expected graduation.  \\nTotal for the Major Only: 41-42 Credit Hours  \\nNotes:  \\n• Experience with a modern scientific computing language and geographic information systems is essential \\nand can be gained in a course such as GEOL 3359 -  Computer Methods in Earth Sciences.  \\n• The requirements for the Earth sciences major are considered minimal. Students planning careers in the \\nEarth sciences should take additional coursework according to the geoscience emphasis that best fits their \\ngoals. Students should consult a faculty advis er for suggestions.  \\nEarth Sciences, B.S \\nEarth science is an interdisciplinary, applied science that explains how Earth's interior, surface, and atmospheric\", metadata={'source': 'C:/Users/yawbt/OneDrive/Documents/GitHub/SURF-Project_Optimizing-PerunaBot/Data/20232024 Undergraduate Catalog91123.pdf', 'page': 158, 'start_index': 1358}),\n",
       " Document(page_content=\"requirement may not also meet a CS elective requirement.  \\nTotal for the Major Only: 60 Credit Hours  \\nNote:  All computer science majors must earn a grade of  C- or better in the computer science core courses and CS \\n2353 in fulfillment of the requirements for the major.  \\nComputer Science, B.S.  \\nSMU Degree Requirements  \\nAn SMU undergraduate degree requires a minimum of 120 credit hours and must include completion of the \\nUniversity's Common Curriculum, one major and a combination of electives and/or other majors or minors. \\nCompletion of certain majors requires more than 120 hours to finish the degree. The credit hours within this curriculum are distributed as follows:\", metadata={'source': 'C:/Users/yawbt/OneDrive/Documents/GitHub/SURF-Project_Optimizing-PerunaBot/Data/20232024 Undergraduate Catalog91123.pdf', 'page': 530, 'start_index': 2018})]"
      ]
     },
     "execution_count": 9,
     "metadata": {},
     "output_type": "execute_result"
    }
   ],
   "source": [
    "# Parent Document Retriever Method\n",
    "from langchain.text_splitter import RecursiveCharacterTextSplitter\n",
    "from langchain.retrievers import ParentDocumentRetriever\n",
    "from langchain.storage import InMemoryStore\n",
    "\n",
    "child_splitter = RecursiveCharacterTextSplitter(chunk_size=250, chunk_overlap=25, \n",
    "                                                length_function=len, add_start_index=True) \n",
    "\n",
    "parent_splitter = RecursiveCharacterTextSplitter(chunk_size=750, chunk_overlap=50, \n",
    "                                                length_function=len, add_start_index=True)  \n",
    "\n",
    "# storage for parent splitter\n",
    "store = InMemoryStore()\n",
    "\n",
    "# retriever\n",
    "parent_retriever = ParentDocumentRetriever(\n",
    "    vectorstore=vector_store_1, \n",
    "    docstore=store, \n",
    "    child_splitter=child_splitter,\n",
    "    parent_splitter=parent_splitter,\n",
    "    )\n",
    "# adding  documents into the Qdrant vector database in the 1st collection\n",
    "parent_retriever.add_documents(docs)\n",
    "\n",
    "# testing the retriever\n",
    "parent_retriever.invoke(\"How many credit hours is a major in Computer Science?\")\n"
   ]
  },
  {
   "cell_type": "markdown",
   "metadata": {},
   "source": [
    "Now for the 2nd method using the Semantic Text Splitter which splits the text based on the meaning within each sentence for more granular control of retrieval.\n",
    "\n",
    "For this one, we will use the Ensemble Retriever which allows us to combine the results of multiple retrievers, giving them different weights. Within the Ensemble retriever we will use: \n",
    "\n",
    "- BM25 Retriever which a retrieval method used by search engines\n",
    "- Base retriever that comes with using the vectorstore as a retriever\n"
   ]
  },
  {
   "cell_type": "code",
   "execution_count": 10,
   "metadata": {},
   "outputs": [
    {
     "name": "stdout",
     "output_type": "stream",
     "text": [
      " \n",
      " \n",
      " \n",
      " \n",
      " \n",
      " \n",
      "Southern Methodist University \n",
      "General Information \n",
      "Undergraduate Catalog  \n",
      "2023 -2024   \n",
      "2444\n"
     ]
    }
   ],
   "source": [
    "# semantic text splitting method\n",
    "# do '%pip install langchain_experimental' if needed\n",
    "from langchain_experimental.text_splitter import SemanticChunker\n",
    "from langchain_openai.embeddings import OpenAIEmbeddings\n",
    "\n",
    "semantic_text_splitter = SemanticChunker(\n",
    "    OpenAIEmbeddings(), \n",
    "    breakpoint_threshold_type=\"percentile\")\n",
    "\n",
    "semantic_docs = semantic_text_splitter.split_documents(docs)\n",
    "print(semantic_docs[0].page_content)\n",
    "print(len(semantic_docs))\n"
   ]
  },
  {
   "cell_type": "code",
   "execution_count": 11,
   "metadata": {},
   "outputs": [],
   "source": [
    "# creating another instance of a vector store with a new collection using the function we made earlier\n",
    "qdrant_collection_2 = os.environ['QDRANT_COLLECTION_2']\n",
    "vector_store_2 = create_vectorstore(qdrant_collection_2)"
   ]
  },
  {
   "cell_type": "code",
   "execution_count": 12,
   "metadata": {},
   "outputs": [
    {
     "data": {
      "text/plain": [
       "[Document(page_content=\"555 \\n Electrical and Computer Engineering, B.S.E.C.E., with a \\nSpecialization in Electrical Engineering  \\nThe electrical and computer engineering curriculum is administered by the Department of Electrical and Computer \\nEngineering. SMU Degree Requirements  \\nAn SMU undergraduate degree requires a minimum of 120 credit hours and must include completion of the \\nUniversity's Common Curriculum, one major and a combination of electives and/or other majors or minors. Completion of certain majors requires more than 120 hours to finish the degree.\", metadata={'source': 'C:/Users/yawbt/OneDrive/Documents/GitHub/SURF-Project_Optimizing-PerunaBot/Data/20232024 Undergraduate Catalog91123.pdf', 'page': 554}),\n",
       " Document(page_content=\"Students may pursue a second degree program in math or physics. Students wishing to obtain a second degree in mathematics or physics should contact the respective departments in Dedman College to discuss the requirements. Electrical and Computer Engineering, B.S.E.C.E. The electrical and computer engineering curriculum is administered by the Department of Electrical and Computer Engineering. SMU Degree Requirements  \\nAn SMU undergraduate degree requires a minimum of 120 credit hours and must include completion of the University's Common Curriculum, one major and a combination of electives and/or other majors or minors. Completion of certain majors requires more than 120 hours to finish the degree. The credit hours within this curriculum are distributed as follows: \\nRequirements for the Major  \\nMathematics and Science (31 Credit Hours)  \\n• MATH 1337 - Calculus I  and MATH 1338 -  Calculus II   \\nor \\n• MATH 1340 - Consolidated Calculus  \\n   \\n• MATH 3304 - Introduction to Linear Algebra  \\n• ECE 3360 -  Statistical Methods in Electrical and Computer Engineering  \\n• PHYS 1303 -  Introductory Mechanics  \\n• PHYS 1304 -  Introductory Electricity and Magnetism  \\n   \\n• PHYS 1105 -  Mechanics Laboratory  \\nor \\n• PHYS 1106 -  Electricity and Magnetism Laboratory  \\nSix credit hours of advanced math or science electives  \\nChoose two (2) from the following:  \\n• CHEM 1303 -  General Chemistry  \", metadata={'source': 'C:/Users/yawbt/OneDrive/Documents/GitHub/SURF-Project_Optimizing-PerunaBot/Data/20232024 Undergraduate Catalog91123.pdf', 'page': 549}),\n",
       " Document(page_content=\"Data Science, B.S. Today's world is data -driven. Data science is an exciting field, with its emphasis on using data to describe and \\nunderstand the world around us. It applies ideas and methods from statistics, computer science, and optimization to find innovative solutions t o important problems in many areas. Graduates that combine data science knowledge with \\nfields like management science, humanities, social sciences, or engineering are in high demand. The major in data science requires a minimum of 36 credit hours (12 courses). Given the interdisciplinary nature of \\nthe study of data science, students are required to take another  major in any discipline. The data science major \\ncannot be the first major declared by a student. Students obtaining a B.S. degree in data science may not also obtain \\na B.A. degree in mathematics. Admission to a Data Science Major  \\nTo declare the major, students must complete  two calculus classes, one of which must be  MATH 1338 - Calculus \\nII or MATH 1340 - Consolidated Calculus, and the three data science core courses with an overall B  average. SMU Degree Requirements  \\nAn SMU undergraduate degree requires a minimum of 120 credit hours and must include completion of the University's Common Curriculum, one major and a combination of electives and/or other majors or minors. Completion of certain majors requires more than 120 hours to finish the degree. The credit hours within this \\ncurriculum are distributed as follows: \\nRequirements for the Major  \\nCore Courses (18 Credit Hours)  \\nMathematics (9 Credit Hours)  \\n• MATH 1337 - Calculus I  \\nor \\n• MATH 1309 - Introduction to Calculus for Business and Social Science  \\n   \\n• MATH 1338 - Calculus II  \\nor \\n• MATH 1340 - Consolidated Calculus  \\n   \\n• MATH 3304 - Introduction to Linear Algebra  \", metadata={'source': 'C:/Users/yawbt/OneDrive/Documents/GitHub/SURF-Project_Optimizing-PerunaBot/Data/20232024 Undergraduate Catalog91123.pdf', 'page': 356}),\n",
       " Document(page_content=\"The critical thinking skills developed in the major and minors are of benefit to students in many \\ndisciplines and are especially useful as preparation for law s chool. The department offers a B.A. in philosophy and minors in philosophy and in ethics. Courses include core areas of philosophy and specialized topics such as animal rights, philosophy of law and philosophy of mind. The department also jointly operates two interdisciplinary minors in cognitive science  (with Psychology) and neuroscience  (with \\nBiology and Psychology). Departmental Distinction  \\nDepartmental distinction is awarded to philosophy majors graduating with at least a 3.5 GPA in philosophy and who successfully complete a writing project under the guidance of a faculty member. Philosophy, B.A. The B.A. degree in philosophy requires 30 credit hours of coursework in philosophy, including at least 21 credit \\nhours in advanced courses (3000- level and above). The 30 hours must include PHIL 1301, PHIL 3351, PHIL 3352; \\nat least one course from the seque nce PHIL 3311 –PHIL 3329; and at least one course from the sequence PHIL 3370 \\n- PHIL 3389 or PHIL 3363. SMU Degree Requirements  \\nAn SMU undergraduate degree requires a minimum of 120 credit hours and must include completion of the \\nUniversity's Common Curriculum, one major and a combination of electives and/or other majors or minors. Completion of certain majors requires more than 120 hours to finish the degree. The credit hours within this \\ncurriculum are distributed as follows: \\nRequirements for the Major  \\nCore Courses (15 Credit Hours)  \\n• PHIL 1301 - Elementary Logic \\n• PHIL 3351 - History of Western Philosophy (Ancient)  \\n• PHIL 3352 - History of Western Philosophy (Modern)  \\nMetaphysics and Epistemology (3 Credit Hours)  \\nOne course from the following:  \\n• PHIL 3312 - Introduction to Philosophy of Language  \\n• PHIL 3313 - Knowledge and Skepticism  \\n• PHIL 3314 - Metaphysics  \", metadata={'source': 'C:/Users/yawbt/OneDrive/Documents/GitHub/SURF-Project_Optimizing-PerunaBot/Data/20232024 Undergraduate Catalog91123.pdf', 'page': 290}),\n",
       " Document(page_content='173 \\n Computer Science and Engineering (3 Credit Hours)  \\nOne course from the following: \\n• CS 1340 -  Introduction to Computing Concepts  \\n• CS 1341 -  Principles of Computer Science I  \\n• ITOM 3306 -  Operations Management  (for Cox majors and minors only)  \\nAccounting (6 Credit Hours)  \\n• ACCT 2301 -  Introduction to Financial Accounting  \\n• ACCT 2302 -  Introduction to Managerial Accounting  \\nAdvanced Economics Elective Courses (18 Credit Hours)  \\nSix courses from the list below:   \\n• ECO 4301 -  Topics  \\n• ECO 4330 -  Economics of Human Rights  \\n• ECO 4337 -  Urban Economics  \\n• ECO 4340 -  Cultural Economics  \\n• ECO 4341 -  Strategic Behavior  \\n• ECO 4342 -  Experimental and Behavioral Economics  \\n• ECO 4343 -  Decision -Making Under Uncertainty  \\n• ECO 4345 -  Ethics in Economics  \\n• ECO 4350 -  Introductory Econometrics  \\n• ECO 4351 -  Labor Economics  \\n• ECO 4353 -  Law and Economics  \\n• ECO 4354 -  Economic and Business Forecasting  \\n• ECO 4355 -  Environmental Economics  \\n• ECO 4356 -  Causal Inference in Economics  \\n• ECO 4357 -  International Trade  \\n• ECO 4358 -  International Macroeconomic Theory and Policy \\n• ECO 4360 -  Economic Development: Macroeconomic Perspectives  \\n• ECO 4361 -  Economics of Education  \\n• ECO 4362 -  Economic Growth \\n• ECO 4363 -  Political Economy  \\n• ECO 4366 -  Public Sector Taxation  \\n• ECO 4367 -  Public Sector Expenditures  \\n• ECO 4370 -  Computing for Economics  \\n• ECO 4371 -  Theory of Industrial Structure  \\n• ECO 4376 -  Special Topics in Economic History and Development  \\n• ECO 4382 -  Economics of Regulated Industries  \\n• ECO 4385 -  Macroeconomics: Theory and Policy  \\n• ECO 4386 -  Topics in Monetary Economics  \\n• ECO 4390 -  Independent Study in Economics  \\n• ECO 4398 -  Departmental Distinction in Economics  \\nTotal for the Major Only: 54 Credit Hours  \\nEconomics, B.A. The B.A.', metadata={'page': 172, 'source': 'C:/Users/yawbt/OneDrive/Documents/GitHub/SURF-Project_Optimizing-PerunaBot/Data/20232024 Undergraduate Catalog91123.pdf', '_id': 'c10e437f-2f53-41d3-a458-7426b46ce9c4', '_collection_name': 'smu-data_2'}),\n",
       " Document(page_content=\"No more than 6 hours of courses \\noutside Lyle may be used toward this requirement. Other courses at the 3000 level or above may be \\npetitioned to meet this requirement with prior approval by advisor. CS courses used to meet this \\nrequirement may not also meet a CS elective requirement. Total for the Major Only: 60 Credit Hours  \\nNote:  All computer science majors must earn a grade of  C- or better in the computer science core courses and CS \\n2353 in fulfillment of the requirements for the major. Computer Science, B.S. SMU Degree Requirements  \\nAn SMU undergraduate degree requires a minimum of 120 credit hours and must include completion of the \\nUniversity's Common Curriculum, one major and a combination of electives and/or other majors or minors. Completion of certain majors requires more than 120 hours to finish the degree. The credit hours within this curriculum are distributed as follows: \", metadata={'page': 530, 'source': 'C:/Users/yawbt/OneDrive/Documents/GitHub/SURF-Project_Optimizing-PerunaBot/Data/20232024 Undergraduate Catalog91123.pdf', '_id': 'e9edb051-3cd6-41ce-84de-6edd0025ec00', '_collection_name': 'smu-data_2'}),\n",
       " Document(page_content='The credit hours within this curriculum are distributed as follows: \\nRequirements for the Major  \\nMathematics and Science (31 Credit Hours)  \\n• MATH 1337 - Calculus I  and MATH 1338 -  Calculus II  \\nor \\n• MATH 1340 - Consolidated Calculus   (will receive credit for MATH 1337 upon successful completion of \\nthis course)  \\n   \\n• MATH 3304 - Introduction to Linear Algebra  \\n• MATH 3308 - Introduction to Discrete Mathematics/CS 2353 -  Discrete Computational Structure   \\n• MATH 3315 - Introduction to Scientific Computing  \\n• ECE 3360 -  Statistical Methods in Electrical and Computer Engineering  \\n• PHYS 1303 -  Introductory Mechanics  \\n• PHYS 1304 -  Introductory Electricity and Magnetism  \\n   \\n• PHYS 1105 -  Mechanics Laboratory  \\nor \\n• PHYS 1106 -  Electricity and Magnetism Laboratory  \\nSix credit hours of advanced math or science electives:  \\n• BIOL 1301 -  Introductory Biology  \\n• BIOL 1302 -  Introductory Biology  \\n• CHEM 1303 -  General Chemistry  \\n• CHEM 1304 -  General Chemistry  \\n• MATH 3302 - Calculus III: Multi– Variable and Vector Calculus  \\n• MATH 3313 - Ordinary Differential Equations  \\n• MATH 4325 - Introduction to Dynamical Systems  \\n• PHYS 3305 -  Introduction to Modern Physics  \\n• PHYS 3344 -  Classical Mechanics  \\n• PHYS 3374 -  Thermodynamics and Statistical Mechanics  \\nCredit will not be given for both CS 2353 and MATH 3308. Core Computer Science (9 Credit Hours)  \\n• CS 1340 -  Introduction to Computing Concepts  \\n• CS 1342 -  Principles of Computer Science II  \\n• CS 2341 -  Data Structures  \\nCore Electrical and Computer Engineering (23 Credit Hours)  \\n• ECE 1350 -  Introduction to Electrical and Computer Engineering  \\n   \\n• ECE 1381 -  Microcontrollers and Embedded Systems  \\n• ECE 1181 -  ECE Laboratory: Microcontrollers and Embedded Systems  \\n   \\n• ECE 2370 -  Design and Analysis of Signals and Systems  \\n• ECE 2170 -  Design and Analysis of Signals and Systems Lab \\n   ', metadata={'page': 556, 'source': 'C:/Users/yawbt/OneDrive/Documents/GitHub/SURF-Project_Optimizing-PerunaBot/Data/20232024 Undergraduate Catalog91123.pdf', '_id': '930ec492-85f8-4cd6-a114-d93fc9f1aa74', '_collection_name': 'smu-data_2'}),\n",
       " Document(page_content='532 \\n Requirements for the Major  \\nMathematics and Science (24-26 Credit Hours) \\n• MATH 1337 - Calculus I  and MATH 1338 -  Calculus II   \\nor \\n• MATH 1340 - Consolidated Calculus  \\n   \\n• MATH 3304 - Introduction to Linear Algebra  \\n• CS 2353 -  Discrete Computational Structures  \\n• CS 4340 -  Statistical Methods for Engineers and Applied Scientists  (Students may fulfill the CS \\n4340 requirement by taking any one of CS 4340/STAT 4340, or  OREM 3340.)  \\n• One 3000- level or higher MATH or STAT course (3 credit hours)  \\nTwo courses  \\nBoth courses must be selected from the same content area. Content Area 1, Biology  \\n• BIOL 1301 -  Introductory Biology/BIOL 1101 -  Introductory Biology Lab  \\n• BIOL 1302 -  Introductory Biology/BIOL 1102 -  Introductory Biology Lab  \\nContent Area 2, Chemistry  \\n• CHEM 1303 -  General Chemistry/CHEM 1113 -  General Chemistry Laboratory  \\n• CHEM 1304 -  General Chemistry/CHEM 1114 -  General Chemistry Laboratory  \\nContent Area 3, Geology  \\n• GEOL 1301 - Earth Systems  \\n• GEOL 1305 - Oceanography  \\n• GEOL 1307 - The Solar System  \\n• GEOL 1313 - Earthquakes and Volcanoes  \\n• GEOL 1315 - Introduction to Environmental Science  \\nContent Area 4, Physics  \\n• PHYS 1303 -  Introductory Mechanics/PHYS 1105 -  Mechanics Laboratory   \\n• PHYS 1304 -  Introductory Electricity and Magnetism/PHYS 1106 -  Electricity and Magnetism Laboratory   \\n• PHYS 3305 -  Introduction to Modern Physics  \\nComputer Science Core (33 Credit Hours)  \\n• CS 1341 -  Principles of Computer Science I  \\n• CS 1342 -  Principles of Computer Science II  \\n• CS 2340 -  Computer Organization \\n• CS 2341 -  Data Structures  \\n• CS 3341 -  Foundations of Modern Computing  \\n• CS 3353 -  Fundamentals of Algorithms  \\n• CS 5328 -  Software Engineering  \\n• CS 5330 -  Databases  \\n• CS 5343 -  Operating Systems \\n• CS 5344 -  Computer Networks and Distributed Systems  \\n• CS 5351 -  Senior Design  \\nTechnical Electives (9 Credit Hours)  \\nNine credit hours of CS courses at the 3000 level or above as approved by the adviser. The adviser may approve \\nother sufficiently technical courses from other departments to satisfy the Technical elective requirements.', metadata={'page': 531, 'source': 'C:/Users/yawbt/OneDrive/Documents/GitHub/SURF-Project_Optimizing-PerunaBot/Data/20232024 Undergraduate Catalog91123.pdf', '_id': 'e2e36412-d3d8-48f7-a9a7-20a485139d3e', '_collection_name': 'smu-data_2'})]"
      ]
     },
     "execution_count": 12,
     "metadata": {},
     "output_type": "execute_result"
    }
   ],
   "source": [
    "# %pip install rank_bm25\n",
    "from langchain.retrievers import EnsembleRetriever, BM25Retriever\n",
    "# we already imported the Qdrant vector store and OpenAI embeddings in a previous step\n",
    "\n",
    "bm25_retriever = BM25Retriever.from_documents(semantic_docs)\n",
    "\n",
    "# vector_store_2.from_documents(semantic_docs, OpenAIEmbeddings())\n",
    "vector_store_2_retriever = vector_store_2.as_retriever()\n",
    "\n",
    "# initialize the ensemble retriever\n",
    "ensemble_retriever = EnsembleRetriever(\n",
    "    retrievers=[bm25_retriever, vector_store_2_retriever], weights=[0.7, 0.3]\n",
    ")\n",
    "\n",
    "# adding the semantically split docs into the vector store\n",
    "vector_store_2_retriever.add_documents(semantic_docs)\n",
    "\n",
    "ensemble_retriever.invoke(\"How many credit hours is a major in Computer Science?\")"
   ]
  },
  {
   "cell_type": "markdown",
   "metadata": {},
   "source": [
    "We are going to have a base option that splits the text using just the RecursiveCharacterTextSplitter like the [original repo](https://github.com/yawbtng/SMUChatBot_Project/blob/main/main.py) does. From there, we're creating a third vector store collection to upload this text into using the vector store as the retriver."
   ]
  },
  {
   "cell_type": "code",
   "execution_count": 13,
   "metadata": {},
   "outputs": [
    {
     "name": "stdout",
     "output_type": "stream",
     "text": [
      "Southern Methodist University \n",
      "General Information \n",
      "Undergraduate Catalog  \n",
      "2023 -2024\n",
      "7323\n"
     ]
    }
   ],
   "source": [
    "base_text_splitter = RecursiveCharacterTextSplitter(chunk_size=500, chunk_overlap=50, \n",
    "                                                length_function=len, add_start_index=True)  \n",
    "\n",
    "normal_split_docs = base_text_splitter.split_documents(docs)\n",
    "\n",
    "# checking result\n",
    "print(normal_split_docs[0].page_content)\n",
    "print(len(normal_split_docs))"
   ]
  },
  {
   "cell_type": "code",
   "execution_count": 14,
   "metadata": {},
   "outputs": [
    {
     "data": {
      "text/plain": [
       "[Document(page_content='up to two computer science courses, not including CS 1341 or CS 1342.  \\nJunior Milestone (3 Credit Hours)  \\n• CRCP 4301 -  Junior Milestone  \\nSenior Capstone (3 Credit Hours)  \\n• CRCP 5301 -  Creative Computing Capstone  \\nor \\n• CS 5352 -  Senior Design II  \\nTotal for the Major Only: 36 Credit Hours  \\nCreative Computing Minor', metadata={'page': 697, 'source': 'C:/Users/yawbt/OneDrive/Documents/GitHub/SURF-Project_Optimizing-PerunaBot/Data/20232024 Undergraduate Catalog91123.pdf', 'start_index': 1294, '_id': '2bd28e21-1e15-4a49-bceb-80ea1fd56536', '_collection_name': 'smu-data_0'}),\n",
       " Document(page_content=\"Total for the Major Only: 60 Credit Hours  \\nNote:  All computer science majors must earn a grade of  C- or better in the computer science core courses and CS \\n2353 in fulfillment of the requirements for the major.  \\nComputer Science, B.S.  \\nSMU Degree Requirements  \\nAn SMU undergraduate degree requires a minimum of 120 credit hours and must include completion of the \\nUniversity's Common Curriculum, one major and a combination of electives and/or other majors or minors.\", metadata={'page': 530, 'source': 'C:/Users/yawbt/OneDrive/Documents/GitHub/SURF-Project_Optimizing-PerunaBot/Data/20232024 Undergraduate Catalog91123.pdf', 'start_index': 2077, '_id': '7e612ffc-0f11-4fa4-92c7-8ef3c61f8009', '_collection_name': 'smu-data_0'}),\n",
       " Document(page_content='General (9 credit hours)  \\nThree 3 -hour, 4000 -level or above CS courses approved by adviser  \\nResearch (9 credit hours)  \\n• CS 4397 -  Research Experience for Undergraduates  \\n• CS 5350 -  Algorithm Engineering  \\n• 3 credit hours of track electives approved by adviser  \\nSecurity (9 credit hours)  \\n• Select two of the following three courses:  \\no CS 3339 -  Information Assurance and Security  \\no CS 5339 -  Computer System Security   \\no CS 5349 -  Data and Network Security', metadata={'page': 532, 'source': 'C:/Users/yawbt/OneDrive/Documents/GitHub/SURF-Project_Optimizing-PerunaBot/Data/20232024 Undergraduate Catalog91123.pdf', 'start_index': 927, '_id': '093c4f0b-c440-4435-a708-67101cbd8fbb', '_collection_name': 'smu-data_0'}),\n",
       " Document(page_content='602 \\n • CS 1341 -  Principles of Computer Science I  \\n   \\n• CS 1342 -  Principles of Computer Science II  \\n• 9 hours from OREM courses at the 5000 level or above  \\nBusiness (6 Credit Hours) \\n• ACCT 2301 -  Introduction to Financial Accounting  \\n• MKTG 3340 - Fundamentals of Marketing  \\nElectives (15 Credit Hours)  \\nAdviser must approve electives.  \\nTotal for the Major Only: 96 Credit Hours', metadata={'page': 601, 'source': 'C:/Users/yawbt/OneDrive/Documents/GitHub/SURF-Project_Optimizing-PerunaBot/Data/20232024 Undergraduate Catalog91123.pdf', 'start_index': 0, '_id': '7a1d34d7-8946-4a8c-8453-5e04c6d579ab', '_collection_name': 'smu-data_0'})]"
      ]
     },
     "execution_count": 14,
     "metadata": {},
     "output_type": "execute_result"
    }
   ],
   "source": [
    "\n",
    "# getting the collection name of the third vector store\n",
    "qdrant_collection_0 = os.environ['QDRANT_COLLECTION_0']\n",
    "\n",
    "# creating the third vector store and retriever\n",
    "vector_store_0 = create_vectorstore(qdrant_collection_0)\n",
    "vector_store_0_retriever = vector_store_0.as_retriever()\n",
    "\n",
    "# adding the recursively split docs into the vector store\n",
    "vector_store_0_retriever.add_documents(normal_split_docs)\n",
    "\n",
    "# testing the retriever\n",
    "vector_store_0_retriever.invoke(\"How many credit hours is a major in Computer Science?\")"
   ]
  },
  {
   "cell_type": "markdown",
   "metadata": {},
   "source": [
    "## CSV Breakdown\n",
    "Now we are going to work on uploading the excel file of 115 FAQs into each vector database collection. There are multiple sheets within the excel file so we're going to have to turn each sheet into a CSV using the pandas library and then use langchain's CSV loader to turn them into langchain documents.\n",
    "\n",
    "The CSVs you see there now were created by iterating through the xlsx file so you can delete those if you want to see them being recreated (be careful not to delete the xlsx file)"
   ]
  },
  {
   "cell_type": "code",
   "execution_count": 15,
   "metadata": {},
   "outputs": [
    {
     "name": "stdout",
     "output_type": "stream",
     "text": [
      "['University Advising Center FAQs', 'Student Financial Services FAQs', 'Parent FAQs', 'SMU Experience FAQs', 'UG Admissions Academics FAQs']\n"
     ]
    },
    {
     "data": {
      "text/plain": [
       "[('C:/Users/yawbt/OneDrive/Documents/GitHub/SURF-Project_Optimizing-PerunaBot/Data/University Advising Center FAQs.csv',\n",
       "  'https://www.smu.edu/provost/saes/academic-support/university-advising-center/frequently-asked-questions'),\n",
       " ('C:/Users/yawbt/OneDrive/Documents/GitHub/SURF-Project_Optimizing-PerunaBot/Data/Student Financial Services FAQs.csv',\n",
       "  'https://www.smu.edu/provost/saes/academic-support/student-academic-success/faq'),\n",
       " ('C:/Users/yawbt/OneDrive/Documents/GitHub/SURF-Project_Optimizing-PerunaBot/Data/Parent FAQs.csv',\n",
       "  'https://www.smu.edu/provost/saes/academic-support/university-advising-center/incoming-students/for-parents'),\n",
       " ('C:/Users/yawbt/OneDrive/Documents/GitHub/SURF-Project_Optimizing-PerunaBot/Data/SMU Experience FAQs.csv',\n",
       "  'https://www.smu.edu/admission/campuslife/faqlivingoncampus'),\n",
       " ('C:/Users/yawbt/OneDrive/Documents/GitHub/SURF-Project_Optimizing-PerunaBot/Data/UG Admissions Academics FAQs.csv',\n",
       "  'https://www.smu.edu/admission/academics/faqsacademics')]"
      ]
     },
     "execution_count": 15,
     "metadata": {},
     "output_type": "execute_result"
    }
   ],
   "source": [
    "# using the pandas library to work with the excel file and convert it to a data frame\n",
    "import pandas as pd\n",
    "\n",
    "# Load the Excel file\n",
    "excel_path = 'C:/Users/yawbt/OneDrive/Documents/GitHub/SURF-Project_Optimizing-PerunaBot/Data/SMU FAQs.xlsx'\n",
    "xlsx = pd.ExcelFile(excel_path)\n",
    "\n",
    "# checking to see if loading the file worked\n",
    "print(xlsx.sheet_names)\n",
    "\n",
    "# Iterate through each sheet and save as a CSV file\n",
    "csv_files = []\n",
    "for sheet_name in xlsx.sheet_names:\n",
    "    # Read the entire sheet to extract the metadata from cell A1\n",
    "    sheet_df = pd.read_excel(xlsx, sheet_name=sheet_name, header=None)\n",
    "    \n",
    "    # getting the link of the webpage to include as the metadata \n",
    "    metadata = sheet_df.iat[0, 0]\n",
    "    \n",
    "    # Read the sheet into a DataFrame starting from the second row\n",
    "    df = pd.read_excel(xlsx, sheet_name=sheet_name, skiprows=1)\n",
    "    \n",
    "    # Save the DataFrame to a CSV file\n",
    "    csv_path = f'C:/Users/yawbt/OneDrive/Documents/GitHub/SURF-Project_Optimizing-PerunaBot/Data/{sheet_name}.csv'\n",
    "    df.to_csv(csv_path, index=False)\n",
    "    csv_files.append((csv_path, metadata))\n",
    "\n",
    "# Display the list of generated CSV files and their metadata\n",
    "csv_files"
   ]
  },
  {
   "cell_type": "code",
   "execution_count": 16,
   "metadata": {},
   "outputs": [
    {
     "name": "stdout",
     "output_type": "stream",
     "text": [
      "page_content=\"question: What's the difference between all-college GPA and SMU GPA?\\nanswer: Your all-college GPA is the GPA used from all your grades at any college or university you’ve attended, including SMU. \\nYour SMU GPA is your GPA based only on your SMU grades. Some schools/majors use your all-college GPA or grades in courses you’ve\\n taken at another institution to determine if they will admit you to their major.\" metadata={'source': 'https://www.smu.edu/provost/saes/academic-support/university-advising-center/frequently-asked-questions', 'row': 0}\n"
     ]
    }
   ],
   "source": [
    "# Now turning each csv into a langchain document\n",
    "from langchain.document_loaders import CSVLoader\n",
    "\n",
    "# Create LangChain documents from CSV files with metadata\n",
    "csv_documents = []\n",
    "\n",
    "for csv_path, metadata in csv_files:\n",
    "    loader = CSVLoader(file_path=csv_path)\n",
    "    csv_docs = loader.load()\n",
    "    for csv_doc in csv_docs:\n",
    "        csv_doc.metadata['source'] = metadata\n",
    "    csv_documents.extend(csv_docs)\n",
    "\n",
    "# Display the first document as an example\n",
    "print(csv_documents[0])"
   ]
  },
  {
   "cell_type": "markdown",
   "metadata": {},
   "source": [
    "Then lastly upload the csv documents into each vector store collection"
   ]
  },
  {
   "cell_type": "code",
   "execution_count": 17,
   "metadata": {},
   "outputs": [],
   "source": [
    "# vector store collection 1 - uses parent/child text splitter with parent retriever\n",
    "parent_retriever.add_documents(csv_documents)"
   ]
  },
  {
   "cell_type": "code",
   "execution_count": 18,
   "metadata": {},
   "outputs": [
    {
     "data": {
      "text/plain": [
       "['0495c2dd9f2a44c1a995f57a6361afd1',\n",
       " 'cd7aa5bef49c46479b2a8dfbfdae6e55',\n",
       " '651ba19a5321439a9c300da63b2eaa8a',\n",
       " '883ea6b136bf4f7388558b7ce0563d82',\n",
       " '304e9c0a056a44f8b29bd58bbf1ab433',\n",
       " '4f9ae18ce0004043b6c75777c51aabdb',\n",
       " '822a25ab44d64210aed6a4375150a7ca',\n",
       " '576ec6f17e954ff4b596480ea561052b',\n",
       " 'bef6387675dc427b82aef9a8850a98b0',\n",
       " 'e1b89c0dd40445e0b0f0e56414514882',\n",
       " 'b5c8fcc0caf04dc39418959958cc3557',\n",
       " 'a6d857ecf6ca462384e57446b2ae969c',\n",
       " '2d7f9f9107604979bc29b5601bcf1101',\n",
       " '09ccd958f83f466c8804846c3ec69ca8',\n",
       " '607e1a56f0184ceaaf888c86a09530a6',\n",
       " 'd2458f8908004d7a82eb7c2adc3eb35a',\n",
       " 'c2934d2a18424895998b63a7960b5d1a',\n",
       " 'eeca8091f0924a2790fd2f554dd2138b',\n",
       " 'cf74fb8c8e4f489c949cb49a49b05747',\n",
       " 'aa1f978fbc1746a4bbe591a74be83eb7',\n",
       " '7758d70521d54609967be0e0e6028c44',\n",
       " 'e2c60ecc409e4b798430704dff0bcf50',\n",
       " '7e885c6aa10a428ea8e5b843af4e9b0d',\n",
       " 'ee5c833285e94df1bf52c687ca3de2de',\n",
       " '47ed9f9cf55747d5ac3a72f495212878',\n",
       " '7f97c10f55984339a7a7d00b86332fb5',\n",
       " 'f65b356062374d669c23e7ca3d3fd184',\n",
       " '403f2636f81e4a35aeef1545e688b534',\n",
       " 'c6c77daa025846c1b4717cce92e8371b',\n",
       " '958a369348724cd8acea3922f9eb26cf',\n",
       " 'efd74a782e7b4c8cad28ed1e5f5131c8',\n",
       " '62fc5cd70a5d4185830e85a86d24dee6',\n",
       " '6b75a34394c94dfa92f31788e644b9ae',\n",
       " '5ac0a3ff12e74a44b38e44e747e52385',\n",
       " '3d1dd82e1be44b1db244a5be24c1eee7',\n",
       " 'e5d09b6379d54fc1bc2b778da7fca5bb',\n",
       " '09bc600b06d14c688dfe899d8f903dc0',\n",
       " 'a2b3c2b554c14f41adb8dd19932b0a11',\n",
       " '5868d37e672241a1a742097ea4811111',\n",
       " '4dfa2fe8506746a89c309cb60b3b8fbc',\n",
       " '060342d205c7449a9291cafb6abf5730',\n",
       " 'ba37e001ec084feaae534372ce76e2f0',\n",
       " '2475726208c54d28a95ea9b691d12110',\n",
       " '4b08117facf44defa3e8a6174a9e9f1c',\n",
       " '9a6413cc1ba34c7c9620bd0ac01d9c85',\n",
       " '760371e8c51c4d2badf734e4ae8772bb',\n",
       " 'ca292ce4d23a41719da76458c0c88a07',\n",
       " '0231b1cad2214a2c853627c17b0059f8',\n",
       " '31183440dbc043468cccc653d5e4ef3d',\n",
       " '522154419f12488e972eab5e9259bc31',\n",
       " '2f0e3bcc282d448082ff9d8cbf0d8758',\n",
       " '27311f3b85674a1ba8e8058af417b504',\n",
       " 'ea10d03a1b0547eaae29a06b811ed554',\n",
       " '7329fec2401c4dada7a21775751cf60d',\n",
       " 'be1c37e7c1bb41cb968e382203c34c3a',\n",
       " 'f493691a5edd4201ba84afb11953e9fe',\n",
       " '73d5498b32304c41a0ca6e6527663897',\n",
       " 'fc82648c9f2e4ed38fcb49293814097e',\n",
       " '7b2f1351283d45e08e8a43f6e50bcee9',\n",
       " 'af1bffa5b40e4522a712c492162a4c75',\n",
       " '57ff675d46694ee9a587daff6a3f6cc7',\n",
       " '6d365e61088e4b68a04c276f4ec70160',\n",
       " 'be7276ba76e841e8b2373ce744e1420b',\n",
       " '0dfd56df445442b7bbb8112f2de1e7e3',\n",
       " 'bbb49807b8c94e60be348e88b924fee9',\n",
       " '12ca4de345ab46b38adb58b835ced25d',\n",
       " '605fb62b1e484642a943308eafec7c1e',\n",
       " 'dc23605e461a4a23b3c8aab343391a18',\n",
       " '8f461d90e3b24b7692ba861a0cc3c5f6',\n",
       " '965df1ab0429412aad4b6efb55539187',\n",
       " 'b16619020d674f9aa5e748adee6a21b2',\n",
       " '0f68ca19d39d4fceb4c7caf9c99385d4',\n",
       " 'a60888b685e441608f41ed42df0bbb93',\n",
       " 'f7c78ddfba1749e1869529114ade5cf4',\n",
       " '0264fbea5a384846879645aaa2e3df42',\n",
       " '41eb95865f5542828b859f140aebd55a',\n",
       " '7f65dc6844964f3d862320253b6e4808',\n",
       " '13d1697caef44d309282a341c4cb2d29',\n",
       " '4b97eb74573f42698a4403f4371aec18',\n",
       " '3e0eef89a02c4e899c08117aa304466b',\n",
       " 'c20594beaf6b45e896a4d5391a77c745',\n",
       " 'f30978aa821c47aea8e2d5553eedb0cf',\n",
       " '13eeeb4ca0074849a52dff806b98be8b',\n",
       " '9a8178e350bb45839df7880abfefd44e',\n",
       " 'c7b4a88da5fd4c19ac1481f711e34b95',\n",
       " 'c903c6d2f7f94231bb5ff20a4428ebea',\n",
       " '6c57cb1c6e574aeca7ce366ad7a4b684',\n",
       " '478ee94cf1af47fe93ca9cbb7648bad5',\n",
       " '4973fd7471d1488abd149808b51c49fb',\n",
       " 'b24f3ef3e2874f6ba88976c94fdc96e6',\n",
       " '8d75892018914a82b5b49b1719f976ba',\n",
       " '337e726833b049028c4cd4e1c5828242',\n",
       " '29e175d1265e41ecb6b8913f4b118b76',\n",
       " '2cd9d1a5d3904c6fa5ba3cf89c0f4ddf',\n",
       " '796d869cd4614e1da21586feba43a065',\n",
       " '2c69cf88791d43999e0425f571bdfb0f',\n",
       " 'dd3cc73738a6445ba73b91a1fbedd930',\n",
       " 'd536d27073c94a729c59dc092a20e57a',\n",
       " '506ef7f816ab45ab901f766f59fe77f9',\n",
       " 'eb205137e7b5410aac57ad08454aafe6',\n",
       " '8c31d64bfece40b6b9984868c771d0af',\n",
       " '43c7279d27eb4186b87378e8ab4510d0',\n",
       " 'a81ac99d4e2c4a98a624159f7506800a',\n",
       " 'ab45c1c79748426388e4804dada4d1ce',\n",
       " 'fa39c13f554147b6be36bb7c317e6cdf']"
      ]
     },
     "execution_count": 18,
     "metadata": {},
     "output_type": "execute_result"
    }
   ],
   "source": [
    "# vector store collection 2 - uses semantic text splitter (or chunker) with the ensemble retriever (BM25 + vector store as retriever)\n",
    "# uploaded to vector store using vector store as the retriever\n",
    "vector_store_2_retriever.add_documents(csv_documents)"
   ]
  },
  {
   "cell_type": "code",
   "execution_count": 19,
   "metadata": {},
   "outputs": [
    {
     "data": {
      "text/plain": [
       "['e578696465aa43c79be665fb0f17d409',\n",
       " 'ac0a95a22ff745cc8ad441ec84b0691c',\n",
       " 'e4ff1be4b8fc4113a01494d51e6b74cb',\n",
       " '5b265797fde14bde9db11d1fb2f38473',\n",
       " '66acd6b8476849c7be6025cd8b1cfec5',\n",
       " '0fde38caa77f440a9b50d4333575e0b6',\n",
       " 'b7fb807bc5ed4fe6b3a88d5e946f005f',\n",
       " 'ac802659dab348968bf22dac9062eff9',\n",
       " '43069f562150432cb8f17d9a50f439a6',\n",
       " 'aba64f42688b4256923d6e7d6a89fcb8',\n",
       " 'a7f941e013ad4f5fb71f335be71e6dc6',\n",
       " '9bd8c169539e4b678e80f6f1d2cf92a8',\n",
       " '934f678a675f46edbd8ee95d5cd8a6a9',\n",
       " '1083a2c1a7e84b2984be7a9586026c71',\n",
       " '5a2d8124dced4986b739505e964e45f0',\n",
       " '53ff92facb9940dc8c1dc69b3137dc0f',\n",
       " '8c7eafa5db2d422aaa869b4423f7e3b6',\n",
       " '4f124034b3624f9db522f05210682bb7',\n",
       " 'e9589611fbd846938fecd03204a77a87',\n",
       " '78d746e21c0742d18cfca6616766dc16',\n",
       " '38dab5c6faef4f5ba36daef625dcdb39',\n",
       " 'd8c01fae34eb46d7b649f7a585badf2b',\n",
       " 'c82e5cc8cb4b47dab8838debfce84748',\n",
       " 'f8f34cca489b4373ae3f8715050ced64',\n",
       " '4b4824a663b04643920b092939818303',\n",
       " '5251d4b4dfa04f54bc6e364fc1036873',\n",
       " '7ec37de7f98342b993ea7dc3e81feda5',\n",
       " 'bf157cf36e44430ca1e05324c1de97f5',\n",
       " 'ef611adb35264a338bb6b5396e7dda94',\n",
       " 'b9f51572ac784f4eb8c9634ea2fbb15c',\n",
       " '63ee413bde3f4b528b28ade6137cfa6c',\n",
       " '3d75eb99d7574137879b93689bcfde95',\n",
       " '87833836f18441369c52e484722bd2d3',\n",
       " '74da6e2d80744e3cb1889391b047d474',\n",
       " '99fb08b841f04923a90b6af46120c538',\n",
       " '4e33299d51134fc8a3c5dceb1a008d0c',\n",
       " '00a72892017c4d8d8a2d85aeecbcb874',\n",
       " 'edc44a450b7f43458714d622ceafc428',\n",
       " '29dbb544a72443d59823bc3b11d87ee7',\n",
       " '02fbabeab18e44dc8a773e263c34267a',\n",
       " 'b350f89ca9cf4f709f941a7c487c8bf0',\n",
       " '4c37fb09fbda4438a59941bc2ce9abba',\n",
       " '7932e467f654482e946a5691d43ccf75',\n",
       " '4c087925fc144a349535e37627ea3ff4',\n",
       " 'e75d70fbbbe04c859835f14cb065f918',\n",
       " '679e80fd44d74191849ef7b60107a0d6',\n",
       " '90c12d75bba1404a86a07c7f7ab248ba',\n",
       " '76353a9677874a04880527cf15615476',\n",
       " '858293caab72474ea906fb8e9739b808',\n",
       " '7e31c3eb4f96412cb6e179cb855e88d5',\n",
       " 'd842b8d464be4568a6538818c3ae998b',\n",
       " 'b088ca3cf1524e3eb0010e51137f1731',\n",
       " '321f27613ae84e0fac40efe76102dce1',\n",
       " 'cd1b46a435154489896c5d5f2e7a423f',\n",
       " '8552aaea08e64b3a9e6884ae5a07abc2',\n",
       " '41696f92f2c34f81a98daa5bf4d310c7',\n",
       " '1eadc82d485244348d468eb5829c2e41',\n",
       " 'c44dbca4f723411bb0063672413c527b',\n",
       " '4039b2d6e49445fba86d43853fda9dc3',\n",
       " '9066c3ce561e4f25818abb11a8ea2930',\n",
       " 'fc050a0e943549f8ae0ce9b737d159dc',\n",
       " '2ffc3572389f42c1937d434601650ed1',\n",
       " '2c6bfb6ae45b4f4cbcabeb58c115d921',\n",
       " 'bf4f04c286df41d7b9428d7e6b36cdcb',\n",
       " 'a500ac7bbe6a489ba90b818fb01f54a9',\n",
       " '2eeb670f7bbe4a978e57f29f55fbacf4',\n",
       " '3b8289f2cbcf40628a2b8dcad484758d',\n",
       " 'd4e15216aeff4ea5a7867e0c6710a7aa',\n",
       " 'f261bf12a02c404c85c5328f12c1ed2f',\n",
       " 'a99ee56f9fd4424bbe4b63219a36febd',\n",
       " 'fb9995856c6a4124bb107555215ff148',\n",
       " 'b5e707713b8c42ab97576cca4b6f19d0',\n",
       " 'd05be111e70b42a6adbf13bad22abd7b',\n",
       " 'c6c92cfc94004415ad249a123be5470b',\n",
       " '31a40ebd18b74d79a9e9922e4916de04',\n",
       " '7078536cb42d47f98594c100d5b58a84',\n",
       " 'ebd1007003da4afe95a29d615efdcb92',\n",
       " '03cca6d28e1b4869b16163f4062982ba',\n",
       " '960ecd4f0c54499098f564df4b0a0822',\n",
       " 'c9182ee3d28c465ebc4147e4a3744859',\n",
       " '594ef0e8360945a18db08a9d92722dab',\n",
       " '686554f5114d4571b1ea77cfa0a52484',\n",
       " 'ab0f28aff2d14609a2a1580a2f9df0d3',\n",
       " '9067b03dbe1c4681a6bfe0f7fd8c5b2f',\n",
       " '2f9f2ae9731745e7a1da08ac9d58aa69',\n",
       " '774d3473ea8e4bcd9964acb30108ec96',\n",
       " '13c99491f324462a8936f77f4c3e4afb',\n",
       " '430cad7e81c640338b5368bc8211f713',\n",
       " '3d3907faf0ae461aa941c396c736e620',\n",
       " '2c91bffeb56f4c7dab788e13f1003f56',\n",
       " 'f4b51459dc074c12b0fb484bb227dd7e',\n",
       " '61652362836449dba0fac862c42f435f',\n",
       " '3641268faf294f339b29393c652ab3a1',\n",
       " 'bed1ec6de74e4effa0321eb41a4de259',\n",
       " '6e9722b1cc4c4bdbb6a0f84f3e6329ce',\n",
       " '0bd9e6d69315480bbeb05187fa18074f',\n",
       " '4246ff21947a47ab8e65c5d9451fa43d',\n",
       " '5247698f023443f895c29a1a0bc65cfa',\n",
       " '60d210706c7e47fab4f20ce088e8b678',\n",
       " 'bcdb7f8823f548159d9357745736be65',\n",
       " '1ea1c062714048b6bd9d6365692dd1c4',\n",
       " '35a1879074a34d71a5a97e93bdf19b5a',\n",
       " 'a6bc0306a71e4dabafe199a57d8bfe63',\n",
       " '8b0e6115c1ff40bf9f19bf13a5225cfa',\n",
       " '596a5e97a70e449786cfd54101917e2b']"
      ]
     },
     "execution_count": 19,
     "metadata": {},
     "output_type": "execute_result"
    }
   ],
   "source": [
    "# vector stoer collection 0 - uses the recursive chatacter text splitter with vector store as the retriever\n",
    "# base option from last project\n",
    "vector_store_0_retriever.add_documents(csv_documents)"
   ]
  },
  {
   "cell_type": "markdown",
   "metadata": {},
   "source": [
    "Now we are officially done with the data-preprocessing step and can move on to the RAG pipelines for each model!"
   ]
  }
 ],
 "metadata": {
  "kernelspec": {
   "display_name": "base",
   "language": "python",
   "name": "python3"
  },
  "language_info": {
   "codemirror_mode": {
    "name": "ipython",
    "version": 3
   },
   "file_extension": ".py",
   "mimetype": "text/x-python",
   "name": "python",
   "nbconvert_exporter": "python",
   "pygments_lexer": "ipython3",
   "version": "3.11.5"
  }
 },
 "nbformat": 4,
 "nbformat_minor": 2
}
