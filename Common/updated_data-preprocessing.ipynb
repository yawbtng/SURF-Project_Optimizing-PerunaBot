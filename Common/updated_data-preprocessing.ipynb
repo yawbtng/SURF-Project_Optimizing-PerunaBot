{
 "cells": [
  {
   "cell_type": "markdown",
   "metadata": {},
   "source": [
    "# Step 1: Data Pre-processing\n",
    "This notebook is for the initial set up of the LLM application that will be the same for each model.\n",
    "\n",
    "The focus is on the data-pre processing step of the RAG pipeline and getting the data into the vector database.\n",
    "\n",
    "We need to put the data of the SMU Catalog of 2023-2024 into Qdrant which is a cloud vector database. This will allow the language model to access and retrieve the necessary information.\n",
    "\n",
    "There are many changes that can be done at this step to alter how the text goes into the vector database (ex: different text splitters, document loaders, retrievers, etc.)\n",
    "\n",
    "We will install some of the necessary dependancies now and the rest along the way throughout the notebook."
   ]
  },
  {
   "cell_type": "code",
   "execution_count": 1,
   "id": "ad67beb3-ea74-4e81-9b27-fc10e05afb04",
   "metadata": {},
   "outputs": [
    {
     "data": {
      "text/plain": [
       "True"
      ]
     },
     "execution_count": 1,
     "metadata": {},
     "output_type": "execute_result"
    }
   ],
   "source": [
    "\n",
    "\n",
    "# Set up to initialize API keys from .env file into the\n",
    "import os\n",
    "from dotenv import find_dotenv, load_dotenv\n",
    "\n",
    "# Load environment variables from the .env files\n",
    "load_dotenv(find_dotenv(filename='SURF-Project_Optimizing-PerunaBot/setup/.env'))"
   ]
  },
  {
   "cell_type": "markdown",
   "metadata": {},
   "source": [
    "Here we will initialize langsmith for tracing and tracking"
   ]
  },
  {
   "cell_type": "code",
   "execution_count": 2,
   "id": "7fc67aa3-ce8c-470a-bc13-b8f7ee099024",
   "metadata": {},
   "outputs": [],
   "source": [
    "# Import the Client class from the langsmith package for tracing and tracking\n",
    "\n",
    "from langsmith import Client\n",
    "\n",
    "# Retrieve Langsmith API key and other related environment variables\n",
    "langsmith_api_key = os.environ[\"LANGSMITH_API_KEY\"]\n",
    "os.environ[\"LANGCHAIN_TRACING_V2\"]\n",
    "langchain_endpoint = os.environ[\"LANGCHAIN_ENDPOINT\"]\n",
    "langsmith_project = os.environ[\"LANGCHAIN_PROJECT\"]\n",
    "\n",
    "# Initialize a Langsmith Client instance\n",
    "langsmith_client = Client()\n",
    "\n",
    "# Test section (commented out)\n",
    "# from langchain_openai import ChatOpenAI\n",
    "# llm = ChatOpenAI()\n",
    "# llm.invoke(\"What can you do?\")"
   ]
  },
  {
   "cell_type": "markdown",
   "metadata": {},
   "source": [
    "## PDF Breakdown\n",
    "If you take a look at the pdfs in the data folder, just the catalog pdf alone is over 800 pages long! \n",
    "\n",
    "To upload it into the vector databse, we have to 1st load it into a list of langchain documents."
   ]
  },
  {
   "cell_type": "code",
   "execution_count": 3,
   "id": "db92e6fb-39fb-42b0-950e-dca1d52ce017",
   "metadata": {},
   "outputs": [
    {
     "name": "stdout",
     "output_type": "stream",
     "text": [
      "1015\n",
      " \n",
      " \n",
      " \n",
      " \n",
      " \n",
      " \n",
      "Southern Methodist University \n",
      "General Information \n",
      "Undergraduate Catalog  \n",
      "2023 -2024  \n",
      "{'source': 'C:/Users/yawbt/OneDrive/Documents/GitHub/SURF-Project_Optimizing-PerunaBot/Data/20232024 Undergraduate Catalog91123.pdf', 'page': 0}\n"
     ]
    }
   ],
   "source": [
    "# Import the PyPDFLoader from langchain_community.document_loaders for PDF document loading\n",
    "from langchain_community.document_loaders import PyPDFLoader\n",
    "\n",
    "# file paths of PDFs to be used\n",
    "pdf_paths = ['C:/Users/yawbt/OneDrive/Documents/GitHub/SURF-Project_Optimizing-PerunaBot/Data/20232024 Undergraduate Catalog91123.pdf',\n",
    "             'C:/Users/yawbt/OneDrive/Documents/GitHub/SURF-Project_Optimizing-PerunaBot/Data/Official University Calendar 2023-2024.pdf',\n",
    "             'C:/Users/yawbt/OneDrive/Documents/GitHub/SURF-Project_Optimizing-PerunaBot/Data/2023_PerunaPassport.pdf',\n",
    "             'C:/Users/yawbt/OneDrive/Documents/GitHub/SURF-Project_Optimizing-PerunaBot/Data/SMU Student Handbook 23-24.pdf',\n",
    "             'C:/Users/yawbt/OneDrive/Documents/GitHub/SURF-Project_Optimizing-PerunaBot/Data/SMUCampusGuideFactsMap.pdf'\n",
    "             ]\n",
    "\n",
    "# Function to load PDFs using LangChain's PyPDFLoader\n",
    "def load_pdfs_with_langchain(pdf_paths):\n",
    "    documents = []\n",
    "    for path in pdf_paths:\n",
    "        try:\n",
    "            # Use LangChain's PyPDFLoader to load the PDF\n",
    "            loader = PyPDFLoader(path)\n",
    "            # Load and pase the PDF into document instances\n",
    "            pdf_doc = loader.load()\n",
    "            # Insert the parsed PDF documents into the documents list\n",
    "            documents.extend(pdf_doc)\n",
    "        except Exception as e:\n",
    "            print(f\"Error loading {path}: {e}\")\n",
    "    return documents\n",
    "\n",
    "# Load PDF documents using the function\n",
    "docs = load_pdfs_with_langchain(pdf_paths)\n",
    "\n",
    "print(len(docs))\n",
    "print(docs[0].page_content[0:100])\n",
    "print(docs[0].metadata)"
   ]
  },
  {
   "cell_type": "markdown",
   "metadata": {},
   "source": [
    "## CSV Breakdown\n",
    "Now we are going to work on uploading the excel file of 115 FAQs into each vector database collection. There are multiple sheets within the excel file so we're going to have to turn each sheet into a CSV using the pandas library and then use langchain's CSV loader to turn them into langchain documents.\n",
    "\n",
    "The CSVs you see there now were created by iterating through the xlsx file so you can delete those if you want to see them being recreated (be careful not to delete the xlsx file)"
   ]
  },
  {
   "cell_type": "code",
   "execution_count": 4,
   "id": "6efb0747-28c0-4bea-a39f-aa2b7b45849c",
   "metadata": {},
   "outputs": [
    {
     "name": "stdout",
     "output_type": "stream",
     "text": [
      "['University Advising Center FAQs', 'Student Financial Services FAQs', 'Parent FAQs', 'SMU Experience FAQs', 'UG Admissions Academics FAQs']\n",
      "[('C:/Users/yawbt/OneDrive/Documents/GitHub/SURF-Project_Optimizing-PerunaBot/Data/University Advising Center FAQs.csv', 'https://www.smu.edu/provost/saes/academic-support/university-advising-center/frequently-asked-questions'), ('C:/Users/yawbt/OneDrive/Documents/GitHub/SURF-Project_Optimizing-PerunaBot/Data/Student Financial Services FAQs.csv', 'https://www.smu.edu/provost/saes/academic-support/student-academic-success/faq'), ('C:/Users/yawbt/OneDrive/Documents/GitHub/SURF-Project_Optimizing-PerunaBot/Data/Parent FAQs.csv', 'https://www.smu.edu/provost/saes/academic-support/university-advising-center/incoming-students/for-parents'), ('C:/Users/yawbt/OneDrive/Documents/GitHub/SURF-Project_Optimizing-PerunaBot/Data/SMU Experience FAQs.csv', 'https://www.smu.edu/admission/campuslife/faqlivingoncampus'), ('C:/Users/yawbt/OneDrive/Documents/GitHub/SURF-Project_Optimizing-PerunaBot/Data/UG Admissions Academics FAQs.csv', 'https://www.smu.edu/admission/academics/faqsacademics')]\n"
     ]
    }
   ],
   "source": [
    "# Import the pandas library to work with the Excel file and convert it to a data frame\n",
    "import pandas as pd\n",
    "\n",
    "# Load the Excel file\n",
    "excel_path = 'C:/Users/yawbt/OneDrive/Documents/GitHub/SURF-Project_Optimizing-PerunaBot/Data/SMU FAQs.xlsx'\n",
    "xlsx = pd.ExcelFile(excel_path)\n",
    "\n",
    "# checking to see if loading the file worked\n",
    "print(xlsx.sheet_names)\n",
    "\n",
    "# Iterate through each sheet and save as a CSV file\n",
    "csv_files = []\n",
    "for sheet_name in xlsx.sheet_names:\n",
    "    # Read the entire sheet to extract the metadata from cell A1\n",
    "    sheet_df = pd.read_excel(xlsx, sheet_name=sheet_name, header=None)\n",
    "    \n",
    "    # Get the link of the webpage to include as metadata\n",
    "    metadata = sheet_df.iat[0, 0]\n",
    "    \n",
    "    # Read the sheet into a DataFrame starting from the second row\n",
    "    df = pd.read_excel(xlsx, sheet_name=sheet_name, skiprows=1)\n",
    "    \n",
    "    # Save the DataFrame to a CSV file\n",
    "    csv_path = f'C:/Users/yawbt/OneDrive/Documents/GitHub/SURF-Project_Optimizing-PerunaBot/Data/{sheet_name}.csv'\n",
    "    df.to_csv(csv_path, index=False, encoding='utf-8')\n",
    "    csv_files.append((csv_path, metadata))\n",
    "\n",
    "# Display the list of generated CSV files and their metadata\n",
    "print(csv_files)"
   ]
  },
  {
   "cell_type": "code",
   "execution_count": 5,
   "id": "aef3316c-be5b-41e6-8e55-f56ffc46b3de",
   "metadata": {},
   "outputs": [
    {
     "name": "stdout",
     "output_type": "stream",
     "text": [
      "page_content='question: What's the difference between all-college GPA and SMU GPA?\n",
      "answer: Your all-college GPA is the GPA used from all your grades at any college or university you’ve attended, including SMU. \n",
      "Your SMU GPA is your GPA based only on your SMU grades. Some schools/majors use your all-college GPA or grades in courses you’ve\n",
      " taken at another institution to determine if they will admit you to their major.' metadata={'source': 'https://www.smu.edu/provost/saes/academic-support/university-advising-center/frequently-asked-questions', 'row': 0}\n"
     ]
    }
   ],
   "source": [
    "# Import CSVLoader from langchain_community.document_loaders to load CSV documents\n",
    "from langchain_community.document_loaders import CSVLoader\n",
    "\n",
    "# Create LangChain documents from CSV files with metadata\n",
    "csv_documents = []\n",
    "\n",
    "for csv_path, metadata in csv_files:\n",
    "    loader = CSVLoader(file_path=csv_path, encoding='utf-8')\n",
    "    csv_docs = loader.load()\n",
    "    for csv_doc in csv_docs:\n",
    "        csv_doc.metadata['source'] = metadata\n",
    "    csv_documents.extend(csv_docs)\n",
    "\n",
    "# Display the first document as an example\n",
    "print(csv_documents[0])"
   ]
  },
  {
   "cell_type": "markdown",
   "metadata": {},
   "source": [
    "Here we are initializing an API connection to the Qdrant vector database from https://qdrant.tech/"
   ]
  },
  {
   "cell_type": "code",
   "execution_count": 7,
   "id": "d33bb344-cfca-44b7-95ee-f62d45e2d046",
   "metadata": {},
   "outputs": [],
   "source": [
    "# Import Qdrant client for vector database cloud store\n",
    "from qdrant_client import qdrant_client\n",
    "from qdrant_client.http import models\n",
    "\n",
    "# Initialize Qdrant host URL and API key from environment variables\n",
    "qdrant_host = os.environ['QDRANT_HOST']\n",
    "qdrant_api_key = os.environ['QDRANT_API_KEY']\n",
    "\n",
    "# Initialize Qdrant Client\n",
    "client = qdrant_client.QdrantClient(\n",
    "    url=qdrant_host, \n",
    "    api_key = qdrant_api_key,\n",
    ")"
   ]
  },
  {
   "cell_type": "markdown",
   "metadata": {},
   "source": [
    "Here we are setting up functions to create the vector store collection and also retrieve them once they are already created."
   ]
  },
  {
   "cell_type": "code",
   "execution_count": 8,
   "id": "2c3e6133-ee22-4d23-9dd0-c4f93b531ca2",
   "metadata": {},
   "outputs": [],
   "source": [
    "# Import OpenAIEmbeddings and Qdrant from respective langchain modules\n",
    "\n",
    "from langchain_openai import OpenAIEmbeddings\n",
    "from langchain_qdrant import Qdrant\n",
    "\n",
    "# Retrieve OpenAI API key from environment variables\n",
    "openai_api_key = os.environ['OPENAI_API_KEY']\n",
    "\n",
    "# Function to create a vector store based on the collection name\n",
    "def create_vectorstore(qdrant_collection_name):\n",
    "    \n",
    "    # Ensuring Qdrant Client connection\n",
    "    client = qdrant_client.QdrantClient(\n",
    "        url=qdrant_host, \n",
    "        api_key = qdrant_api_key,\n",
    "    )\n",
    "\n",
    "    vectors_config = models.VectorParams(\n",
    "        size=1536, #for OpenAI\n",
    "        distance=models.Distance.COSINE\n",
    "   )\n",
    "    # Create a Qdrant collection with the specified name and vectors configuration\n",
    "    client.create_collection(\n",
    "        collection_name = qdrant_collection_name,\n",
    "        vectors_config=vectors_config,   \n",
    "    )\n",
    "\n",
    "    # Initialize the vector store with the created Qdrant collection\n",
    "    vector_store = Qdrant(\n",
    "        client=client, \n",
    "        collection_name=qdrant_collection_name, \n",
    "        embeddings=OpenAIEmbeddings(),\n",
    "    )\n",
    "  \n",
    "    return vector_store\n",
    "\n",
    "# Function to return the vector store if it already exists\n",
    "\n",
    "def get_vectorstore(qdrant_collection_name):\n",
    "    \n",
    "    # Ensuring Qdrant Client connection\n",
    "    client = qdrant_client.QdrantClient(\n",
    "    url=qdrant_host, \n",
    "    api_key = qdrant_api_key,\n",
    "    )\n",
    "\n",
    "    vector_store = Qdrant(\n",
    "        client=client, \n",
    "        collection_name=qdrant_collection_name, \n",
    "        embeddings=OpenAIEmbeddings(),\n",
    "    )\n",
    "\n",
    "    return vector_store"
   ]
  },
  {
   "cell_type": "markdown",
   "metadata": {},
   "source": [
    "Now we are going to create the 1st collection of vectors and the vectorstore inside the database. Eventually, we will have more than one collection to see how changes to how the data is uploaded and retrieved affects the accuracy and other evaluation metrics.\n",
    "\n",
    "This is a very important step because an LLM application is only as good as its data and the documents it retrieves to create an answer.\n",
    "\n",
    "Since we will have more than one collection within the vector database, we will just create a function that will allow us to create a new vectorstore collection when needed."
   ]
  },
  {
   "cell_type": "code",
   "execution_count": null,
   "id": "2d6489c3-1b1d-44d2-8c6c-a54fc4aec35f",
   "metadata": {},
   "outputs": [
    {
     "name": "stdout",
     "output_type": "stream",
     "text": [
      "smu-data_1 was just created\n"
     ]
    }
   ],
   "source": [
    "# create 1st collection of vectors\n",
    "qdrant_collection_1 = os.environ['QDRANT_COLLECTION_1']\n",
    "\n",
    "# Checking if the collection already exists\n",
    "collection_check_1 = False\n",
    "\n",
    "if client.collection_exists(qdrant_collection_1):\n",
    "    vector_store_1 = get_vectorstore(qdrant_collection_1)\n",
    "    collection_check_1 = True\n",
    "    print(qdrant_collection_1 + \" already exists\")\n",
    "else:\n",
    "    vector_store_1 = create_vectorstore(qdrant_collection_1)\n",
    "    print(qdrant_collection_1 + \" was just created\")"
   ]
  },
  {
   "cell_type": "markdown",
   "metadata": {},
   "source": [
    "This is where the experiment begins! Now we have all the text from the pdfs in the pdfs_doc_text variable, the text needs to be split into chunks using langchain text splitters to be turned into vectors using the OpenAI Embeddings Model.\n",
    "\n",
    "We are going to test three methods:\n",
    "1. Parent Doucment Retriever method with the **RecursiveCharacterTextSplitter**\n",
    "\n",
    "2. Semantic Chunking method using the **Semantic Text Splitter**\n",
    "\n",
    "3. Using the vector store as the retriever with the **Recursive Character Text Splitter**\n",
    "\n",
    "Since this will generate two different types of chunks, we will but them in two different collections within the vector database."
   ]
  },
  {
   "cell_type": "code",
   "execution_count": null,
   "id": "bb561a25-6105-464a-9255-046fc581ca75",
   "metadata": {},
   "outputs": [],
   "source": [
    "# Parent Document Retriever Method\n",
    "from langchain.text_splitter import RecursiveCharacterTextSplitter\n",
    "from langchain.retrievers import ParentDocumentRetriever\n",
    "# created a custom class in ParentDocumentRetriever that adds the documents to the docstore but not to the vectorstore\n",
    "from langchain.retrievers.parent_document_retriever import CustomParentDocumentRetriever\n",
    "\n",
    "from langchain.storage import InMemoryStore\n",
    "\n",
    "child_splitter = RecursiveCharacterTextSplitter(chunk_size=250, chunk_overlap=25, \n",
    "                                                length_function=len, add_start_index=True) \n",
    "parent_splitter = RecursiveCharacterTextSplitter(chunk_size=750, chunk_overlap=50, \n",
    "                                                length_function=len, add_start_index=True)  \n",
    "\n",
    "# storage for parent splitter\n",
    "store = InMemoryStore()\n",
    "\n",
    "# retriever\n",
    "def create_parent_retriever():\n",
    "    parent_retriever = ParentDocumentRetriever(\n",
    "        vectorstore=vector_store_1, \n",
    "        docstore=store, \n",
    "        child_splitter=child_splitter,\n",
    "        parent_splitter=parent_splitter,\n",
    "        search_kwargs = {\"k\": 8}\n",
    "        )\n",
    "    return parent_retriever\n",
    "\n",
    "# Function to create a custom parent document retriever\n",
    "def create_custom_parent_retriever():\n",
    "    parent_retriever = CustomParentDocumentRetriever(\n",
    "        vectorstore=vector_store_1, \n",
    "        docstore=store, \n",
    "        child_splitter=child_splitter,\n",
    "        parent_splitter=parent_splitter,\n",
    "        search_kwargs = {\"k\": 10}\n",
    "        )\n",
    "    return parent_retriever\n",
    "\n",
    "parent_retriever = create_custom_parent_retriever()"
   ]
  },
  {
   "cell_type": "code",
   "execution_count": null,
   "id": "13d15cac-19fa-4ed1-97f8-16fbd9336810",
   "metadata": {},
   "outputs": [
    {
     "name": "stdout",
     "output_type": "stream",
     "text": [
      "PDF docs and CSV docs added to doc store and vectorstore\n"
     ]
    },
    {
     "data": {
      "text/plain": [
       "[Document(metadata={'source': 'C:/Users/yawbt/OneDrive/Documents/GitHub/SURF-Project_Optimizing-PerunaBot/Data/20232024 Undergraduate Catalog91123.pdf', 'page': 80, 'start_index': 3259, 'doc_id': '88578041-692c-47fe-bccf-982c7855b188'}, page_content='fellow  students in nonhonors classes; in the Residential Commons; in the student center; on the playing fields; and \\nin the numerous student governing, social, pre -professional, political, cultural and social organizations that enhance \\nstudent life at SMU.  \\nEntrance to the University Honors Program is by invitation prior to matriculation or by application after at least one term of coursework at SMU. At the end of their undergraduate years, students who maintain a 3.000 GPA in their \\nhonors courses and at leas t a 3.300 overall GPA receive a diploma inscribed with the designation \"Honors in the \\nLiberal Arts.\" More information about the University Honors Program is available on the website'),\n",
       " Document(metadata={'source': 'C:/Users/yawbt/OneDrive/Documents/GitHub/SURF-Project_Optimizing-PerunaBot/Data/20232024 Undergraduate Catalog91123.pdf', 'page': 3, 'start_index': 0, 'doc_id': 'bf1cf2d3-e252-43bf-8753-67823cd028c3'}, page_content='4 \\n Table of Contents  \\nUNIVERSITY CALENDAR  ....................................................................................................................................... 13 \\nABOUT SMU  ........................................................................................................................................................ 14 \\nADMISSION  .......................................................................................................................................................... 17 \\nTUITION, FEES AND FINANCIAL AID  ..................................................................................................................... 32'),\n",
       " Document(metadata={'source': 'https://www.smu.edu/provost/saes/academic-support/student-academic-success/faq', 'row': 12, 'start_index': 0, 'doc_id': '04f4691c-425a-424a-ac5f-7be73db4f95c'}, page_content='question: What is the SMU Opportunity Award?\\nanswer: This is an SMU need-based grant that is awarded after all scholarships, federal and state grants have been added to your financial aid package and is based on your demonstrated need that is not met by any and all other scholarships or grants.'),\n",
       " Document(metadata={'source': 'C:/Users/yawbt/OneDrive/Documents/GitHub/SURF-Project_Optimizing-PerunaBot/Data/20232024 Undergraduate Catalog91123.pdf', 'page': 13, 'start_index': 0, 'doc_id': '682dfc37-7fc6-4e8f-996e-4e9c6d1120f7'}, page_content='14 \\n About SMU  \\nThe Vision of Southern Methodist University  \\nTo create and impart knowledge that will shape citizens who contribute to their communities and lead their \\nprofessions in a global society.  \\nThe Mission of Southern Methodist University  \\nSouthern Methodist University will create, expand and impart knowledge through teaching, research and service, \\nshaping world changers who contribute to their communities and excel in their professions in a global society. \\nAmong its faculty, students and st aff, the University will cultivate principled thought, develop intellectual skills and'),\n",
       " Document(metadata={'source': 'C:/Users/yawbt/OneDrive/Documents/GitHub/SURF-Project_Optimizing-PerunaBot/Data/20232024 Undergraduate Catalog91123.pdf', 'page': 13, 'start_index': 1858, 'doc_id': 'a0d5ec5d-f085-4270-8855-80a64f0d0bfe'}, page_content='Education and Human Development.  \\nFounded in 1911 by what is now the United Methodist Church, SMU is non- sectarian in its teaching and is \\ncommitted to the values of academic freedom and open inquiry.  \\nAt its opening session in 1915, the University had two buildings, 706 students, a 35- member faculty and total assets \\nof $633,540.  \\nToday, the University has more than 100 buildings, a total enrollment averaging more than 12,000 the past 3 years, a \\nfull-time faculty of 743 and assets of $4.0 billion - including an endowment of $2.0 billion (market value, May 31, \\n2022).'),\n",
       " Document(metadata={'source': 'C:/Users/yawbt/OneDrive/Documents/GitHub/SURF-Project_Optimizing-PerunaBot/Data/20232024 Undergraduate Catalog91123.pdf', 'page': 13, 'start_index': 600, 'doc_id': 'bcb976c1-0ae9-4517-acfe-40a44a9ed919'}, page_content='promote an environment emphasizing individual dignity and worth. SMU affirms its historical commitment to academic freedom and open inquiry, to moral and ethical values,  and to its United Methodist heritage.  \\nSouthern Methodist University  \\nAs a private, comprehensive university enriched by its United Methodist heritage and its partnership with the Dallas \\nMetroplex, Southern Methodist University seeks to enhance the intellectual, cultural, technical, ethical and social \\ndevelopment of a divers e student body. SMU offers undergraduate programs centered on the liberal arts; excellent'),\n",
       " Document(metadata={'source': 'C:/Users/yawbt/OneDrive/Documents/GitHub/SURF-Project_Optimizing-PerunaBot/Data/SMUCampusGuideFactsMap.pdf', 'page': 1, 'start_index': 2812, 'doc_id': '60685931-6d0b-424b-be7e-16708b526983'}, page_content='teaches and even hosts dinners for students.\\nStudents gain leadership experience through 200+  \\ncampus organizations.  A student serves as a voting  \\nmember of the SMU Board of Trustees.\\nSMU.EDUDATA-CRUNCHING POWER SPEEDS UP RESEARCH\\n Published May 2023    230595.523Visitor information\\nTo learn more, visit  SMU.EDU/ABOUTSMU\\nDirections to campus and parking information  SMU.EDU/MAPS\\n17 Division I sports  \\n19 club sports\\n18 intramural sports\\nA big part of the SMU student experience is our Residential \\nCommons system, which combines the academic,  \\nresidential and social aspects of campus living.andSMU     DALLAS\\nAbout SMU\\nMustangs SMU\\nOur FAMILY\\nOur STUDENTSOur COMMUNITYRESEARCH      TEACHING'),\n",
       " Document(metadata={'source': 'C:/Users/yawbt/OneDrive/Documents/GitHub/SURF-Project_Optimizing-PerunaBot/Data/20232024 Undergraduate Catalog91123.pdf', 'page': 37, 'start_index': 1128, 'doc_id': '93d80656-c11c-4d37-a590-bcfb93b712f1'}, page_content='www.smu.edu/parents.  \\nThe Office of Student Advocacy and Support also provides training, presentations, and consultation to the campus community regarding recognizing and responding to signs of distress. Faculty, staff, students, parents, and families are encouraged to reach ou t regarding resources available through the office.  \\nStudent Conduct and Community Standards  \\nwww.smu.edu/studentconduct  \\nThe Office of Student Conduct and Community Standards, (www.smu.edu/studentconduct), promotes community, \\nscholarship, and civility by holding students accountable to the Student Code of Conduct and the Honor Code. The \\nUniversity expects all students to be responsible citizens and to abide by all federal, state, and local laws. The'),\n",
       " Document(metadata={'source': 'C:/Users/yawbt/OneDrive/Documents/GitHub/SURF-Project_Optimizing-PerunaBot/Data/SMU Student Handbook 23-24.pdf', 'page': 8, 'start_index': 0, 'doc_id': 'c8755962-c7e4-421f-9733-d03d1cba72a0'}, page_content='8\\nJ. “Investigation” refers to the process of making an institutional inquiry into a \\nclaim or allegation of action(s) which may be in violation of SMU policy, and/or \\napplicable federal, state, or local law or ordinance. Such inquiry may include, but \\nnot be limited to: gathering information from individuals with knowledge about \\nsuch claim or allegation; review of documents or other tangible information \\nrelating to the claim or allegation; review of any information already available in \\na public domain (i.e., postings/photographs on social media, such as Facebook, \\ntext messages, emails, webpages) or other information discovered or provided \\nthat is deemed relevant to such inquiry by SMU.'),\n",
       " Document(metadata={'source': 'C:/Users/yawbt/OneDrive/Documents/GitHub/SURF-Project_Optimizing-PerunaBot/Data/20232024 Undergraduate Catalog91123.pdf', 'page': 42, 'start_index': 1369, 'doc_id': 'e5e0bbad-f89d-49e9-88fa-23238a9a118e'}, page_content='www.smu.edu/career  \\nThe Hegi Family Career Development Center at SMU is dedicated to serving the needs of SMU students and alumni and assisting employers in reaching qualified candidates from SMU. The Career Development Center staff guides and encourages students and alumni i n the development of skills necessary for lifelong career management and \\noffers opportunities for employers to recruit students through campus events and online resources. At Hegi, the staff \\ncares about helping students develop into well -rounded individual s, and is dedicated to values of consistency, \\nauthenticity and commitment to excellence.')]"
      ]
     },
     "execution_count": 15,
     "metadata": {},
     "output_type": "execute_result"
    }
   ],
   "source": [
    "# Check the status of the collection and add documents to the vector store if necessary\n",
    "if collection_check_1 == False:\n",
    "    # if collection is just created and empty\n",
    "    if client.get_collection(qdrant_collection_1).vectors_count == None:\n",
    "    # Add documents to the Qdrant vector database and parent store\n",
    "        parent_retriever.add_documents(docs)\n",
    "        parent_retriever.add_documents(csv_documents)\n",
    "        print(\"PDF docs and CSV docs added to doc store and vectorstore\")\n",
    "\n",
    "elif collection_check_1 == True:  \n",
    "    # if collection was already there and empty\n",
    "    if client.get_collection(qdrant_collection_1).vectors_count == None: \n",
    "        # Add documents to the Qdrant vector database and parent store\n",
    "        parent_retriever.add_documents(docs)\n",
    "        parent_retriever.add_documents(csv_documents)\n",
    "        print(\"PDF docs and CSV docs added to doc store and vectorstore\")\n",
    "\n",
    "    elif client.get_collection(qdrant_collection_1).vectors_count != None: \n",
    "        # If the collection already exists and is not empty\n",
    "        # Only add docs to the document store to avoid duplicating vectors\n",
    "        parent_retriever.add_documents(docs, add_to_docstore=True, add_to_vectorstore=False)\n",
    "        parent_retriever.add_documents(csv_documents, add_to_docstore=True, add_to_vectorstore=False)\n",
    "        print(\"PDF docs and CSV docs added only to doc store\")\n",
    "\n",
    "# testing the retriever\n",
    "parent_retriever.invoke(\"What is SMU\")"
   ]
  },
  {
   "cell_type": "markdown",
   "metadata": {},
   "source": [
    "Now for the 2nd method using the Semantic Text Splitter which splits the text based on the meaning within each sentence for more granular control of retrieval.\n",
    "\n",
    "For this one, we will use the Ensemble Retriever which allows us to combine the results of multiple retrievers, giving them different weights. Within the Ensemble retriever we will use: \n",
    "\n",
    "- BM25 Retriever which a retrieval method used by search engines\n",
    "- Base retriever that comes with using the vectorstore as a retriever\n"
   ]
  },
  {
   "cell_type": "code",
   "execution_count": 6,
   "id": "cb7ae2b3-f159-40dd-8bd3-d99c7106e8ac",
   "metadata": {},
   "outputs": [
    {
     "name": "stdout",
     "output_type": "stream",
     "text": [
      " \n",
      " \n",
      " \n",
      " \n",
      " \n",
      " \n",
      "Southern Methodist University \n",
      "General Information \n",
      "Undergraduate Catalog  \n",
      "2023 -2024   \n",
      "2444\n"
     ]
    }
   ],
   "source": [
    "# semantic text splitting method\n",
    "# Import SemanticChunker from langchain_experimental.text_splitter\n",
    "from langchain_experimental.text_splitter import SemanticChunker\n",
    "from langchain_openai.embeddings import OpenAIEmbeddings\n",
    "\n",
    "# Initialize the semantic text splitter with OpenAI embeddings\n",
    "semantic_text_splitter = SemanticChunker(\n",
    "    OpenAIEmbeddings(), \n",
    "    breakpoint_threshold_type=\"percentile\")\n",
    "# Split documents using the semantic text splitter\n",
    "semantic_docs = semantic_text_splitter.split_documents(docs)\n",
    "\n",
    "print(semantic_docs[0].page_content)\n",
    "print(len(semantic_docs))"
   ]
  },
  {
   "cell_type": "code",
   "execution_count": null,
   "id": "53902a57-076b-4b53-9731-6ecf97873ab2",
   "metadata": {},
   "outputs": [
    {
     "name": "stdout",
     "output_type": "stream",
     "text": [
      "smu-data_2 already exists\n"
     ]
    }
   ],
   "source": [
    "# Create another instance of a vector store with a new collection using the function created earlier\n",
    "qdrant_collection_2 = os.environ['QDRANT_COLLECTION_2']\n",
    "\n",
    "# Check if the second collection already exists\n",
    "collection_check_2 = False\n",
    "\n",
    "# creating the second vector store and retriever\n",
    "if client.collection_exists(qdrant_collection_2):\n",
    "    vector_store_2 = get_vectorstore(qdrant_collection_2)\n",
    "    print(qdrant_collection_2 + \" already exists\")\n",
    "    collection_check_2 = True\n",
    "else:\n",
    "    vector_store_2 = create_vectorstore(qdrant_collection_2)\n",
    "    print(qdrant_collection_2 + \" was just created\")"
   ]
  },
  {
   "cell_type": "code",
   "execution_count": null,
   "id": "9b061416-058e-43a6-a51e-a010947c7066",
   "metadata": {},
   "outputs": [],
   "source": [
    "vector_store_2_retriever = vector_store_2.as_retriever(search_type=\"similarity_score_threshold\",\n",
    "                                                            search_kwargs = {\"k\": 8, \"score_threshold\" : 0.75})\n",
    "\n",
    "# Add documents to the second vector store if necessary\n",
    "if collection_check_2 == False:\n",
    "        vector_store_2_retriever.add_documents(semantic_docs) # adding the semantically split docs into the vector store if not there already\n",
    "        vector_store_2_retriever.add_documents(csv_documents) # adding csv docs to vectorstore \n",
    "elif collection_check_2 == True:\n",
    "    if client.get_collection(qdrant_collection_2).vectors_count == None:\n",
    "      vector_store_2_retriever.add_documents(semantic_docs) # adding the semantically split docs into the vector store if not there already\n",
    "      vector_store_2_retriever.add_documents(csv_documents) # adding csv docs to vectorstore"
   ]
  },
  {
   "cell_type": "code",
   "execution_count": null,
   "id": "c7715ba4-19ed-4add-a3a7-7651ce5eddbd",
   "metadata": {},
   "outputs": [
    {
     "data": {
      "text/plain": [
       "[Document(metadata={'page': 25, 'source': 'C:/Users/yawbt/OneDrive/Documents/GitHub/SURF-Project_Optimizing-PerunaBot/Data/2023_PerunaPassport.pdf', '_id': 'e9ec59aa-9040-4ca0-a9ab-a023e91a877d', '_collection_name': 'smu-data_2'}, page_content='Credit Hours  Each course is assigned a certain number of credit hours. Most are three credits. You can deter-\\nmine the number of credit hours a particular course is worth by referencing the second digit in the course num -\\nber. For example, WRTR 1312 is a three credit course and HDEV 1210 is a two credit course. Full-time status  You will need to be enrolled in 12 credits to be considered a full-time student. Most students \\nenroll in an average of 15 credits per term. Section  Some courses have multiple sections – the same topic is being taught at different times or by different  \\nfaculty members.'),\n",
       " Document(metadata={'row': 25, 'source': 'https://www.smu.edu/provost/saes/academic-support/university-advising-center/frequently-asked-questions', '_id': '5b4bce54-2828-434f-b8dc-d324a3c00027', '_collection_name': 'smu-data_2'}, page_content=\"question: What year am I (first-year, sophomore, junior, senior)?\\nanswer: SMU classifies students according to the number of credit hours they've earned:\\nFirst Year: 0-29 credit hours earned\\nSophomore: 30-59 credit hours earned\\nJunior: 60-89 credit hours earned\\nSenior: 90 or more credit hours earned\"),\n",
       " Document(metadata={'page': 10, 'source': 'C:/Users/yawbt/OneDrive/Documents/GitHub/SURF-Project_Optimizing-PerunaBot/Data/2023_PerunaPassport.pdf', '_id': '5a93ae2f-7430-4a6a-a891-e2e1eb5f53b6', '_collection_name': 'smu-data_2'}, page_content='Your Academic Plan   |  9\\nPLAN YOUR FIRST-TERM SCHEDULE\\nNow that you’ve reflected on your majors and minors of interest, \\nit’s time to think about what courses you will take once you are \\nhere. Your degree will include classes for the Common Curriculum, \\nyour major and your electives. Some students choose to use their \\nelective classes toward a second major, minor or pre-professional \\nprogram. Your first-term schedule will most likely include a balance \\nof classes toward these requirements. Students typically enroll in 15 to 16 credit hours per term. The \\nrigor of the coursework and the number of courses required to \\nmeet specific academic goals are topics discussed in advising \\nmeetings. EXPLOR ATORY COURSES\\nMost students start college with an idea of what subject \\nareas interest them. Your first term at SMU is the perfect \\ntime to explore a potential major or minor or simply to  \\ntake a course that sounds interesting. Your advisor will  \\nhelp you double check that the course is at an appropriate \\nlevel, but, beyond that, we encourage you to explore  \\nthe amazing academic possibilities at SMU.'),\n",
       " Document(metadata={'page': 48, 'source': 'C:/Users/yawbt/OneDrive/Documents/GitHub/SURF-Project_Optimizing-PerunaBot/Data/20232024 Undergraduate Catalog91123.pdf', '_id': '93f90ae7-bdf9-4be0-9901-7cee65df76f8', '_collection_name': 'smu-data_2'}, page_content='Most courses are valued for three credit hours, i.e., three contact hours per week and at least six hours of preparation. For three -credit -hour courses deployed via different \\ncourse types, modes of delivery, or cale ndars, total number of direct contact hours should be equal to or greater than \\n45 hours, with the total out -of-class work equal to or greater than 90 hours. Courses that deviate from this standard \\nmust provide documentation illustrating how the number of c ontact hours and/or work outside the course equate to \\nthis standard within the term  in which the course is offered. A full- time load in the fall and spring is 12 credit hours for undergraduates. For the summer term (all sessions in the \\nsummer term combined) a full -time load is nine hours for undergraduates. On request an undergraduate can be \\ncertified as full- time for the first or second session of the summer term at six hours. Students who enroll for fewer \\nthan these minimum hours are designated part -time students. The normal undergraduate enrollment for each of the '),\n",
       " Document(metadata={'source': 'https://www.smu.edu/provost/saes/academic-support/university-advising-center/frequently-asked-questions', 'row': 5}, page_content='question: How many hours does it take to complete the CC? Do I need to finish it during my first year?\\nanswer: The number of hours it requires for each student to complete the CC varies based on major, course selections, \\nand any credits they brought to SMU from high school or college. If you take a unique course for each requirement \\nthat’s outside your major/minor, students can expect to take 51-62 hours for their CC requirements. \\nHowever, many classes overlap with major, minor, and/or multiple CC requirements, so you can strategically fulfill CC requirements with fewer classes. \\nNo, you do not need to complete the CC in your first year! In fact, for most students, that would be impossible. \\nFocus on taking a few CC requirements each semester and talk with your academic advisor about how to maximize any requirements your major courses may cover.'),\n",
       " Document(metadata={'source': 'https://www.smu.edu/admission/academics/faqsacademics', 'row': 5}, page_content='question: May I declare my major during my first year?\\nanswer: Upon entering SMU, you may declare your intended major. All students enter the university through Dedman College of Humanities and Sciences. \\nYou may not officially declare your major until you have successfully completed at least 24 hours and satisfied the entrance requirements for your intended major.'),\n",
       " Document(metadata={'source': 'https://www.smu.edu/provost/saes/academic-support/university-advising-center/frequently-asked-questions', 'row': 27}, page_content='question: How many hours do I need to graduate from SMU?\\nanswer: Students under the University Curriculum need to complete at least 122 credit hours and \\nstudents under the Common Curriculum need to complete at least 120 credit hours. This minimum hour requirement includes the requirements for your major and UC/CC.'),\n",
       " Document(metadata={'source': 'https://www.smu.edu/provost/saes/academic-support/university-advising-center/frequently-asked-questions', 'row': 7}, page_content=\"question: How do I know how many hours I'm taking?\\nanswer: There are a couple ways to do this. In your Student Dashboard, select Academics then Course List. \\nThen simply add up the numbers in the Units column. Another way is to look at the course number. \\nThe second number from the left is how many credits the course is worth. For example, WRTR 1312 is worth 3 credit hours.\")]"
      ]
     },
     "execution_count": 19,
     "metadata": {},
     "output_type": "execute_result"
    }
   ],
   "source": [
    "from langchain_community.retrievers import BM25Retriever\n",
    "from langchain.retrievers import EnsembleRetriever\n",
    "\n",
    "# Initialize BM25 retriever from combined semantic and CSV documents\n",
    "bm25_retriever = BM25Retriever.from_documents(semantic_docs+csv_documents)\n",
    "\n",
    "# Initialize the ensemble retriever with BM25 and vector store retrievers\n",
    "ensemble_retriever = EnsembleRetriever(\n",
    "    retrievers=[bm25_retriever, vector_store_2_retriever], \n",
    "    weights=[0.5, 0.5]\n",
    ")\n",
    "\n",
    "# Test the ensemble retriever\n",
    "ensemble_retriever.invoke(\"How many credit hours should I take my first year?\")"
   ]
  },
  {
   "cell_type": "markdown",
   "metadata": {},
   "source": [
    "We are going to have a base option that splits the text using just the RecursiveCharacterTextSplitter like the [original repo](https://github.com/yawbtng/SMUChatBot_Project/blob/main/main.py) does. From there, we're creating a third vector store collection to upload this text into using the vector store as the retriver."
   ]
  },
  {
   "cell_type": "code",
   "execution_count": 8,
   "id": "6f991113-c04c-45be-9e73-37035d97db10",
   "metadata": {},
   "outputs": [
    {
     "name": "stdout",
     "output_type": "stream",
     "text": [
      "Southern Methodist University \n",
      "General Information \n",
      "Undergraduate Catalog  \n",
      "2023 -2024\n",
      "7323\n"
     ]
    }
   ],
   "source": [
    "# Initialize a base text splitter for normal splitting of documents\n",
    "from langchain_text_splitters import RecursiveCharacterTextSplitter\n",
    "base_text_splitter = RecursiveCharacterTextSplitter(chunk_size=500, chunk_overlap=50, \n",
    "                                                length_function=len, add_start_index=True)  \n",
    "\n",
    "# Split documents using the base text splitter\n",
    "normal_split_docs = base_text_splitter.split_documents(docs)\n",
    "\n",
    "# Check and print the result of the normal splitting\n",
    "print(normal_split_docs[0].page_content)\n",
    "print(len(normal_split_docs))"
   ]
  },
  {
   "cell_type": "code",
   "execution_count": 12,
   "id": "2c097d81-2b39-456c-a60e-731a8bc56b37",
   "metadata": {},
   "outputs": [
    {
     "name": "stdout",
     "output_type": "stream",
     "text": [
      "smu-data_0 was just created\n"
     ]
    }
   ],
   "source": [
    "# getting the collection name of the third vector store\n",
    "qdrant_collection_0 = os.environ['QDRANT_COLLECTION_0']\n",
    "\n",
    "# Check if the third collection already exists\n",
    "collection_check_0 = False\n",
    "\n",
    "# creating the third vector store and retriever\n",
    "if client.collection_exists(qdrant_collection_0):\n",
    "    vector_store_0 = get_vectorstore(qdrant_collection_0)\n",
    "    collection_check_0 = True\n",
    "    print(qdrant_collection_0 + \" is already there\")\n",
    "else:\n",
    "    vector_store_0 = create_vectorstore(qdrant_collection_0)\n",
    "    print(qdrant_collection_0 + \" was just created\")"
   ]
  },
  {
   "cell_type": "code",
   "execution_count": 13,
   "id": "91bd0874-67dc-487c-a8f5-efdfe26fbf9d",
   "metadata": {},
   "outputs": [
    {
     "data": {
      "text/plain": [
       "[Document(metadata={'row': 10, 'source': 'https://www.smu.edu/admission/academics/faqsacademics', '_id': 'efb28245-60f4-49e3-8b29-3a752cf7f9e2', '_collection_name': 'smu-data_0'}, page_content='question: Will I have the opportunity to study abroad?\\nanswer: Yes. SMU offers summer, semester and year-long opportunities to live, study and travel in foreign countries.\\nSMU Abroad\\xa0offers 148 programs in 50 countries.'),\n",
       " Document(metadata={'page': 241, 'source': 'C:/Users/yawbt/OneDrive/Documents/GitHub/SURF-Project_Optimizing-PerunaBot/Data/20232024 Undergraduate Catalog91123.pdf', 'start_index': 935, '_id': '6d68a960-0610-46be-93ad-00a08bd4bdd2', '_collection_name': 'smu-data_0'}, page_content='To maximize the educational experience in these degree programs, all international studies majors are strongly \\nencouraged to spend at least one term or summer studying abroad. The University offers numerous study abroad \\nopportunities around the world; most  of these courses may be applied to the international studies major. The \\nfollowing policies apply to the International Studies Program:  \\nFor the International Studies Major'),\n",
       " Document(metadata={'page': 248, 'source': 'C:/Users/yawbt/OneDrive/Documents/GitHub/SURF-Project_Optimizing-PerunaBot/Data/20232024 Undergraduate Catalog91123.pdf', 'start_index': 935, '_id': 'c032831e-6bd7-4455-9932-60b4d664174a', '_collection_name': 'smu-data_0'}, page_content='To maximize the educational experience in these degree programs, all international studies minors are strongly \\nencouraged to spend at least one term or summer studying abroad. The University offers numerous study abroad \\nopportunities around the world; most  of these courses may be applied to the international studies minor. The \\nfollowing policies apply to the International Studies Program:  \\nFor the International Studies Minor'),\n",
       " Document(metadata={'page': 50, 'source': 'C:/Users/yawbt/OneDrive/Documents/GitHub/SURF-Project_Optimizing-PerunaBot/Data/20232024 Undergraduate Catalog91123.pdf', 'start_index': 3651, '_id': '038f7098-4371-476b-81bc-7258c11faf1f', '_collection_name': 'smu-data_0'}, page_content='SMU credit. Students desiring to take a course on a program not approved by SMU Abroad may request approval \\nthrough the process described below.  \\nRequesting Permission to Study on a non- SMU Abroad Program:  SMU students who wish to study abroad \\nthrough a program or university not already affiliated with SMU can petition SMU Abroad for special approval of the requested program or university.  Programs must be petitioned no later than October 1\\nst of the academic year'),\n",
       " Document(metadata={'page': 29, 'source': 'C:/Users/yawbt/OneDrive/Documents/GitHub/SURF-Project_Optimizing-PerunaBot/Data/2023_PerunaPassport.pdf', 'start_index': 880, '_id': 'a2679d0e-1b9f-4e33-ab90-1f924ee3200e', '_collection_name': 'smu-data_0'}, page_content=\"studying, researching or interning abroad encounter diverse \\nglobal communities and intellectual traditions. SMU Abroad  \\nprograms and global partnerships enhance academic and  \\nexperiential learning around the world.\\nStudents considering study abroad are urged to meet early and \\noften with both their academic advisor and SMU Abroad advisor.  \\nThis advising input is essential in integrating study abroad \\ncoursework into a student's four-year plan of study.SMU-IN-TAOS\"),\n",
       " Document(metadata={'page': 93, 'source': 'C:/Users/yawbt/OneDrive/Documents/GitHub/SURF-Project_Optimizing-PerunaBot/Data/20232024 Undergraduate Catalog91123.pdf', 'start_index': 875, '_id': '3f872b5b-d81d-42b0-88bd-08369a4b7927', '_collection_name': 'smu-data_0'}, page_content='Scholarship and Financial Aid  \\nMatriculated SMU students may apply their institutional and federal financial aid to their abroad program. Students should consult with SMU Financial Aid for details.  \\nSMU Abroad offers a limited number of study abroad scholarships. Students apply separately for these scholarships during the SMU Abroad application process. In addition, many departments and other academic units on campus'),\n",
       " Document(metadata={'page': 253, 'source': 'C:/Users/yawbt/OneDrive/Documents/GitHub/SURF-Project_Optimizing-PerunaBot/Data/20232024 Undergraduate Catalog91123.pdf', 'start_index': 747, '_id': '30f63d05-2347-4700-855f-51f783bee251', '_collection_name': 'smu-data_0'}, page_content='language. To maximize the educational experience, students are strongly encouraged to spend at least one term or \\nsummer studying in Asia. Most of  the courses taught in University study abroad programs in Asia may be applied to \\nthe Asian studies minor.  \\nRequirements for the Minor  \\nCore Courses and Global Perspective (6 Credit Hours)  \\nTwo from the following:  \\nCore Courses  \\n• ANTH 2301 -  Introductory Cultural Anthropology  \\n• INTL 1301 -  Introduction to International Studies'),\n",
       " Document(metadata={'page': 92, 'source': 'C:/Users/yawbt/OneDrive/Documents/GitHub/SURF-Project_Optimizing-PerunaBot/Data/20232024 Undergraduate Catalog91123.pdf', 'start_index': 3791, '_id': '039de36e-cc51-4278-90cc-f6e4f2c86655', '_collection_name': 'smu-data_0'}, page_content='diverse array of study abroad opportunities around the world. Term program options include study at universities, \\nstudy abroad programs on specifi c disciplinary subjects, language immersion programs, and programs with field \\nstudy and internship components. A wide range of programs are pre -approved for SMU students, with courses \\navailable in many disciplines.')]"
      ]
     },
     "execution_count": 13,
     "metadata": {},
     "output_type": "execute_result"
    }
   ],
   "source": [
    "# Initialize the retriever for the third vector store\n",
    "vector_store_0_retriever = vector_store_0.as_retriever(search_kwargs = {\"k\": 8, \"score_threshold\" : 0.75})\n",
    "\n",
    "# Add documents to the third vector store if necessary\n",
    "if collection_check_0 == False:\n",
    "        vector_store_0_retriever.add_documents(normal_split_docs) # adding the semantically split docs into the vector store if not there already\n",
    "        vector_store_0_retriever.add_documents(csv_documents) # adding csv docs to vectorstore \n",
    "elif collection_check_0 == True:\n",
    "    if client.get_collection(qdrant_collection_0).vectors_count == None:\n",
    "      vector_store_2_retriever.add_documents(normal_split_docs) # adding the semantically split docs into the vector store if not there already\n",
    "      vector_store_2_retriever.add_documents(csv_documents) # adding csv docs to vectorstore\n",
    "\n",
    "# Test the third vector store retriever\n",
    "vector_store_0_retriever.invoke(\"Can I do study abroad?\")"
   ]
  },
  {
   "cell_type": "markdown",
   "metadata": {},
   "source": [
    "The last thing we need to do is to create functions for objects we will need in other notebooks or python scripts or notebooks. However, this method can be inefficient because the notebooks we will use later are in sibiling folders, so we will have to run the whole script again. So we will use another method shown below."
   ]
  },
  {
   "cell_type": "code",
   "execution_count": null,
   "metadata": {},
   "outputs": [],
   "source": [
    "def get_all_langchain_docs():\n",
    "  return {\n",
    "    \"pdf_docs\": docs,\n",
    "    \"csv_docs\": csv_documents\n",
    "  }\n",
    "\n",
    "def get_all_vectorstores():\n",
    "  return {\n",
    "      \"vector_store_0\": vector_store_0, # collection smu-data_0\n",
    "      \"vector_store_1\": vector_store_1, # collection smu-data_1\n",
    "      \"vector_store_2\": vector_store_2, # collection smu-data_2\n",
    "  }\n",
    "\n",
    "def get_all_retrievers():\n",
    "  return {\n",
    "      \"vector_store_0_retriever\": vector_store_0_retriever, # collection smu-data_0\n",
    "      \"parent_retriever\": parent_retriever, # collection smu-data_1\n",
    "      \"ensemble_retriever\": ensemble_retriever, # collection smu-data_2\n",
    "  }"
   ]
  },
  {
   "cell_type": "markdown",
   "metadata": {},
   "source": [
    "Here is the second method. We are going to serialize the objects that can be serialized, so we can use later on. The other objects we have above that are not included here are **unserializable** (trust me I tried to get it to work...for 4 days straight), so we will just have to recreate them in the code."
   ]
  },
  {
   "cell_type": "code",
   "execution_count": 13,
   "metadata": {},
   "outputs": [],
   "source": [
    "# Collecting needed langchain objects into a dictionary\n",
    "all_data = {\n",
    "    'pdf_docs': docs,\n",
    "    'csv_docs': csv_documents,\n",
    "    'semantic_docs': semantic_docs,\n",
    "    'normal_split_docs': normal_split_docs,\n",
    "}\n",
    "\n",
    "import shelve\n",
    "\n",
    "# Serialize the LangChain documentation to a JSON file\n",
    "with shelve.open(\"data_preprocessing_langchain_docs.db\") as db:\n",
    "    for key, value in all_data.items():\n",
    "        db[key] = value"
   ]
  }
 ],
 "metadata": {
  "kernelspec": {
   "display_name": "base",
   "language": "python",
   "name": "python3"
  },
  "language_info": {
   "codemirror_mode": {
    "name": "ipython",
    "version": 3
   },
   "file_extension": ".py",
   "mimetype": "text/x-python",
   "name": "python",
   "nbconvert_exporter": "python",
   "pygments_lexer": "ipython3",
   "version": "3.11.5"
  }
 },
 "nbformat": 4,
 "nbformat_minor": 2
}
