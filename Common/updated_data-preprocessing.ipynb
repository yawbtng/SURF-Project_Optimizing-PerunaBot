{
 "cells": [
  {
   "cell_type": "code",
   "execution_count": null,
   "id": "ad67beb3-ea74-4e81-9b27-fc10e05afb04",
   "metadata": {},
   "outputs": [
    {
     "data": {
      "text/plain": [
       "True"
      ]
     },
     "execution_count": 1,
     "metadata": {},
     "output_type": "execute_result"
    }
   ],
   "source": [
    "# python script of data preprocesssing step\n",
    "\n",
    "# Set up to initialize API keys from .env file into the\n",
    "import os\n",
    "from dotenv import find_dotenv, load_dotenv\n",
    "\n",
    "# Load environment variables from the .env files\n",
    "load_dotenv(find_dotenv(filename='SURF-Project_Optimizing-PerunaBot/setup/.env'))"
   ]
  },
  {
   "cell_type": "code",
   "execution_count": null,
   "id": "7fc67aa3-ce8c-470a-bc13-b8f7ee099024",
   "metadata": {},
   "outputs": [],
   "source": [
    "# Import the Client class from the langsmith package for tracing and tracking\n",
    "\n",
    "from langsmith import Client\n",
    "\n",
    "# Retrieve Langsmith API key and other related environment variables\n",
    "langsmith_api_key = os.environ[\"LANGSMITH_API_KEY\"]\n",
    "os.environ[\"LANGCHAIN_TRACING_V2\"]\n",
    "langchain_endpoint = os.environ[\"LANGCHAIN_ENDPOINT\"]\n",
    "langsmith_project = os.environ[\"LANGCHAIN_PROJECT\"]\n",
    "\n",
    "# Initialize a Langsmith Client instance\n",
    "langsmith_client = Client()\n",
    "\n",
    "# Test section (commented out)\n",
    "# from langchain_openai import ChatOpenAI\n",
    "# llm = ChatOpenAI()\n",
    "# llm.invoke(\"What can you do?\")"
   ]
  },
  {
   "cell_type": "code",
   "execution_count": null,
   "id": "db92e6fb-39fb-42b0-950e-dca1d52ce017",
   "metadata": {},
   "outputs": [
    {
     "name": "stdout",
     "output_type": "stream",
     "text": [
      "1015\n",
      " \n",
      " \n",
      " \n",
      " \n",
      " \n",
      " \n",
      "Southern Methodist University \n",
      "General Information \n",
      "Undergraduate Catalog  \n",
      "2023 -2024  \n",
      "{'source': 'C:/Users/yawbt/OneDrive/Documents/GitHub/SURF-Project_Optimizing-PerunaBot/Data/20232024 Undergraduate Catalog91123.pdf', 'page': 0}\n"
     ]
    }
   ],
   "source": [
    "# Import the PyPDFLoader from langchain_community.document_loaders for PDF document loading\n",
    "from langchain_community.document_loaders import PyPDFLoader\n",
    "\n",
    "# file paths of PDFs to be used\n",
    "pdf_paths = ['C:/Users/yawbt/OneDrive/Documents/GitHub/SURF-Project_Optimizing-PerunaBot/Data/20232024 Undergraduate Catalog91123.pdf',\n",
    "             'C:/Users/yawbt/OneDrive/Documents/GitHub/SURF-Project_Optimizing-PerunaBot/Data/Official University Calendar 2023-2024.pdf',\n",
    "             'C:/Users/yawbt/OneDrive/Documents/GitHub/SURF-Project_Optimizing-PerunaBot/Data/2023_PerunaPassport.pdf',\n",
    "             'C:/Users/yawbt/OneDrive/Documents/GitHub/SURF-Project_Optimizing-PerunaBot/Data/SMU Student Handbook 23-24.pdf',\n",
    "             'C:/Users/yawbt/OneDrive/Documents/GitHub/SURF-Project_Optimizing-PerunaBot/Data/SMUCampusGuideFactsMap.pdf'\n",
    "             ]\n",
    "\n",
    "# Function to load PDFs using LangChain's PyPDFLoader\n",
    "def load_pdfs_with_langchain(pdf_paths):\n",
    "    documents = []\n",
    "    for path in pdf_paths:\n",
    "        try:\n",
    "            # Use LangChain's PyPDFLoader to load the PDF\n",
    "            loader = PyPDFLoader(path)\n",
    "            # Load and pase the PDF into document instances\n",
    "            pdf_doc = loader.load()\n",
    "            # Insert the parsed PDF documents into the documents list\n",
    "            documents.extend(pdf_doc)\n",
    "        except Exception as e:\n",
    "            print(f\"Error loading {path}: {e}\")\n",
    "    return documents\n",
    "\n",
    "# Load PDF documents using the function\n",
    "docs = load_pdfs_with_langchain(pdf_paths)\n",
    "\n",
    "print(len(docs))\n",
    "print(docs[0].page_content[0:100])\n",
    "print(docs[0].metadata)"
   ]
  },
  {
   "cell_type": "code",
   "execution_count": null,
   "id": "6efb0747-28c0-4bea-a39f-aa2b7b45849c",
   "metadata": {},
   "outputs": [
    {
     "name": "stdout",
     "output_type": "stream",
     "text": [
      "['University Advising Center FAQs', 'Student Financial Services FAQs', 'Parent FAQs', 'SMU Experience FAQs', 'UG Admissions Academics FAQs']\n",
      "[('C:/Users/yawbt/OneDrive/Documents/GitHub/SURF-Project_Optimizing-PerunaBot/Data/University Advising Center FAQs.csv', 'https://www.smu.edu/provost/saes/academic-support/university-advising-center/frequently-asked-questions'), ('C:/Users/yawbt/OneDrive/Documents/GitHub/SURF-Project_Optimizing-PerunaBot/Data/Student Financial Services FAQs.csv', 'https://www.smu.edu/provost/saes/academic-support/student-academic-success/faq'), ('C:/Users/yawbt/OneDrive/Documents/GitHub/SURF-Project_Optimizing-PerunaBot/Data/Parent FAQs.csv', 'https://www.smu.edu/provost/saes/academic-support/university-advising-center/incoming-students/for-parents'), ('C:/Users/yawbt/OneDrive/Documents/GitHub/SURF-Project_Optimizing-PerunaBot/Data/SMU Experience FAQs.csv', 'https://www.smu.edu/admission/campuslife/faqlivingoncampus'), ('C:/Users/yawbt/OneDrive/Documents/GitHub/SURF-Project_Optimizing-PerunaBot/Data/UG Admissions Academics FAQs.csv', 'https://www.smu.edu/admission/academics/faqsacademics')]\n"
     ]
    }
   ],
   "source": [
    "# Import the pandas library to work with the Excel file and convert it to a data frame\n",
    "import pandas as pd\n",
    "\n",
    "# Load the Excel file\n",
    "excel_path = 'C:/Users/yawbt/OneDrive/Documents/GitHub/SURF-Project_Optimizing-PerunaBot/Data/SMU FAQs.xlsx'\n",
    "xlsx = pd.ExcelFile(excel_path)\n",
    "\n",
    "# checking to see if loading the file worked\n",
    "print(xlsx.sheet_names)\n",
    "\n",
    "# Iterate through each sheet and save as a CSV file\n",
    "csv_files = []\n",
    "for sheet_name in xlsx.sheet_names:\n",
    "    # Read the entire sheet to extract the metadata from cell A1\n",
    "    sheet_df = pd.read_excel(xlsx, sheet_name=sheet_name, header=None)\n",
    "    \n",
    "    # Get the link of the webpage to include as metadata\n",
    "    metadata = sheet_df.iat[0, 0]\n",
    "    \n",
    "    # Read the sheet into a DataFrame starting from the second row\n",
    "    df = pd.read_excel(xlsx, sheet_name=sheet_name, skiprows=1)\n",
    "    \n",
    "    # Save the DataFrame to a CSV file\n",
    "    csv_path = f'C:/Users/yawbt/OneDrive/Documents/GitHub/SURF-Project_Optimizing-PerunaBot/Data/{sheet_name}.csv'\n",
    "    df.to_csv(csv_path, index=False, encoding='utf-8')\n",
    "    csv_files.append((csv_path, metadata))\n",
    "\n",
    "# Display the list of generated CSV files and their metadata\n",
    "print(csv_files)"
   ]
  },
  {
   "cell_type": "code",
   "execution_count": null,
   "id": "aef3316c-be5b-41e6-8e55-f56ffc46b3de",
   "metadata": {},
   "outputs": [
    {
     "name": "stdout",
     "output_type": "stream",
     "text": [
      "page_content='question: What's the difference between all-college GPA and SMU GPA?\n",
      "answer: Your all-college GPA is the GPA used from all your grades at any college or university you’ve attended, including SMU. \n",
      "Your SMU GPA is your GPA based only on your SMU grades. Some schools/majors use your all-college GPA or grades in courses you’ve\n",
      " taken at another institution to determine if they will admit you to their major.' metadata={'source': 'https://www.smu.edu/provost/saes/academic-support/university-advising-center/frequently-asked-questions', 'row': 0}\n"
     ]
    }
   ],
   "source": [
    "# Import CSVLoader from langchain_community.document_loaders to load CSV documents\n",
    "from langchain_community.document_loaders import CSVLoader\n",
    "\n",
    "# Create LangChain documents from CSV files with metadata\n",
    "csv_documents = []\n",
    "\n",
    "for csv_path, metadata in csv_files:\n",
    "    loader = CSVLoader(file_path=csv_path, encoding='utf-8')\n",
    "    csv_docs = loader.load()\n",
    "    for csv_doc in csv_docs:\n",
    "        csv_doc.metadata['source'] = metadata\n",
    "    csv_documents.extend(csv_docs)\n",
    "\n",
    "# Display the first document as an example\n",
    "print(csv_documents[0])"
   ]
  },
  {
   "cell_type": "code",
   "execution_count": null,
   "id": "d33bb344-cfca-44b7-95ee-f62d45e2d046",
   "metadata": {},
   "outputs": [],
   "source": [
    "# Import Qdrant client for vector database cloud store\n",
    "from qdrant_client import qdrant_client\n",
    "from qdrant_client.http import models\n",
    "\n",
    "# Initialize Qdrant host URL and API key from environment variables\n",
    "qdrant_host = os.environ['QDRANT_HOST']\n",
    "qdrant_api_key = os.environ['QDRANT_API_KEY']\n",
    "\n",
    "# Initialize Qdrant Client\n",
    "client = qdrant_client.QdrantClient(\n",
    "    url=qdrant_host, \n",
    "    api_key = qdrant_api_key,\n",
    ")"
   ]
  },
  {
   "cell_type": "code",
   "execution_count": null,
   "id": "2c3e6133-ee22-4d23-9dd0-c4f93b531ca2",
   "metadata": {},
   "outputs": [],
   "source": [
    "# Import OpenAIEmbeddings and Qdrant from respective langchain modules\n",
    "\n",
    "from langchain_openai import OpenAIEmbeddings\n",
    "from langchain_qdrant import Qdrant\n",
    "\n",
    "# Retrieve OpenAI API key from environment variables\n",
    "openai_api_key = os.environ['OPENAI_API_KEY']\n",
    "\n",
    "# Function to create a vector store based on the collection name\n",
    "def create_vectorstore(qdrant_collection_name):\n",
    "    \n",
    "    # Ensuring Qdrant Client connection\n",
    "    client = qdrant_client.QdrantClient(\n",
    "        url=qdrant_host, \n",
    "        api_key = qdrant_api_key,\n",
    "    )\n",
    "\n",
    "    vectors_config = models.VectorParams(\n",
    "        size=1536, #for OpenAI\n",
    "        distance=models.Distance.COSINE\n",
    "   )\n",
    "    # Create a Qdrant collection with the specified name and vectors configuration\n",
    "    client.create_collection(\n",
    "        collection_name = qdrant_collection_name,\n",
    "        vectors_config=vectors_config,   \n",
    "    )\n",
    "\n",
    "    # Initialize the vector store with the created Qdrant collection\n",
    "    vector_store = Qdrant(\n",
    "        client=client, \n",
    "        collection_name=qdrant_collection_name, \n",
    "        embeddings=OpenAIEmbeddings(),\n",
    "    )\n",
    "  \n",
    "    return vector_store\n",
    "\n",
    "# Function to return the vector store if it already exists\n",
    "\n",
    "def get_vectorstore(qdrant_collection_name):\n",
    "    \n",
    "    # Ensuring Qdrant Client connection\n",
    "    client = qdrant_client.QdrantClient(\n",
    "    url=qdrant_host, \n",
    "    api_key = qdrant_api_key,\n",
    "    )\n",
    "\n",
    "    vector_store = Qdrant(\n",
    "        client=client, \n",
    "        collection_name=qdrant_collection_name, \n",
    "        embeddings=OpenAIEmbeddings(),\n",
    "    )\n",
    "\n",
    "    return vector_store"
   ]
  },
  {
   "cell_type": "code",
   "execution_count": null,
   "id": "2d6489c3-1b1d-44d2-8c6c-a54fc4aec35f",
   "metadata": {},
   "outputs": [
    {
     "name": "stdout",
     "output_type": "stream",
     "text": [
      "smu-data_1 was just created\n"
     ]
    }
   ],
   "source": [
    "# create 1st collection of vectors\n",
    "qdrant_collection_1 = os.environ['QDRANT_COLLECTION_1']\n",
    "\n",
    "# Checking if the collection already exists\n",
    "collection_check_1 = False\n",
    "\n",
    "if client.collection_exists(qdrant_collection_1):\n",
    "    vector_store_1 = get_vectorstore(qdrant_collection_1)\n",
    "    collection_check_1 = True\n",
    "    print(qdrant_collection_1 + \" already exists\")\n",
    "else:\n",
    "    vector_store_1 = create_vectorstore(qdrant_collection_1)\n",
    "    print(qdrant_collection_1 + \" was just created\")"
   ]
  },
  {
   "cell_type": "code",
   "execution_count": null,
   "id": "bb561a25-6105-464a-9255-046fc581ca75",
   "metadata": {},
   "outputs": [],
   "source": [
    "# Parent Document Retriever Method\n",
    "from langchain.text_splitter import RecursiveCharacterTextSplitter\n",
    "from langchain.retrievers import ParentDocumentRetriever\n",
    "# created a custom class in ParentDocumentRetriever that adds the documents to the docstore but not to the vectorstore\n",
    "from langchain.retrievers.parent_document_retriever import CustomParentDocumentRetriever\n",
    "\n",
    "from langchain.storage import InMemoryStore\n",
    "\n",
    "child_splitter = RecursiveCharacterTextSplitter(chunk_size=250, chunk_overlap=25, \n",
    "                                                length_function=len, add_start_index=True) \n",
    "parent_splitter = RecursiveCharacterTextSplitter(chunk_size=750, chunk_overlap=50, \n",
    "                                                length_function=len, add_start_index=True)  \n",
    "\n",
    "# storage for parent splitter\n",
    "store = InMemoryStore()\n",
    "\n",
    "# retriever\n",
    "def create_parent_retriever():\n",
    "    parent_retriever = ParentDocumentRetriever(\n",
    "        vectorstore=vector_store_1, \n",
    "        docstore=store, \n",
    "        child_splitter=child_splitter,\n",
    "        parent_splitter=parent_splitter,\n",
    "        search_kwargs = {\"k\": 8}\n",
    "        )\n",
    "    return parent_retriever\n",
    "\n",
    "# Function to create a custom parent document retriever\n",
    "def create_custom_parent_retriever():\n",
    "    parent_retriever = CustomParentDocumentRetriever(\n",
    "        vectorstore=vector_store_1, \n",
    "        docstore=store, \n",
    "        child_splitter=child_splitter,\n",
    "        parent_splitter=parent_splitter,\n",
    "        search_kwargs = {\"k\": 10}\n",
    "        )\n",
    "    return parent_retriever\n",
    "\n",
    "parent_retriever = create_custom_parent_retriever()"
   ]
  },
  {
   "cell_type": "code",
   "execution_count": null,
   "id": "13d15cac-19fa-4ed1-97f8-16fbd9336810",
   "metadata": {},
   "outputs": [
    {
     "name": "stdout",
     "output_type": "stream",
     "text": [
      "PDF docs and CSV docs added to doc store and vectorstore\n"
     ]
    },
    {
     "data": {
      "text/plain": [
       "[Document(metadata={'source': 'C:/Users/yawbt/OneDrive/Documents/GitHub/SURF-Project_Optimizing-PerunaBot/Data/20232024 Undergraduate Catalog91123.pdf', 'page': 80, 'start_index': 3259, 'doc_id': '88578041-692c-47fe-bccf-982c7855b188'}, page_content='fellow  students in nonhonors classes; in the Residential Commons; in the student center; on the playing fields; and \\nin the numerous student governing, social, pre -professional, political, cultural and social organizations that enhance \\nstudent life at SMU.  \\nEntrance to the University Honors Program is by invitation prior to matriculation or by application after at least one term of coursework at SMU. At the end of their undergraduate years, students who maintain a 3.000 GPA in their \\nhonors courses and at leas t a 3.300 overall GPA receive a diploma inscribed with the designation \"Honors in the \\nLiberal Arts.\" More information about the University Honors Program is available on the website'),\n",
       " Document(metadata={'source': 'C:/Users/yawbt/OneDrive/Documents/GitHub/SURF-Project_Optimizing-PerunaBot/Data/20232024 Undergraduate Catalog91123.pdf', 'page': 3, 'start_index': 0, 'doc_id': 'bf1cf2d3-e252-43bf-8753-67823cd028c3'}, page_content='4 \\n Table of Contents  \\nUNIVERSITY CALENDAR  ....................................................................................................................................... 13 \\nABOUT SMU  ........................................................................................................................................................ 14 \\nADMISSION  .......................................................................................................................................................... 17 \\nTUITION, FEES AND FINANCIAL AID  ..................................................................................................................... 32'),\n",
       " Document(metadata={'source': 'https://www.smu.edu/provost/saes/academic-support/student-academic-success/faq', 'row': 12, 'start_index': 0, 'doc_id': '04f4691c-425a-424a-ac5f-7be73db4f95c'}, page_content='question: What is the SMU Opportunity Award?\\nanswer: This is an SMU need-based grant that is awarded after all scholarships, federal and state grants have been added to your financial aid package and is based on your demonstrated need that is not met by any and all other scholarships or grants.'),\n",
       " Document(metadata={'source': 'C:/Users/yawbt/OneDrive/Documents/GitHub/SURF-Project_Optimizing-PerunaBot/Data/20232024 Undergraduate Catalog91123.pdf', 'page': 13, 'start_index': 0, 'doc_id': '682dfc37-7fc6-4e8f-996e-4e9c6d1120f7'}, page_content='14 \\n About SMU  \\nThe Vision of Southern Methodist University  \\nTo create and impart knowledge that will shape citizens who contribute to their communities and lead their \\nprofessions in a global society.  \\nThe Mission of Southern Methodist University  \\nSouthern Methodist University will create, expand and impart knowledge through teaching, research and service, \\nshaping world changers who contribute to their communities and excel in their professions in a global society. \\nAmong its faculty, students and st aff, the University will cultivate principled thought, develop intellectual skills and'),\n",
       " Document(metadata={'source': 'C:/Users/yawbt/OneDrive/Documents/GitHub/SURF-Project_Optimizing-PerunaBot/Data/20232024 Undergraduate Catalog91123.pdf', 'page': 13, 'start_index': 1858, 'doc_id': 'a0d5ec5d-f085-4270-8855-80a64f0d0bfe'}, page_content='Education and Human Development.  \\nFounded in 1911 by what is now the United Methodist Church, SMU is non- sectarian in its teaching and is \\ncommitted to the values of academic freedom and open inquiry.  \\nAt its opening session in 1915, the University had two buildings, 706 students, a 35- member faculty and total assets \\nof $633,540.  \\nToday, the University has more than 100 buildings, a total enrollment averaging more than 12,000 the past 3 years, a \\nfull-time faculty of 743 and assets of $4.0 billion - including an endowment of $2.0 billion (market value, May 31, \\n2022).'),\n",
       " Document(metadata={'source': 'C:/Users/yawbt/OneDrive/Documents/GitHub/SURF-Project_Optimizing-PerunaBot/Data/20232024 Undergraduate Catalog91123.pdf', 'page': 13, 'start_index': 600, 'doc_id': 'bcb976c1-0ae9-4517-acfe-40a44a9ed919'}, page_content='promote an environment emphasizing individual dignity and worth. SMU affirms its historical commitment to academic freedom and open inquiry, to moral and ethical values,  and to its United Methodist heritage.  \\nSouthern Methodist University  \\nAs a private, comprehensive university enriched by its United Methodist heritage and its partnership with the Dallas \\nMetroplex, Southern Methodist University seeks to enhance the intellectual, cultural, technical, ethical and social \\ndevelopment of a divers e student body. SMU offers undergraduate programs centered on the liberal arts; excellent'),\n",
       " Document(metadata={'source': 'C:/Users/yawbt/OneDrive/Documents/GitHub/SURF-Project_Optimizing-PerunaBot/Data/SMUCampusGuideFactsMap.pdf', 'page': 1, 'start_index': 2812, 'doc_id': '60685931-6d0b-424b-be7e-16708b526983'}, page_content='teaches and even hosts dinners for students.\\nStudents gain leadership experience through 200+  \\ncampus organizations.  A student serves as a voting  \\nmember of the SMU Board of Trustees.\\nSMU.EDUDATA-CRUNCHING POWER SPEEDS UP RESEARCH\\n Published May 2023    230595.523Visitor information\\nTo learn more, visit  SMU.EDU/ABOUTSMU\\nDirections to campus and parking information  SMU.EDU/MAPS\\n17 Division I sports  \\n19 club sports\\n18 intramural sports\\nA big part of the SMU student experience is our Residential \\nCommons system, which combines the academic,  \\nresidential and social aspects of campus living.andSMU     DALLAS\\nAbout SMU\\nMustangs SMU\\nOur FAMILY\\nOur STUDENTSOur COMMUNITYRESEARCH      TEACHING'),\n",
       " Document(metadata={'source': 'C:/Users/yawbt/OneDrive/Documents/GitHub/SURF-Project_Optimizing-PerunaBot/Data/20232024 Undergraduate Catalog91123.pdf', 'page': 37, 'start_index': 1128, 'doc_id': '93d80656-c11c-4d37-a590-bcfb93b712f1'}, page_content='www.smu.edu/parents.  \\nThe Office of Student Advocacy and Support also provides training, presentations, and consultation to the campus community regarding recognizing and responding to signs of distress. Faculty, staff, students, parents, and families are encouraged to reach ou t regarding resources available through the office.  \\nStudent Conduct and Community Standards  \\nwww.smu.edu/studentconduct  \\nThe Office of Student Conduct and Community Standards, (www.smu.edu/studentconduct), promotes community, \\nscholarship, and civility by holding students accountable to the Student Code of Conduct and the Honor Code. The \\nUniversity expects all students to be responsible citizens and to abide by all federal, state, and local laws. The'),\n",
       " Document(metadata={'source': 'C:/Users/yawbt/OneDrive/Documents/GitHub/SURF-Project_Optimizing-PerunaBot/Data/SMU Student Handbook 23-24.pdf', 'page': 8, 'start_index': 0, 'doc_id': 'c8755962-c7e4-421f-9733-d03d1cba72a0'}, page_content='8\\nJ. “Investigation” refers to the process of making an institutional inquiry into a \\nclaim or allegation of action(s) which may be in violation of SMU policy, and/or \\napplicable federal, state, or local law or ordinance. Such inquiry may include, but \\nnot be limited to: gathering information from individuals with knowledge about \\nsuch claim or allegation; review of documents or other tangible information \\nrelating to the claim or allegation; review of any information already available in \\na public domain (i.e., postings/photographs on social media, such as Facebook, \\ntext messages, emails, webpages) or other information discovered or provided \\nthat is deemed relevant to such inquiry by SMU.'),\n",
       " Document(metadata={'source': 'C:/Users/yawbt/OneDrive/Documents/GitHub/SURF-Project_Optimizing-PerunaBot/Data/20232024 Undergraduate Catalog91123.pdf', 'page': 42, 'start_index': 1369, 'doc_id': 'e5e0bbad-f89d-49e9-88fa-23238a9a118e'}, page_content='www.smu.edu/career  \\nThe Hegi Family Career Development Center at SMU is dedicated to serving the needs of SMU students and alumni and assisting employers in reaching qualified candidates from SMU. The Career Development Center staff guides and encourages students and alumni i n the development of skills necessary for lifelong career management and \\noffers opportunities for employers to recruit students through campus events and online resources. At Hegi, the staff \\ncares about helping students develop into well -rounded individual s, and is dedicated to values of consistency, \\nauthenticity and commitment to excellence.')]"
      ]
     },
     "execution_count": 15,
     "metadata": {},
     "output_type": "execute_result"
    }
   ],
   "source": [
    "# Check the status of the collection and add documents to the vector store if necessary\n",
    "if collection_check_1 == False:\n",
    "    # if collection is just created and empty\n",
    "    if client.get_collection(qdrant_collection_1).vectors_count == None:\n",
    "    # Add documents to the Qdrant vector database and parent store\n",
    "        parent_retriever.add_documents(docs)\n",
    "        parent_retriever.add_documents(csv_documents)\n",
    "        print(\"PDF docs and CSV docs added to doc store and vectorstore\")\n",
    "\n",
    "elif collection_check_1 == True:  \n",
    "    # if collection was already there and empty\n",
    "    if client.get_collection(qdrant_collection_1).vectors_count == None: \n",
    "        # Add documents to the Qdrant vector database and parent store\n",
    "        parent_retriever.add_documents(docs)\n",
    "        parent_retriever.add_documents(csv_documents)\n",
    "        print(\"PDF docs and CSV docs added to doc store and vectorstore\")\n",
    "\n",
    "    elif client.get_collection(qdrant_collection_1).vectors_count != None: \n",
    "        # If the collection already exists and is not empty\n",
    "        # Only add docs to the document store to avoid duplicating vectors\n",
    "        parent_retriever.add_documents(docs, add_to_docstore=True, add_to_vectorstore=False)\n",
    "        parent_retriever.add_documents(csv_documents, add_to_docstore=True, add_to_vectorstore=False)\n",
    "        print(\"PDF docs and CSV docs added only to doc store\")\n",
    "\n",
    "# testing the retriever\n",
    "parent_retriever.invoke(\"What is SMU\")"
   ]
  },
  {
   "cell_type": "code",
   "execution_count": null,
   "id": "cb7ae2b3-f159-40dd-8bd3-d99c7106e8ac",
   "metadata": {},
   "outputs": [
    {
     "name": "stdout",
     "output_type": "stream",
     "text": [
      " \n",
      " \n",
      " \n",
      " \n",
      " \n",
      " \n",
      "Southern Methodist University \n",
      "General Information \n",
      "Undergraduate Catalog  \n",
      "2023 -2024   \n",
      "2444\n"
     ]
    }
   ],
   "source": [
    "# semantic text splitting method\n",
    "# Import SemanticChunker from langchain_experimental.text_splitter\n",
    "from langchain_experimental.text_splitter import SemanticChunker\n",
    "from langchain_openai.embeddings import OpenAIEmbeddings\n",
    "\n",
    "# Initialize the semantic text splitter with OpenAI embeddings\n",
    "semantic_text_splitter = SemanticChunker(\n",
    "    OpenAIEmbeddings(), \n",
    "    breakpoint_threshold_type=\"percentile\")\n",
    "# Split documents using the semantic text splitter\n",
    "semantic_docs = semantic_text_splitter.split_documents(docs)\n",
    "\n",
    "print(semantic_docs[0].page_content)\n",
    "print(len(semantic_docs))"
   ]
  },
  {
   "cell_type": "code",
   "execution_count": null,
   "id": "53902a57-076b-4b53-9731-6ecf97873ab2",
   "metadata": {},
   "outputs": [
    {
     "name": "stdout",
     "output_type": "stream",
     "text": [
      "smu-data_2 already exists\n"
     ]
    }
   ],
   "source": [
    "# Create another instance of a vector store with a new collection using the function created earlier\n",
    "qdrant_collection_2 = os.environ['QDRANT_COLLECTION_2']\n",
    "\n",
    "# Check if the second collection already exists\n",
    "collection_check_2 = False\n",
    "\n",
    "# creating the second vector store and retriever\n",
    "if client.collection_exists(qdrant_collection_2):\n",
    "    vector_store_2 = get_vectorstore(qdrant_collection_2)\n",
    "    print(qdrant_collection_2 + \" already exists\")\n",
    "    collection_check_2 = True\n",
    "else:\n",
    "    vector_store_2 = create_vectorstore(qdrant_collection_2)\n",
    "    print(qdrant_collection_2 + \" was just created\")"
   ]
  },
  {
   "cell_type": "code",
   "execution_count": null,
   "id": "9b061416-058e-43a6-a51e-a010947c7066",
   "metadata": {},
   "outputs": [],
   "source": [
    "# Function to create a retriever for the second vector store\n",
    "def create_vector_store_2_retriever():\n",
    "    vector_store_2_retriever = vector_store_2.as_retriever(search_type=\"similarity_score_threshold\",\n",
    "                                                            search_kwargs = {\"k\": 8, \"score_threshold\" : 0.75})\n",
    "    return vector_store_2_retriever\n",
    "\n",
    "vector_store_2_retriever = create_vector_store_2_retriever()\n",
    "\n",
    "# Add documents to the second vector store if necessary\n",
    "if collection_check_2 == False:\n",
    "        vector_store_2_retriever.add_documents(semantic_docs) # adding the semantically split docs into the vector store if not there already\n",
    "        vector_store_2_retriever.add_documents(csv_documents) # adding csv docs to vectorstore \n",
    "elif collection_check_2 == True:\n",
    "    if client.get_collection(qdrant_collection_2).vectors_count == None:\n",
    "      vector_store_2_retriever.add_documents(semantic_docs) # adding the semantically split docs into the vector store if not there already\n",
    "      vector_store_2_retriever.add_documents(csv_documents) # adding csv docs to vectorstore"
   ]
  },
  {
   "cell_type": "code",
   "execution_count": null,
   "id": "c7715ba4-19ed-4add-a3a7-7651ce5eddbd",
   "metadata": {},
   "outputs": [
    {
     "data": {
      "text/plain": [
       "[Document(metadata={'page': 25, 'source': 'C:/Users/yawbt/OneDrive/Documents/GitHub/SURF-Project_Optimizing-PerunaBot/Data/2023_PerunaPassport.pdf', '_id': 'e9ec59aa-9040-4ca0-a9ab-a023e91a877d', '_collection_name': 'smu-data_2'}, page_content='Credit Hours  Each course is assigned a certain number of credit hours. Most are three credits. You can deter-\\nmine the number of credit hours a particular course is worth by referencing the second digit in the course num -\\nber. For example, WRTR 1312 is a three credit course and HDEV 1210 is a two credit course. Full-time status  You will need to be enrolled in 12 credits to be considered a full-time student. Most students \\nenroll in an average of 15 credits per term. Section  Some courses have multiple sections – the same topic is being taught at different times or by different  \\nfaculty members.'),\n",
       " Document(metadata={'row': 25, 'source': 'https://www.smu.edu/provost/saes/academic-support/university-advising-center/frequently-asked-questions', '_id': '5b4bce54-2828-434f-b8dc-d324a3c00027', '_collection_name': 'smu-data_2'}, page_content=\"question: What year am I (first-year, sophomore, junior, senior)?\\nanswer: SMU classifies students according to the number of credit hours they've earned:\\nFirst Year: 0-29 credit hours earned\\nSophomore: 30-59 credit hours earned\\nJunior: 60-89 credit hours earned\\nSenior: 90 or more credit hours earned\"),\n",
       " Document(metadata={'page': 10, 'source': 'C:/Users/yawbt/OneDrive/Documents/GitHub/SURF-Project_Optimizing-PerunaBot/Data/2023_PerunaPassport.pdf', '_id': '5a93ae2f-7430-4a6a-a891-e2e1eb5f53b6', '_collection_name': 'smu-data_2'}, page_content='Your Academic Plan   |  9\\nPLAN YOUR FIRST-TERM SCHEDULE\\nNow that you’ve reflected on your majors and minors of interest, \\nit’s time to think about what courses you will take once you are \\nhere. Your degree will include classes for the Common Curriculum, \\nyour major and your electives. Some students choose to use their \\nelective classes toward a second major, minor or pre-professional \\nprogram. Your first-term schedule will most likely include a balance \\nof classes toward these requirements. Students typically enroll in 15 to 16 credit hours per term. The \\nrigor of the coursework and the number of courses required to \\nmeet specific academic goals are topics discussed in advising \\nmeetings. EXPLOR ATORY COURSES\\nMost students start college with an idea of what subject \\nareas interest them. Your first term at SMU is the perfect \\ntime to explore a potential major or minor or simply to  \\ntake a course that sounds interesting. Your advisor will  \\nhelp you double check that the course is at an appropriate \\nlevel, but, beyond that, we encourage you to explore  \\nthe amazing academic possibilities at SMU.'),\n",
       " Document(metadata={'page': 48, 'source': 'C:/Users/yawbt/OneDrive/Documents/GitHub/SURF-Project_Optimizing-PerunaBot/Data/20232024 Undergraduate Catalog91123.pdf', '_id': '93f90ae7-bdf9-4be0-9901-7cee65df76f8', '_collection_name': 'smu-data_2'}, page_content='Most courses are valued for three credit hours, i.e., three contact hours per week and at least six hours of preparation. For three -credit -hour courses deployed via different \\ncourse types, modes of delivery, or cale ndars, total number of direct contact hours should be equal to or greater than \\n45 hours, with the total out -of-class work equal to or greater than 90 hours. Courses that deviate from this standard \\nmust provide documentation illustrating how the number of c ontact hours and/or work outside the course equate to \\nthis standard within the term  in which the course is offered. A full- time load in the fall and spring is 12 credit hours for undergraduates. For the summer term (all sessions in the \\nsummer term combined) a full -time load is nine hours for undergraduates. On request an undergraduate can be \\ncertified as full- time for the first or second session of the summer term at six hours. Students who enroll for fewer \\nthan these minimum hours are designated part -time students. The normal undergraduate enrollment for each of the '),\n",
       " Document(metadata={'source': 'https://www.smu.edu/provost/saes/academic-support/university-advising-center/frequently-asked-questions', 'row': 5}, page_content='question: How many hours does it take to complete the CC? Do I need to finish it during my first year?\\nanswer: The number of hours it requires for each student to complete the CC varies based on major, course selections, \\nand any credits they brought to SMU from high school or college. If you take a unique course for each requirement \\nthat’s outside your major/minor, students can expect to take 51-62 hours for their CC requirements. \\nHowever, many classes overlap with major, minor, and/or multiple CC requirements, so you can strategically fulfill CC requirements with fewer classes. \\nNo, you do not need to complete the CC in your first year! In fact, for most students, that would be impossible. \\nFocus on taking a few CC requirements each semester and talk with your academic advisor about how to maximize any requirements your major courses may cover.'),\n",
       " Document(metadata={'source': 'https://www.smu.edu/admission/academics/faqsacademics', 'row': 5}, page_content='question: May I declare my major during my first year?\\nanswer: Upon entering SMU, you may declare your intended major. All students enter the university through Dedman College of Humanities and Sciences. \\nYou may not officially declare your major until you have successfully completed at least 24 hours and satisfied the entrance requirements for your intended major.'),\n",
       " Document(metadata={'source': 'https://www.smu.edu/provost/saes/academic-support/university-advising-center/frequently-asked-questions', 'row': 27}, page_content='question: How many hours do I need to graduate from SMU?\\nanswer: Students under the University Curriculum need to complete at least 122 credit hours and \\nstudents under the Common Curriculum need to complete at least 120 credit hours. This minimum hour requirement includes the requirements for your major and UC/CC.'),\n",
       " Document(metadata={'source': 'https://www.smu.edu/provost/saes/academic-support/university-advising-center/frequently-asked-questions', 'row': 7}, page_content=\"question: How do I know how many hours I'm taking?\\nanswer: There are a couple ways to do this. In your Student Dashboard, select Academics then Course List. \\nThen simply add up the numbers in the Units column. Another way is to look at the course number. \\nThe second number from the left is how many credits the course is worth. For example, WRTR 1312 is worth 3 credit hours.\")]"
      ]
     },
     "execution_count": 19,
     "metadata": {},
     "output_type": "execute_result"
    }
   ],
   "source": [
    "from langchain_community.retrievers import BM25Retriever\n",
    "from langchain.retrievers import EnsembleRetriever\n",
    "\n",
    "# Initialize BM25 retriever from combined semantic and CSV documents\n",
    "bm25_retriever = BM25Retriever.from_documents(semantic_docs+csv_documents)\n",
    "\n",
    "# Initialize the ensemble retriever with BM25 and vector store retrievers\n",
    "ensemble_retriever = EnsembleRetriever(\n",
    "    retrievers=[bm25_retriever, vector_store_2_retriever], \n",
    "    weights=[0.5, 0.5]\n",
    ")\n",
    "\n",
    "# Test the ensemble retriever\n",
    "ensemble_retriever.invoke(\"How many credit hours should I take my first year?\")"
   ]
  },
  {
   "cell_type": "code",
   "execution_count": null,
   "id": "6f991113-c04c-45be-9e73-37035d97db10",
   "metadata": {},
   "outputs": [
    {
     "name": "stdout",
     "output_type": "stream",
     "text": [
      "Southern Methodist University \n",
      "General Information \n",
      "Undergraduate Catalog  \n",
      "2023 -2024\n",
      "7323\n"
     ]
    }
   ],
   "source": [
    "# Initialize a base text splitter for normal splitting of documents\n",
    "base_text_splitter = RecursiveCharacterTextSplitter(chunk_size=500, chunk_overlap=50, \n",
    "                                                length_function=len, add_start_index=True)  \n",
    "\n",
    "# Split documents using the base text splitter\n",
    "normal_split_docs = base_text_splitter.split_documents(docs)\n",
    "\n",
    "# Check and print the result of the normal splitting\n",
    "print(normal_split_docs[0].page_content)\n",
    "print(len(normal_split_docs))"
   ]
  },
  {
   "cell_type": "code",
   "execution_count": null,
   "id": "2c097d81-2b39-456c-a60e-731a8bc56b37",
   "metadata": {},
   "outputs": [
    {
     "name": "stdout",
     "output_type": "stream",
     "text": [
      "smu-data_0 was just created\n"
     ]
    }
   ],
   "source": [
    "# getting the collection name of the third vector store\n",
    "qdrant_collection_0 = os.environ['QDRANT_COLLECTION_0']\n",
    "\n",
    "# Check if the third collection already exists\n",
    "collection_check_0 = False\n",
    "\n",
    "# creating the third vector store and retriever\n",
    "if client.collection_exists(qdrant_collection_0):\n",
    "    vector_store_0 = get_vectorstore(qdrant_collection_0)\n",
    "    collection_check_0 = True\n",
    "    print(qdrant_collection_0 + \" is already there\")\n",
    "else:\n",
    "    vector_store_0 = create_vectorstore(qdrant_collection_0)\n",
    "    print(qdrant_collection_0 + \" was just created\")"
   ]
  },
  {
   "cell_type": "code",
   "execution_count": null,
   "id": "91bd0874-67dc-487c-a8f5-efdfe26fbf9d",
   "metadata": {},
   "outputs": [
    {
     "data": {
      "text/plain": [
       "[Document(metadata={'row': 10, 'source': 'https://www.smu.edu/admission/academics/faqsacademics', '_id': '9582a0d9-ca1c-4c2c-bfcd-cf0a17f3df4e', '_collection_name': 'smu-data_0'}, page_content='question: Will I have the opportunity to study abroad?\\nanswer: Yes. SMU offers summer, semester and year-long opportunities to live, study and travel in foreign countries.\\nSMU Abroad\\xa0offers 148 programs in 50 countries.'),\n",
       " Document(metadata={'page': 50, 'source': 'C:/Users/yawbt/OneDrive/Documents/GitHub/SURF-Project_Optimizing-PerunaBot/Data/20232024 Undergraduate Catalog91123.pdf', '_id': 'f9bd099c-05cb-4fcb-9269-6421d8e32e4f', '_collection_name': 'smu-data_0'}, page_content='Courses taken at International Institutions or International Campuses of U.S. Institutions:  Without Education \\nAbroad Council (EAC) approval, SMU students who are U.S. citizens may not take courses at institutions located \\noutside of U.S. (whether at an international institution or at an international campus of a U.S. institution), with the \\nexcept ion of direct enrollment through SMU on an approved SMU Abroad program. This policy applies whether \\ncourses are taught remotely or face to face. Students who take such courses without permission will not receive \\nSMU credit. Students desiring to take a course on a program not approved by SMU Abroad may request approval \\nthrough the process described below. Requesting Permission to Study on a non- SMU Abroad Program:  SMU students who wish to study abroad \\nthrough a program or university not already affiliated with SMU can petition SMU Abroad for special approval of the requested program or university. Programs must be petitioned no later than October 1\\nst of the academic year \\npreceding the intended semester of study. Students working with the Office of National Student Fellowships should \\nconsult the Director for important internal deadlines. Approval of such abroad programs is not guaranteed and can \\ntake several months to obtain. If the special request to study abroad is approved, the student will still be required to \\napply for abroad study through the regular process by the regular deadline. (For information on deadlines and \\nprocesses, see the SMU Abroad website at www.smu.edu/abroad.) Courses taken through the SMU Abroad Office \\nare treated as SMU coursework. '),\n",
       " Document(metadata={'page': 92, 'source': 'C:/Users/yawbt/OneDrive/Documents/GitHub/SURF-Project_Optimizing-PerunaBot/Data/20232024 Undergraduate Catalog91123.pdf', '_id': '656f1a5d-a736-4a9c-82a1-616ad11f0075', '_collection_name': 'smu-data_0'}, page_content=\"Many programs have \\ncompetitive admission. Detailed program requirements are on the SMU Abroad website. Application Process  \\nMatriculated students may apply to study abroad after completing one full semester of study (Fall or Spring term) at \\nSMU. Students are discouraged from studying abroad during their final full semester of study at SMU, because \\nSMU Abroad cannot guarantee that abroad credits will be processed in time for graduation in such cases. Students who matriculate as transfer students must complete one full semester of study at SMU in order to be \\neligible to apply for study abroad. A transfer student's cumulative GPA will be used as the basis for determining \\nacademic eligibility. Students must apply to study abroad by the deadlines published on the SMU Abroad website. Academic Credit  \\nStudents enrolled on SMU Abroad programs are considered full -time students during the duration of their abroad \\nstudy. Grades earned abroad will be posted to the SMU transcript and will be calculated into the student's cumulative and SMU GPA. Academic credi t earned abroad counts as credit earned in residence. As a general rule, students may not take more than 29 credit hours that will count toward their SMU degree at any \\none off -campus instructional site (abroad program campus). This includes credit completed in both SMU faculty- led \\nand affiliated programs. Under rare circumstances, where the student's program of study specifically designates \\ninternational study as a key component of the degree program, students may take additional hours abroad, but should consult with their academic advisor before undertaking a dditional credit that would exceed this limit AND must \\ninform the SMU Abroad Office no later than the Early Decision Deadline for the relevant term. All courses on faculty -led or hybrid programs have SMU specific course numbers and directly post to the SMU \\ntranscript. Courses on affiliated programs must be petitioned during the SMU Abroad application process. These \\ncourses may appear on the SMU transcr ipt as courses with SMU specific course numbers or as Free Elective Study \\nAbroad (FESA) credit. Petitioned courses are reviewed by a designated SMU faculty member credentialed in the \\ndiscipline in which each course is offered. This faculty review determine s how petitioned courses appear on the \\nSMU transcript. Specific information about procedures and policies for earning credit is provided on the SMU \\nAbroad website. Students may request University Curriculum or Common Curriculum credit for courses taught by non -SMU faculty \\non SMU affiliated programs; more information can be found on the SMU Abroad website. Students who wish to take courses on a no- credit or pass/fail basis should review the Grade Options for Courses \\nTaken on SMU Abroad Programs and the Pass/Fail Option sections found under Grade Policies  in this catalog. Students considering study abroad are urged to meet early and often with both their academic advisor and SMU \\nAbroad advising.\"),\n",
       " Document(metadata={'page': 91, 'source': 'C:/Users/yawbt/OneDrive/Documents/GitHub/SURF-Project_Optimizing-PerunaBot/Data/20232024 Undergraduate Catalog91123.pdf', '_id': '8ed98aff-9b47-4b66-98c2-b876a129923a', '_collection_name': 'smu-data_0'}, page_content='Students will be responsible for submitting materials to work on during the consultation in \\nadvance. Appointments can be made via SMU Booking System. Conversation Buddy Program  \\nAt the beginning of each term, all students are notified via campus email of the opportunity to practice their \\nlanguage skills in an informal, one -on-one setting outside the classroom for one to two hours a week. SMU Abroad  \\nwww.smu.edu/abroad  \\nIn a globalized economy, employers increasingly demand job candidates with intercultural competence. Studying, \\ninterning, and researching abroad builds global experience, which is an integral part of an undergraduate education. The SMU Abroad Office serves the SMU community by developing and coordinating international programs, and \\nby providing support services during and after t he experience abroad. Students at SMU have the opportunity to \\nparticipate in a wide range of January, May, summer, and semester abroad programs, including academic programs that yield University Curriculum and Common Curriculum credit, major -specific progr ams, internships, and guided \\nresearch. These programs may be faculty -led, SMU approved affiliated, or hybrid abroad programs. Students \\nstudying, researching, or interning abroad encounter diverse global communities and intellectual traditions. SMU \\nAbroad programs and global partnerships enhance academic and experiential learning around the world. Eligibility Requirements \\nStudents applying to SMU Abroad programs must be in good academic and disciplinary standing. SMU requires \\nstudents to have a minimum 2.500 cumulative GPA and no active conduct violations in order to participate in an '),\n",
       " Document(metadata={'page': 723, 'source': 'C:/Users/yawbt/OneDrive/Documents/GitHub/SURF-Project_Optimizing-PerunaBot/Data/20232024 Undergraduate Catalog91123.pdf', '_id': '4ffd33e3-33e2-4afc-b475-abdf655ea76f', '_collection_name': 'smu-data_0'}, page_content='(Summer abroad)  \\n '),\n",
       " Document(metadata={'page': 241, 'source': 'C:/Users/yawbt/OneDrive/Documents/GitHub/SURF-Project_Optimizing-PerunaBot/Data/20232024 Undergraduate Catalog91123.pdf', '_id': '7bbb8f66-f2b4-4755-8b7c-e333ec2bbe19', '_collection_name': 'smu-data_0'}, page_content=\"242 \\n International Studies, B.A. www.smu.edu/internationalstudies  \\nProfessor  Luigi Manzetti, Director  \\nGeneral Information  \\nTo succeed in an international career, students need expertise in the politics, economics, history, language and \\ncultures of societies other than their own. The curricula for the International and Area Studies Program are designed \\nto provide students with a foundation for this expertise, requiring coursework in the social sciences, business, \\nlanguage and humanities. A student ma joring in international studies chooses a region in which to concentrate: \\nAfrica/Middle East, Asia, Europe, or Latin America. As an alternative to the international studies major or minor, a student may choose the area studies minor. These minors include Africa/Middle East studies, Asian studies, European studies, and Latin American and Iberian studies. International Studies Major Rules for SMU Abroad Credit  \\nTo maximize the educational experience in these degree programs, all international studies majors are strongly \\nencouraged to spend at least one term or summer studying abroad. The University offers numerous study abroad \\nopportunities around the world; most  of these courses may be applied to the international studies major. The \\nfollowing policies apply to the International Studies Program:  \\nFor the International Studies Major  \\n• Up to the equivalent of four semesters of world language study may be taken in an SMU -approved study \\nabroad program and counted toward the language requirement for the major. • Up to 15 credit hours in the student's regional concentration may be taken in an SMU -approved study \\nabroad program and counted toward the major. • Of the 15 credit hours required from the Core Courses, 12 hours must be taken on an SMU campus (Dallas, \\nTaos or Plano). Three hours of transfer credit (not an SMU -approved study abroad program) may be \\ncounted toward fulfillment of the Core Courses requirem ent. • If a student wishes to take a course abroad for credit in the global perspective, it is highly recommended \\nthat the course be preapproved by the director before enrolling.\"),\n",
       " Document(metadata={'page': 92, 'source': 'C:/Users/yawbt/OneDrive/Documents/GitHub/SURF-Project_Optimizing-PerunaBot/Data/20232024 Undergraduate Catalog91123.pdf', '_id': '54681ede-54e5-49f3-9eb0-37be08b9ab6f', '_collection_name': 'smu-data_0'}, page_content=\"This advising input is essential in integrating study abroad coursework into a student's four -year \\nplan of study. Faculty-Led Programs  \\nShort -term, faculty -led programs offer students the opportunity to travel and study abroad under the leadership of \\nSMU faculty members. These programs are offered in January, May, and Summer terms. Students can earn 3, 6, 7, or 8 hours of credit while spen ding one to eight weeks studying, researching, or interning abroad. All courses are \\neither taught by or approved by SMU faculty. Affiliated Programs \\nSMU affiliated programs are hosted by well -established study abroad program providers. These programs offer a \\ndiverse array of study abroad opportunities around the world. Term program options include study at universities, \\nstudy abroad programs on specifi c disciplinary subjects, language immersion programs, and programs with field \\nstudy and internship components. A wide range of programs are pre -approved for SMU students, with courses \\navailable in many disciplines. \"),\n",
       " Document(metadata={'page': 57, 'source': 'C:/Users/yawbt/OneDrive/Documents/GitHub/SURF-Project_Optimizing-PerunaBot/Data/20232024 Undergraduate Catalog91123.pdf', '_id': 'e63d8ead-5e46-4bc4-8ad3-dc9957af8e01', '_collection_name': 'smu-data_0'}, page_content=\"The grade of I in a course does not authorize a student to attend or enroll in the course during a later term. Graduation candidates must clear all Incompletes prior to the deadline on the Official University Calendar, which \\nmay allow less time than 12 months. Failure to do so can result in removal from the degree candidacy list and/or conversion of the grade of I to the grade indicated by the instructor at the time the grade of I was given. Grade Options for Courses Taken on SMU Abroad Programs \\nCourses taken on SMU Abroad fall and spring term programs may not be taken on a no- credit or pass/fail basis. The \\nonly exception to this policy is for courses designated by SMU's academic departments with no credit or pass/fail as their only grading basis option. Students who study abroad on SMU Abroad fall and spring term programs are enrolled in a SMU placeholder course to denote full -time enrollment. This placeholder course (designated with a Z) \\nis taken on a credit/no- credit basis. Students must submit their transcript from the study abroad program showing \\nsuccessful completion of credit hours to receive a grade of CR  in the Z course. Courses taken on SMU Abroad summer programs and during Jan Term (January) may not be taken for a grade of \\nNC (No Credit), but students may petition for one of these courses to be graded on a pass/fail basis. Students must \")]"
      ]
     },
     "execution_count": 24,
     "metadata": {},
     "output_type": "execute_result"
    }
   ],
   "source": [
    "# Initialize the retriever for the third vector store\n",
    "vector_store_0_retriever = vector_store_0.as_retriever(search_kwargs = {\"k\": 8, \"score_threshold\" : 0.75})\n",
    "\n",
    "# Add documents to the third vector store if necessary\n",
    "if collection_check_0 == False:\n",
    "        vector_store_0_retriever.add_documents(semantic_docs) # adding the semantically split docs into the vector store if not there already\n",
    "        vector_store_0_retriever.add_documents(csv_documents) # adding csv docs to vectorstore \n",
    "elif collection_check_0 == True:\n",
    "    if client.get_collection(qdrant_collection_0).vectors_count == None:\n",
    "      vector_store_2_retriever.add_documents(semantic_docs) # adding the semantically split docs into the vector store if not there already\n",
    "      vector_store_2_retriever.add_documents(csv_documents) # adding csv docs to vectorstore\n",
    "\n",
    "# Test the third vector store retriever\n",
    "vector_store_0_retriever.invoke(\"Can I do study abroad?\")"
   ]
  },
  {
   "cell_type": "code",
   "execution_count": null,
   "id": "81a9a126-ae97-4a08-a216-ddcd5e76c25d",
   "metadata": {},
   "outputs": [],
   "source": [
    "import json\n",
    "from langchain_core.load import dumpd\n",
    "\n",
    "# Collecting needed langchain objects into a dictionary\n",
    "all_data = {\n",
    "    'pdf_docs': docs,\n",
    "    'csv_docs': csv_documents,\n",
    "    'semantic_docs': semantic_docs,\n",
    "    'normal_split_docs': normal_split_docs,\n",
    "}\n",
    "\n",
    "# Serialize the dictionary to a JSON file\n",
    "with open('data_preprocessing_langchain_objects.json', 'w') as f:\n",
    "    json.dump(dumpd(all_data), f, indent=2)"
   ]
  }
 ],
 "metadata": {
  "language_info": {
   "codemirror_mode": {
    "name": "ipython",
    "version": 3
   },
   "file_extension": ".py",
   "mimetype": "text/x-python",
   "name": "python",
   "nbconvert_exporter": "python",
   "pygments_lexer": "ipython3",
   "version": 3
  }
 },
 "nbformat": 4,
 "nbformat_minor": 2
}
