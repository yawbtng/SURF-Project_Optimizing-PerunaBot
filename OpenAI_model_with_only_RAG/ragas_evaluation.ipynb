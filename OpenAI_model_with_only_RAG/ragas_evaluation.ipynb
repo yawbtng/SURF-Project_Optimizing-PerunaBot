{
 "cells": [
  {
   "cell_type": "code",
   "execution_count": 2,
   "metadata": {},
   "outputs": [],
   "source": [
    "import os\n",
    "from dotenv import load_dotenv, find_dotenv\n",
    "\n",
    "# Load environment variables from the .env file using 'from dotenv import find_dotenv, load_dotenv'\n",
    "load_dotenv(find_dotenv(filename='SURF-Project_Optimizing-PerunaBot/setup/.env'))\n",
    "\n",
    "openai_api_key = os.environ['OPENAI_API_KEY']"
   ]
  },
  {
   "cell_type": "code",
   "execution_count": 3,
   "metadata": {},
   "outputs": [],
   "source": [
    "import nest_asyncio\n",
    "nest_asyncio.apply()"
   ]
  },
  {
   "cell_type": "code",
   "execution_count": 3,
   "metadata": {},
   "outputs": [
    {
     "name": "stdout",
     "output_type": "stream",
     "text": [
      "93\n",
      "14 \n",
      " About SMU  \n",
      "The Vision of Southern Methodist University  \n",
      "To create and impart knowledge that w\n",
      "{'source': '../Data/Evaluation Data/Southern Methodist University - 2023-2024 Undergraduate Catalog from About SMU to Right to Know.pdf', 'page': 7}\n"
     ]
    }
   ],
   "source": [
    "from langchain_community.document_loaders import PyPDFLoader\n",
    "\n",
    "# file paths of PDFs to be used\n",
    "pdf_paths = ['../Data/Evaluation Data/Southern Methodist University - 2023-2024 Undergraduate Catalog from About SMU to Right to Know.pdf',\n",
    "             '../Data/Evaluation Data/Important University Resources from SMU Student Handbook 23-24.pdf',\n",
    "             '../Data/Evaluation Data/Important SMU Numbers and Websites.pdf'\n",
    "             ]\n",
    "\n",
    "# Function to load PDFs using LangChain's PyPDFLoader\n",
    "def load_pdfs_with_langchain(pdf_paths):\n",
    "    documents = []\n",
    "    for path in pdf_paths:\n",
    "        try:\n",
    "            # Use LangChain's PyPDFLoader to load the PDF\n",
    "            loader = PyPDFLoader(path)\n",
    "            # Load and pase the PDF into document instances\n",
    "            pdf_doc = loader.load()\n",
    "            # Insert the parsed PDF documents into the documents list\n",
    "            documents.extend(pdf_doc)\n",
    "        except Exception as e:\n",
    "            print(f\"Error loading {path}: {e}\")\n",
    "    return documents\n",
    "\n",
    "# Load PDF documents using the function\n",
    "evaluation_pdf_docs = load_pdfs_with_langchain(pdf_paths)\n",
    "\n",
    "print(len(evaluation_pdf_docs))\n",
    "print(evaluation_pdf_docs[0].page_content[0:100])\n",
    "print(evaluation_pdf_docs[7].metadata)"
   ]
  },
  {
   "cell_type": "code",
   "execution_count": 4,
   "metadata": {},
   "outputs": [
    {
     "name": "stdout",
     "output_type": "stream",
     "text": [
      "395\n",
      "14 \n",
      " About SMU  \n",
      "The Vision of Southern Methodist University  \n",
      "To create and impart knowledge that will shape citizens who contribute to their communities and lead their \n",
      "professions in a global society.  \n",
      "The Mission of Southern Methodist University  \n",
      "Southern Methodist University will create, expand and impart knowledge through teaching, research and service, \n",
      "shaping world changers who contribute to their communities and excel in their professions in a global society. \n",
      "Among its faculty, students and st aff, the University will cultivate principled thought, develop intellectual skills and \n",
      "promote an environment emphasizing individual dignity and worth. SMU affirms its historical commitment to academic freedom and open inquiry, to moral and ethical values,  and to its United Methodist heritage.  \n",
      "Southern Methodist University  \n",
      "As a private, comprehensive university enriched by its United Methodist heritage and its partnership with the Dallas\n",
      "Metroplex, Southern Methodist University seeks to enhance the intellectual, cultural, technical, ethical and social \n",
      "development of a divers e student body. SMU offers undergraduate programs centered on the liberal arts; excellent \n",
      "graduate and continuing education programs; and abundant opportunities for access to faculty in small classes, research experience, international study, leadership de velopment, and off -campus service and internships, with the \n",
      "goal of preparing students to be contributing citizens and leaders for our state, the nation and the world.  \n",
      "SMU comprises eight degree- granting schools: Dedman College of Humanities and Sciences, Edwin L. Cox School \n",
      "of Business, Dedman School of Law, Bobby B. Lyle School of Engineering, Meadows School of the Arts, Moody School of Graduate and Advanced Studies, P erkins School of Theology, and Annette Caldwell Simmons School of \n",
      "Education and Human Development.\n"
     ]
    }
   ],
   "source": [
    "from langchain.text_splitter import RecursiveCharacterTextSplitter\n",
    "text_splitter = RecursiveCharacterTextSplitter(chunk_size=1000, chunk_overlap=100, \n",
    "                                                length_function=len, add_start_index=True)  \n",
    "\n",
    "# Split the PDF documents into chunks using the text splitter\n",
    "split_evaluation_pdf_docs = text_splitter.split_documents(evaluation_pdf_docs)\n",
    "print(len(split_evaluation_pdf_docs))\n",
    "print(split_evaluation_pdf_docs[0].page_content)\n",
    "print(split_evaluation_pdf_docs[1].page_content)\n"
   ]
  },
  {
   "cell_type": "code",
   "execution_count": 5,
   "metadata": {},
   "outputs": [],
   "source": [
    "from ragas.testset.generator import TestsetGenerator\n",
    "from ragas.testset.evolutions import simple, reasoning, multi_context\n",
    "from langchain_openai import ChatOpenAI, OpenAIEmbeddings\n",
    "\n",
    "#generator with openai models\n",
    "generator_llm = ChatOpenAI(model=\"gpt-3.5-turbo\")\n",
    "critic_llm= ChatOpenAI(model=\"gpt-3.5-turbo\")\n",
    "embeddings = OpenAIEmbeddings()\n",
    "\n",
    "generator = TestsetGenerator.from_langchain(\n",
    "     generator_llm=generator_llm,\n",
    "    critic_llm=critic_llm,\n",
    "    embeddings=embeddings, \n",
    ")\n"
   ]
  },
  {
   "cell_type": "code",
   "execution_count": null,
   "metadata": {},
   "outputs": [],
   "source": [
    "\n",
    "# Generate testset\n",
    "testset_1 = generator.generate_with_langchain_docs(split_evaluation_pdf_docs, test_size=10, distributions = {simple: 0.5, reasoning: 0.3, multi_context: 0.2})"
   ]
  },
  {
   "cell_type": "code",
   "execution_count": 8,
   "metadata": {},
   "outputs": [],
   "source": [
    "test_df_1 = testset_1.to_pandas()\n",
    "test_df_1.to_csv('../Data/Evaluation Data/ragas_testset_1.csv', index=False)"
   ]
  },
  {
   "cell_type": "code",
   "execution_count": null,
   "metadata": {},
   "outputs": [],
   "source": [
    "# Generate testset\n",
    "testset_2 = generator.generate_with_langchain_docs(split_evaluation_pdf_docs, test_size=10, distributions = {simple: 0.3, reasoning: 0.5, multi_context: 0.2})"
   ]
  },
  {
   "cell_type": "code",
   "execution_count": 7,
   "metadata": {},
   "outputs": [],
   "source": [
    "\n",
    "test_df_2 = testset_2.to_pandas()\n",
    "test_df_2.to_csv('../Data/Evaluation Data/ragas_testset_2.csv', index=False)"
   ]
  },
  {
   "cell_type": "code",
   "execution_count": 1,
   "metadata": {},
   "outputs": [
    {
     "data": {
      "text/html": [
       "<div>\n",
       "<style scoped>\n",
       "    .dataframe tbody tr th:only-of-type {\n",
       "        vertical-align: middle;\n",
       "    }\n",
       "\n",
       "    .dataframe tbody tr th {\n",
       "        vertical-align: top;\n",
       "    }\n",
       "\n",
       "    .dataframe thead th {\n",
       "        text-align: right;\n",
       "    }\n",
       "</style>\n",
       "<table border=\"1\" class=\"dataframe\">\n",
       "  <thead>\n",
       "    <tr style=\"text-align: right;\">\n",
       "      <th></th>\n",
       "      <th>question</th>\n",
       "      <th>contexts</th>\n",
       "      <th>ground_truth</th>\n",
       "      <th>evolution_type</th>\n",
       "      <th>metadata</th>\n",
       "      <th>episode_done</th>\n",
       "    </tr>\n",
       "  </thead>\n",
       "  <tbody>\n",
       "    <tr>\n",
       "      <th>0</th>\n",
       "      <td>What are the primary considerations for merit ...</td>\n",
       "      <td>['• High academic accomplishments or achieveme...</td>\n",
       "      <td>High academic accomplishments or achievement i...</td>\n",
       "      <td>simple</td>\n",
       "      <td>[{'source': '../Data/Evaluation Data/Southern ...</td>\n",
       "      <td>True</td>\n",
       "    </tr>\n",
       "    <tr>\n",
       "      <th>1</th>\n",
       "      <td>Why is it important for students to obtain pre...</td>\n",
       "      <td>[\"may change the designation of the courses. S...</td>\n",
       "      <td>It is important for students to obtain pre-app...</td>\n",
       "      <td>simple</td>\n",
       "      <td>[{'source': '../Data/Evaluation Data/Southern ...</td>\n",
       "      <td>True</td>\n",
       "    </tr>\n",
       "    <tr>\n",
       "      <th>2</th>\n",
       "      <td>What information is Southern Methodist Univers...</td>\n",
       "      <td>['97 \\n Right to Know  \\nSouthern Methodist Un...</td>\n",
       "      <td>Southern Methodist University is required to p...</td>\n",
       "      <td>simple</td>\n",
       "      <td>[{'source': '../Data/Evaluation Data/Southern ...</td>\n",
       "      <td>True</td>\n",
       "    </tr>\n",
       "    <tr>\n",
       "      <th>3</th>\n",
       "      <td>How does the Critical Reasoning component of t...</td>\n",
       "      <td>['comprises approximately one -third of the ba...</td>\n",
       "      <td>The Critical Reasoning component of the baccal...</td>\n",
       "      <td>simple</td>\n",
       "      <td>[{'source': '../Data/Evaluation Data/Southern ...</td>\n",
       "      <td>True</td>\n",
       "    </tr>\n",
       "    <tr>\n",
       "      <th>4</th>\n",
       "      <td>What is the purpose of the entrance examinatio...</td>\n",
       "      <td>['23 \\n Music.  All entering undergraduate stu...</td>\n",
       "      <td>The purpose of the entrance examinations in wr...</td>\n",
       "      <td>simple</td>\n",
       "      <td>[{'source': '../Data/Evaluation Data/Southern ...</td>\n",
       "      <td>True</td>\n",
       "    </tr>\n",
       "    <tr>\n",
       "      <th>5</th>\n",
       "      <td>How does the Common Curriculum meet the LAI gr...</td>\n",
       "      <td>['Analysis and Interpretation (LAI), Philosoph...</td>\n",
       "      <td>The answer to given question is not present in...</td>\n",
       "      <td>reasoning</td>\n",
       "      <td>[{'source': '../Data/Evaluation Data/Southern ...</td>\n",
       "      <td>True</td>\n",
       "    </tr>\n",
       "    <tr>\n",
       "      <th>6</th>\n",
       "      <td>What exception applies to credit hours enrollm...</td>\n",
       "      <td>['completion of the degree.  \\nLyle School of ...</td>\n",
       "      <td>During the term in which a student is to gradu...</td>\n",
       "      <td>reasoning</td>\n",
       "      <td>[{'source': '../Data/Evaluation Data/Southern ...</td>\n",
       "      <td>True</td>\n",
       "    </tr>\n",
       "    <tr>\n",
       "      <th>7</th>\n",
       "      <td>What pre-term programs assist new and readmitt...</td>\n",
       "      <td>['instructions at https://www. smu.edu/Enrollm...</td>\n",
       "      <td>To assist new and readmitted students in makin...</td>\n",
       "      <td>multi_context</td>\n",
       "      <td>[{'source': '../Data/Evaluation Data/Southern ...</td>\n",
       "      <td>True</td>\n",
       "    </tr>\n",
       "    <tr>\n",
       "      <th>8</th>\n",
       "      <td>What are the payment terms for room charges at...</td>\n",
       "      <td>['deposit. These fees are nonrefundable. Notif...</td>\n",
       "      <td>Room charges for the fall term are billed and ...</td>\n",
       "      <td>multi_context</td>\n",
       "      <td>[{'source': '../Data/Evaluation Data/Southern ...</td>\n",
       "      <td>True</td>\n",
       "    </tr>\n",
       "    <tr>\n",
       "      <th>0</th>\n",
       "      <td>What information is provided by Southern Metho...</td>\n",
       "      <td>['97 \\n Right to Know  \\nSouthern Methodist Un...</td>\n",
       "      <td>Southern Methodist University provides informa...</td>\n",
       "      <td>simple</td>\n",
       "      <td>[{'source': '../Data/Evaluation Data/Southern ...</td>\n",
       "      <td>True</td>\n",
       "    </tr>\n",
       "    <tr>\n",
       "      <th>1</th>\n",
       "      <td>What is the process for matriculated students ...</td>\n",
       "      <td>['79 \\n In all cases,  matriculated students w...</td>\n",
       "      <td>Matriculated students wishing to use activitie...</td>\n",
       "      <td>simple</td>\n",
       "      <td>[{'source': '../Data/Evaluation Data/Southern ...</td>\n",
       "      <td>True</td>\n",
       "    </tr>\n",
       "    <tr>\n",
       "      <th>2</th>\n",
       "      <td>Why is it important for students to obtain pre...</td>\n",
       "      <td>[\"may change the designation of the courses. S...</td>\n",
       "      <td>It is important for students to obtain pre-app...</td>\n",
       "      <td>simple</td>\n",
       "      <td>[{'source': '../Data/Evaluation Data/Southern ...</td>\n",
       "      <td>True</td>\n",
       "    </tr>\n",
       "    <tr>\n",
       "      <th>3</th>\n",
       "      <td>How does ethical reasoning benefit a liberal a...</td>\n",
       "      <td>['79 \\n In all cases,  matriculated students w...</td>\n",
       "      <td>Ethical reasoning benefits a liberal arts educ...</td>\n",
       "      <td>reasoning</td>\n",
       "      <td>[{'source': '../Data/Evaluation Data/Southern ...</td>\n",
       "      <td>True</td>\n",
       "    </tr>\n",
       "    <tr>\n",
       "      <th>4</th>\n",
       "      <td>What factors are considered for merit scholars...</td>\n",
       "      <td>['• High academic accomplishments or achieveme...</td>\n",
       "      <td>High academic accomplishments or achievement i...</td>\n",
       "      <td>reasoning</td>\n",
       "      <td>[{'source': '../Data/Evaluation Data/Southern ...</td>\n",
       "      <td>True</td>\n",
       "    </tr>\n",
       "    <tr>\n",
       "      <th>5</th>\n",
       "      <td>What skills do students gain from the Civics a...</td>\n",
       "      <td>['79 \\n In all cases,  matriculated students w...</td>\n",
       "      <td>Students gain the ability to engage in ethical...</td>\n",
       "      <td>multi_context</td>\n",
       "      <td>[{'source': '../Data/Evaluation Data/Southern ...</td>\n",
       "      <td>True</td>\n",
       "    </tr>\n",
       "    <tr>\n",
       "      <th>6</th>\n",
       "      <td>How does the Exploring Science course at SMU i...</td>\n",
       "      <td>['prosperous society. Students must take one t...</td>\n",
       "      <td>The answer to given question is not present in...</td>\n",
       "      <td>multi_context</td>\n",
       "      <td>[{'source': '../Data/Evaluation Data/Southern ...</td>\n",
       "      <td>True</td>\n",
       "    </tr>\n",
       "  </tbody>\n",
       "</table>\n",
       "</div>"
      ],
      "text/plain": [
       "                                            question  \\\n",
       "0  What are the primary considerations for merit ...   \n",
       "1  Why is it important for students to obtain pre...   \n",
       "2  What information is Southern Methodist Univers...   \n",
       "3  How does the Critical Reasoning component of t...   \n",
       "4  What is the purpose of the entrance examinatio...   \n",
       "5  How does the Common Curriculum meet the LAI gr...   \n",
       "6  What exception applies to credit hours enrollm...   \n",
       "7  What pre-term programs assist new and readmitt...   \n",
       "8  What are the payment terms for room charges at...   \n",
       "0  What information is provided by Southern Metho...   \n",
       "1  What is the process for matriculated students ...   \n",
       "2  Why is it important for students to obtain pre...   \n",
       "3  How does ethical reasoning benefit a liberal a...   \n",
       "4  What factors are considered for merit scholars...   \n",
       "5  What skills do students gain from the Civics a...   \n",
       "6  How does the Exploring Science course at SMU i...   \n",
       "\n",
       "                                            contexts  \\\n",
       "0  ['• High academic accomplishments or achieveme...   \n",
       "1  [\"may change the designation of the courses. S...   \n",
       "2  ['97 \\n Right to Know  \\nSouthern Methodist Un...   \n",
       "3  ['comprises approximately one -third of the ba...   \n",
       "4  ['23 \\n Music.  All entering undergraduate stu...   \n",
       "5  ['Analysis and Interpretation (LAI), Philosoph...   \n",
       "6  ['completion of the degree.  \\nLyle School of ...   \n",
       "7  ['instructions at https://www. smu.edu/Enrollm...   \n",
       "8  ['deposit. These fees are nonrefundable. Notif...   \n",
       "0  ['97 \\n Right to Know  \\nSouthern Methodist Un...   \n",
       "1  ['79 \\n In all cases,  matriculated students w...   \n",
       "2  [\"may change the designation of the courses. S...   \n",
       "3  ['79 \\n In all cases,  matriculated students w...   \n",
       "4  ['• High academic accomplishments or achieveme...   \n",
       "5  ['79 \\n In all cases,  matriculated students w...   \n",
       "6  ['prosperous society. Students must take one t...   \n",
       "\n",
       "                                        ground_truth evolution_type  \\\n",
       "0  High academic accomplishments or achievement i...         simple   \n",
       "1  It is important for students to obtain pre-app...         simple   \n",
       "2  Southern Methodist University is required to p...         simple   \n",
       "3  The Critical Reasoning component of the baccal...         simple   \n",
       "4  The purpose of the entrance examinations in wr...         simple   \n",
       "5  The answer to given question is not present in...      reasoning   \n",
       "6  During the term in which a student is to gradu...      reasoning   \n",
       "7  To assist new and readmitted students in makin...  multi_context   \n",
       "8  Room charges for the fall term are billed and ...  multi_context   \n",
       "0  Southern Methodist University provides informa...         simple   \n",
       "1  Matriculated students wishing to use activitie...         simple   \n",
       "2  It is important for students to obtain pre-app...         simple   \n",
       "3  Ethical reasoning benefits a liberal arts educ...      reasoning   \n",
       "4  High academic accomplishments or achievement i...      reasoning   \n",
       "5  Students gain the ability to engage in ethical...  multi_context   \n",
       "6  The answer to given question is not present in...  multi_context   \n",
       "\n",
       "                                            metadata  episode_done  \n",
       "0  [{'source': '../Data/Evaluation Data/Southern ...          True  \n",
       "1  [{'source': '../Data/Evaluation Data/Southern ...          True  \n",
       "2  [{'source': '../Data/Evaluation Data/Southern ...          True  \n",
       "3  [{'source': '../Data/Evaluation Data/Southern ...          True  \n",
       "4  [{'source': '../Data/Evaluation Data/Southern ...          True  \n",
       "5  [{'source': '../Data/Evaluation Data/Southern ...          True  \n",
       "6  [{'source': '../Data/Evaluation Data/Southern ...          True  \n",
       "7  [{'source': '../Data/Evaluation Data/Southern ...          True  \n",
       "8  [{'source': '../Data/Evaluation Data/Southern ...          True  \n",
       "0  [{'source': '../Data/Evaluation Data/Southern ...          True  \n",
       "1  [{'source': '../Data/Evaluation Data/Southern ...          True  \n",
       "2  [{'source': '../Data/Evaluation Data/Southern ...          True  \n",
       "3  [{'source': '../Data/Evaluation Data/Southern ...          True  \n",
       "4  [{'source': '../Data/Evaluation Data/Southern ...          True  \n",
       "5  [{'source': '../Data/Evaluation Data/Southern ...          True  \n",
       "6  [{'source': '../Data/Evaluation Data/Southern ...          True  "
      ]
     },
     "execution_count": 1,
     "metadata": {},
     "output_type": "execute_result"
    }
   ],
   "source": [
    "import pandas as pd\n",
    "\n",
    "csv_paths = ['../Data/Evaluation Data/ragas_testset_1.csv', '../Data/Evaluation Data/ragas_testset_2.csv']\n",
    "\n",
    "# Read each CSV file and concatenate them into one dataframe\n",
    "combined_testset = pd.concat([pd.read_csv(path) for path in csv_paths])\n",
    "\n",
    "combined_testset"
   ]
  },
  {
   "cell_type": "code",
   "execution_count": 7,
   "metadata": {},
   "outputs": [],
   "source": [
    "combined_testset.to_csv('../Data/Evaluation Data/combined_ragas_testset.csv', index=False)"
   ]
  },
  {
   "cell_type": "code",
   "execution_count": 2,
   "metadata": {},
   "outputs": [],
   "source": [
    "\n",
    "test_question_type = combined_testset[\"evolution_type\"].tolist()\n",
    "test_questions = combined_testset[\"question\"].tolist()\n",
    "test_contexts = combined_testset[\"contexts\"].tolist()\n",
    "test_ground_truths = combined_testset[\"ground_truth\"].tolist()"
   ]
  },
  {
   "cell_type": "code",
   "execution_count": 3,
   "metadata": {},
   "outputs": [],
   "source": [
    "from datasets import Dataset\n",
    "\n",
    "def run_chain_over_dataset(chain):\n",
    "    answers = []\n",
    "    contexts = []\n",
    "\n",
    "    for question in test_questions:\n",
    "        response = chain.invoke({\"question\": question})\n",
    "        answers.append(response[\"output\"])\n",
    "\n",
    "        context = response[\"context\"]\n",
    "        contexts.append([doc.page_content for doc in context])\n",
    "\n",
    "    response_dataset = Dataset.from_dict({\n",
    "        \"question_type\": test_question_type,\n",
    "        \"question\": test_questions,\n",
    "        \"ground_truths\": test_ground_truths,\n",
    "        \"answer\": answers, \n",
    "        \"contexts\": contexts\n",
    "        })\n",
    "    return response_dataset"
   ]
  },
  {
   "cell_type": "code",
   "execution_count": 5,
   "metadata": {},
   "outputs": [],
   "source": [
    "from OG_PerunaBot_chain import Original_PerunaBot_eval_chain\n",
    "from chain_0 import base_retriever_eval_chain_0\n",
    "from chain_1 import parent_retriever_eval_chain_1\n",
    "from chain_2 import ensemble_retriever_eval_chain_2"
   ]
  },
  {
   "cell_type": "code",
   "execution_count": 8,
   "metadata": {},
   "outputs": [
    {
     "name": "stdout",
     "output_type": "stream",
     "text": [
      "true\n"
     ]
    }
   ],
   "source": [
    "#langsmith\n",
    "import os\n",
    "from dotenv import load_dotenv, find_dotenv\n",
    "\n",
    "# Load environment variables from the .env file using 'from dotenv import find_dotenv, load_dotenv'\n",
    "load_dotenv(find_dotenv(filename='SURF-Project_Optimizing-PerunaBot/setup/.env'))\n",
    "\n",
    "from langsmith import Client\n",
    "import os\n",
    "from langchain_openai import ChatOpenAI\n",
    "\n",
    "langsmith_api_key = os.environ[\"LANGSMITH_API_KEY\"]\n",
    "langchain_endpoint = os.environ[\"LANGCHAIN_ENDPOINT\"]\n",
    "langsmith_project = os.environ[\"LANGCHAIN_PROJECT\"]\n",
    "os.environ[\"LANGCHAIN_TRACING_V2\"]\n",
    "\n",
    "# Initialize LangSmith Client using 'from langsmith import Client'\n",
    "langsmith_client = Client(api_url=langchain_endpoint, api_key=langsmith_api_key)\n",
    "\n",
    "llm = ChatOpenAI(model=\"gpt-3.5-turbo\")\n",
    "llm.invoke(\"Hello, world!\")\n"
   ]
  },
  {
   "cell_type": "code",
   "execution_count": 9,
   "metadata": {},
   "outputs": [
    {
     "data": {
      "text/plain": [
       "{'question_type': 'simple',\n",
       " 'question': 'What are the primary considerations for merit scholarships and need-based financial aid for National Merit finalists at SMU?',\n",
       " 'ground_truth': 'High academic accomplishments or achievement in the arts, National Merit finalists, International Baccalaureate Diploma recipients, dependent children and spouses of ordained United Methodist ministers engaged in full-time, church-related vocations, and Texas residents are the primary considerations for merit scholarships and need-based financial aid for National Merit finalists at SMU.',\n",
       " 'chain answer': 'The primary considerations for merit scholarships and need-based financial aid for National Merit finalists at SMU include completing the SMU Application for Admission by January 15, submitting the Free Application for Federal Student Aid (FAFSA) at www.fafsa.ed.gov, and the CSS/Financial Aid Profile at www.collegeboard.org. SMU also offers merit-based scholarships and grant programs to students who meet specific criteria, in addition to federal and state aid programs. The SMU Opportunity Award is a need-based grant awarded based on demonstrated need not met by other scholarships or grants.',\n",
       " 'retrieved context': ['For information regarding artistic scholarships, please visit our website: smu.edu/affordmeadows.  \\nTo receive primary consideration for all SMU merit scholarships and other aid, students should comply with the \\nfollowing schedule:  \\nBy January 15  \\n• Complete the SMU Application for Admission.  \\n• Submit the Free Application for Federal Student Aid at www.fafsa.ed.gov and the CSS/Financial Aid \\nProfile at www.collegeboard.org.',\n",
       "  'Student Aid at www.studenta id.gov. Texas residents who do not qualify to file the FAFSA may qualify for \\nassistance through the State of Texas  by filing the Texas Application for State Financial Aid (TASFA).  All students \\nare considered for SMU merit -based scholarships at the time of admission.   \\nIn addition to available federal and state aid programs, SMU offers several merit scholarships and grant programs to students who meet the following specific criteria:',\n",
       "  'question: What is the SMU Opportunity Award?\\nanswer: This is an SMU need-based grant that is awarded after all scholarships, federal and state grants have been added to your financial aid package and is based on your demonstrated need that is not met by any and all other scholarships or grants.',\n",
       "  'Scholarships, Grants and Other Aid  \\nSMU strives to provide financial assistance to any admitted student who demonstrates financial need as determined by the Free Application for Federal Student Aid (FAFSA, fafsa.gov) and CSSProfile (cssprofile.collegeboard.org).  \\nApproximately three out of every four students receive aid from one or more federal, state or institutionally based assistance programs. Students seeking federal and state financial aid must file the Free Application for Federal']}"
      ]
     },
     "execution_count": 9,
     "metadata": {},
     "output_type": "execute_result"
    }
   ],
   "source": [
    "OG_PerunaBot_eval = run_chain_over_dataset(Original_PerunaBot_eval_chain)\n",
    "OG_PerunaBot_eval[0]"
   ]
  },
  {
   "cell_type": "code",
   "execution_count": 10,
   "metadata": {},
   "outputs": [
    {
     "data": {
      "text/plain": [
       "{'question_type': 'simple',\n",
       " 'question': 'What are the primary considerations for merit scholarships and need-based financial aid for National Merit finalists at SMU?',\n",
       " 'ground_truth': 'High academic accomplishments or achievement in the arts, National Merit finalists, International Baccalaureate Diploma recipients, dependent children and spouses of ordained United Methodist ministers engaged in full-time, church-related vocations, and Texas residents are the primary considerations for merit scholarships and need-based financial aid for National Merit finalists at SMU.',\n",
       " 'chain answer': 'National Merit finalists at SMU are considered for a range of merit scholarships and need-based financial aid. To receive primary consideration for all SMU merit scholarships and other aid, students should:\\n\\n1. Complete the SMU Application for Admission by January 15.\\n2. Submit the Free Application for Federal Student Aid (FAFSA) at [www.fafsa.ed.gov](http://www.fafsa.ed.gov) and the CSS/Financial Aid Profile at [www.collegeboard.org](http://www.collegeboard.org).\\n\\nFor more detailed information, you can visit the SMU financial aid website at [smu.edu/financial_aid](http://www.smu.edu/financial_aid). If you need further details, feel free to ask! 😊',\n",
       " 'retrieved context': ['For information regarding artistic scholarships, please visit our website: smu.edu/affordmeadows.  \\nTo receive primary consideration for all SMU merit scholarships and other aid, students should comply with the \\nfollowing schedule:  \\nBy January 15  \\n• Complete the SMU Application for Admission.  \\n• Submit the Free Application for Federal Student Aid at www.fafsa.ed.gov and the CSS/Financial Aid \\nProfile at www.collegeboard.org.',\n",
       "  'Student Aid at www.studenta id.gov. Texas residents who do not qualify to file the FAFSA may qualify for \\nassistance through the State of Texas  by filing the Texas Application for State Financial Aid (TASFA).  All students \\nare considered for SMU merit -based scholarships at the time of admission.   \\nIn addition to available federal and state aid programs, SMU offers several merit scholarships and grant programs to students who meet the following specific criteria:',\n",
       "  'question: What is the SMU Opportunity Award?\\nanswer: This is an SMU need-based grant that is awarded after all scholarships, federal and state grants have been added to your financial aid package and is based on your demonstrated need that is not met by any and all other scholarships or grants.',\n",
       "  'Scholarships, Grants and Other Aid  \\nSMU strives to provide financial assistance to any admitted student who demonstrates financial need as determined by the Free Application for Federal Student Aid (FAFSA, fafsa.gov) and CSSProfile (cssprofile.collegeboard.org).  \\nApproximately three out of every four students receive aid from one or more federal, state or institutionally based assistance programs. Students seeking federal and state financial aid must file the Free Application for Federal',\n",
       "  \"and often less, taxing on their families' financial resources than attending a public university. More than 75 percent \\nof SMU students receive some type of financial aid. More information is available in the Student Financial Aid \\nsection of this catalog or through the Division of Enrollment Services, Office of Financial Aid: \\nwww.smu.edu/financial_aid, phone 214- 768-3417.  \\nSMU has a generous program of merit scholarships, grants, loans and part -time jobs to recognize academic\",\n",
       "  'question: How many terms may I receive financial aid?\\nanswer: Typically, institutional scholarships and need based aid are awarded for 8 semesters only to those who began SMU as first-year undergraduate students; students who enrolled as transfers usually receive institutional scholarships and need based aid for 5 semesters only.',\n",
       "  'question: What are the basic questions to ask the Financial Aid Office?\\nanswer: What are the total costs I will need to cover as a student at SMU? How does this package of aid you have offered me cover those costs? \\nHow much will I need to borrow, and with what types of loans? What lenders do you recommend, and why? \\nDo you have any financial relationship with the lenders you recommend?',\n",
       "  'question: What financial aid awards may change?\\nanswer: Any need-based financial aid may change including federal, state and University need-based awards.  \\nFor our institutional aid you may incur a reduction in the SMU Opportunity Award in your financial aid package.']}"
      ]
     },
     "execution_count": 10,
     "metadata": {},
     "output_type": "execute_result"
    }
   ],
   "source": [
    "PerunaBot_0_eval = run_chain_over_dataset(base_retriever_eval_chain_0)\n",
    "PerunaBot_0_eval[0]"
   ]
  },
  {
   "cell_type": "code",
   "execution_count": 11,
   "metadata": {},
   "outputs": [
    {
     "data": {
      "text/plain": [
       "{'question_type': 'simple',\n",
       " 'question': 'What are the primary considerations for merit scholarships and need-based financial aid for National Merit finalists at SMU?',\n",
       " 'ground_truth': 'High academic accomplishments or achievement in the arts, National Merit finalists, International Baccalaureate Diploma recipients, dependent children and spouses of ordained United Methodist ministers engaged in full-time, church-related vocations, and Texas residents are the primary considerations for merit scholarships and need-based financial aid for National Merit finalists at SMU.',\n",
       " 'chain answer': 'National Merit finalists at SMU are considered for merit-based scholarships and need-based financial aid based on several criteria. For merit scholarships, SMU evaluates high academic accomplishments or achievements in the arts, and specifically recognizes National Merit finalists. To receive primary consideration for all SMU merit scholarships and other aid, students should:\\n\\n1. Complete the SMU Application for Admission by January 15.\\n2. Submit the Free Application for Federal Student Aid (FAFSA) at [www.fafsa.ed.gov](http://www.fafsa.ed.gov) and the CSS/Financial Aid Profile at [www.collegeboard.org](http://www.collegeboard.org).\\n\\nFor more detailed information, you can visit the SMU Financial Aid website at [www.smu.edu/financial_aid](http://www.smu.edu/financial_aid).',\n",
       " 'retrieved context': ['Student Aid at www.studenta id.gov. Texas residents who do not qualify to file the FAFSA may qualify for \\nassistance through the State of Texas  by filing the Texas Application for State Financial Aid (TASFA).  All students \\nare considered for SMU merit -based scholarships at the time of admission.   \\nIn addition to available federal and state aid programs, SMU offers several merit scholarships and grant programs to students who meet the following specific criteria:  \\n• High academic accomplishments or achievement in the arts.  \\n• National Merit finalists and International Baccalaureate Diploma recipients.  \\n• Dependent children and spouses of ordained United Methodist ministers engaged in full -time, church -',\n",
       "  'for an undergraduate full- time (12 -18 credit hours) student. It covers Fall and Spring terms only. Questions should \\nbe addressed to LeaAnn Palya at lpalya@smu.edu.  \\nStudent Financial Aid  \\nScholarships, Grants and Other Aid  \\nSMU strives to provide financial assistance to any admitted student who demonstrates financial need as determined by the Free Application for Federal Student Aid (FAFSA, fafsa.gov) and CSSProfile (cssprofile.collegeboard.org).  \\nApproximately three out of every four students receive aid from one or more federal, state or institutionally based assistance programs. Students seeking federal and state financial aid must file the Free Application for Federal',\n",
       "  'section of this catalog or through the Division of Enrollment Services, Office of Financial Aid: \\nwww.smu.edu/financial_aid, phone 214- 768-3417.  \\nSMU has a generous program of merit scholarships, grants, loans and part -time jobs to recognize academic \\nachievement and talent in specific fields and to meet financial need.  \\nMeadows Undergraduate Artistic Scholarships  \\nThe divisions and centers comprising Meadows School of the Arts annually award scholarships for outstanding achievement in a particular discipline. Candidacy for scholarship considerations may require an audition, review and/or interview. No student with a bility should hesitate to apply to SMU and Meadows because of financial need.',\n",
       "  'question: What are the basic questions to ask the Financial Aid Office?\\nanswer: What are the total costs I will need to cover as a student at SMU? How does this package of aid you have offered me cover those costs? \\nHow much will I need to borrow, and with what types of loans? What lenders do you recommend, and why? \\nDo you have any financial relationship with the lenders you recommend?',\n",
       "  'question: What is the SMU Opportunity Award?\\nanswer: This is an SMU need-based grant that is awarded after all scholarships, federal and state grants have been added to your financial aid package and is based on your demonstrated need that is not met by any and all other scholarships or grants.',\n",
       "  'For information regarding artistic scholarships, please visit our website: smu.edu/affordmeadows.  \\nTo receive primary consideration for all SMU merit scholarships and other aid, students should comply with the \\nfollowing schedule:  \\nBy January 15  \\n• Complete the SMU Application for Admission.  \\n• Submit the Free Application for Federal Student Aid at www.fafsa.ed.gov and the CSS/Financial Aid \\nProfile at www.collegeboard.org.',\n",
       "  'conditions, including learning disabilities, ADHD, physical/mobility \\nissues, hearing and visual impairments, psychiatric conditions and \\nothers. In addition, students with learning disabilities and ADHD \\nmay benefit from the support of DASS Learning Specialists. They \\nprovide individual academic coaching focused on improving \\nlearning and study skills, time management, organization and \\nself-advocacy. For more information, visit smu.edu/DASS  or call \\n214-768-1470.\\nFIRST-GENERATION INITIATIVE\\nsmu.edu/FirstGenerationInitiative\\nThe First-Generation Initiative (FGI) was established in 2019 to \\nensure academic success for first-generation SMU students, or \\nthose who are the first in their family to attend a postsecondary \\ninstitution.']}"
      ]
     },
     "execution_count": 11,
     "metadata": {},
     "output_type": "execute_result"
    }
   ],
   "source": [
    "PerunaBot_1_eval = run_chain_over_dataset(parent_retriever_eval_chain_1)\n",
    "PerunaBot_1_eval[0]"
   ]
  },
  {
   "cell_type": "code",
   "execution_count": 12,
   "metadata": {},
   "outputs": [
    {
     "data": {
      "text/plain": [
       "{'question_type': 'simple',\n",
       " 'question': 'What are the primary considerations for merit scholarships and need-based financial aid for National Merit finalists at SMU?',\n",
       " 'ground_truth': 'High academic accomplishments or achievement in the arts, National Merit finalists, International Baccalaureate Diploma recipients, dependent children and spouses of ordained United Methodist ministers engaged in full-time, church-related vocations, and Texas residents are the primary considerations for merit scholarships and need-based financial aid for National Merit finalists at SMU.',\n",
       " 'chain answer': 'Primary consideration for merit scholarships and need-based financial aid at SMU for National Merit finalists includes the following criteria:\\n\\n1. **Complete the SMU Admission Application**: Submit the application along with all supporting materials by January 15.\\n2. **File the FAFSA and CSSProfile**: For Early Decision/Early Action, these should be filed by November 1. For Regular Admission, they should be filed by February 15. The FAFSA is required for federal and state need-based aid, while both the FAFSA and CSSProfile are required for institutional need-based aid.\\n3. **Complete the Online SMU Application for Scholarships**: Instructions to complete this application will be emailed to the student after submission of the admission application.\\n\\nFor more detailed information, you can visit the [SMU Financial Aid website](https://www.smu.edu/financial_aid). If you need further assistance, feel free to ask! 😊',\n",
       " 'retrieved context': ['Questions should \\nbe addressed to LeaAnn Palya at lpalya@smu.edu. Student Financial Aid  \\nScholarships, Grants and Other Aid  \\nSMU strives to provide financial assistance to any admitted student who demonstrates financial need as determined by the Free Application for Federal Student Aid (FAFSA, fafsa.gov) and CSSProfile (cssprofile.collegeboard.org). Approximately three out of every four students receive aid from one or more federal, state or institutionally based assistance programs. Students seeking federal and state financial aid must file the Free Application for Federal \\nStudent Aid at www.studenta id.gov. Texas residents who do not qualify to file the FAFSA may qualify for \\nassistance through the State of Texas  by filing the Texas Application for State Financial Aid (TASFA). All students \\nare considered for SMU merit -based scholarships at the time of admission. In addition to available federal and state aid programs, SMU offers several merit scholarships and grant programs to students who meet the following specific criteria:  \\n• High academic accomplishments or achievement in the arts. • National Merit finalists and International Baccalaureate Diploma recipients.',\n",
       "  '• Dependent children and spouses of ordained United Methodist ministers engaged in full -time, church -\\nrelated vocations. (Additional application required.)  \\n• Texas residents. Primary consideration for merit scholarships and need- based financial aid will be given to the following:  \\n1. Entering first -year students who \\na. Complete the SMU admission application, with all supporting materials, by January 15. b. File the FAFSA  (www.studentaid.gov) and the CSSProfile by November 1 for Early Decision/Early \\nAction, or by February 15 for Regular Admission. (The FAFSA is required for federal and state \\nneed -based aid consideration; the FAFSA and CSSProfile  are both required for consideration for \\nInstitutional need -based aid.)  \\nc. Complete the online SMU Application for Scholarships. Instructions to complete the online \\napplication will be emailed to the student after submission of the admission application. 2. Transfer students who  \\na. Complete the admission application, with all supporting materials, by June 1. b. File the FAFSA and the CSSProfile  by June 1. (The FAFSA is required for consideration for federal \\nneed -based aid; the FAFSA and CSSProfile  are both required for consideration for \\nInstitutional need -based aid). ',\n",
       "  'question: What is the SMU Opportunity Award?\\nanswer: This is an SMU need-based grant that is awarded after all scholarships, federal and state grants have been added to your financial aid package and is based on your demonstrated need that is not met by any and all other scholarships or grants.',\n",
       "  'question: What applications do I need to complete to apply for financial aid?\\nanswer: All students must complete the Free Application for Federal Student Aid (FAFSA) each year to determine their eligibility for federal and state financial aid (found at www.fafsa.ed.gov). \\nUndergraduate students who also want to be considered for university need-based aid must complete the CSS/Financial Aid PROFILE® found at http://student.collegeboard.org/css-financial-aid-profile. There is a $25 cost for completing the CSS/PROFILE®.',\n",
       "  \"More details on the admission process can be found at smu.edu/admission/arts. Admission as an External Transfer Student  \\nStudents applying for admission to Meadows School of the Arts by transfer from another accredited educational institution should request a transfer application from the Division of Enrollment Services. Transfer applicants who \\nhave completed 30 transferable  hours with a GPA of 2.700 or better are often successful in gaining admission to the \\nUniversity. Once admitted, a transfer student must be prepared to earn at least 60 hours of credit through enrollment \\nat SMU. That is, 60 hours of credit must be earned i n SMU courses or SMU -approved international programs. Transfer credit is not given for work completed at a non -accredited school. Only grades of C - or better in \\ncomparable courses are transferable to SMU. Transfer into Meadows School of the Arts is not automatic. Consideration is also given to creative or scholarly potential for the program to be undertaken and to particular talent in performing areas. Admissions criteria pertinent \\nto each instructional uni t also must be satisfied. Readmission  \\nStudents should contact the Division of Enrollment Services, Office of Undergraduate Admission regarding \\nreadmission. A student who has been readmitted after an absence of more than three years will be expected to meet \\nall current requirements for graduati on. Dance, music and  theatre students may also be required to re- audition. Detailed information is in the Admission to the University, Readmission of Students section of this catalog. Undergraduate Student Financial Aid  \\nFor many SMU students, scholarships and other aid make the cost of attending a distinguished university no more, \\nand often less, taxing on their families' financial resources than attending a public university. More than 75 percent \\nof SMU students receive some type of financial aid. More information is available in the Student Financial Aid \\nsection of this catalog or through the Division of Enrollment Services, Office of Financial Aid: \\nwww.smu.edu/financial_aid, phone 214- 768-3417. SMU has a generous program of merit scholarships, grants, loans and part -time jobs to recognize academic \\nachievement and talent in specific fields and to meet financial need. Meadows Undergraduate Artistic Scholarships  \\nThe divisions and centers comprising Meadows School of the Arts annually award scholarships for outstanding achievement in a particular discipline. Candidacy for scholarship considerations may require an audition, review and/or interview. No student with a bility should hesitate to apply to SMU and Meadows because of financial need. For information regarding artistic scholarships, please visit our website: smu.edu/affordmeadows. To receive primary consideration for all SMU merit scholarships and other aid, students should comply with the \\nfollowing schedule:  \\nBy January 15  \\n• Complete the SMU Application for Admission. • Submit the Free Application for Federal Student Aid at www.fafsa.ed.gov and the CSS/Financial Aid \\nProfile at www.collegeboard.org.\"]}"
      ]
     },
     "execution_count": 12,
     "metadata": {},
     "output_type": "execute_result"
    }
   ],
   "source": [
    "PerunaBot_2_eval = run_chain_over_dataset(ensemble_retriever_eval_chain_2)\n",
    "PerunaBot_2_eval[0]"
   ]
  },
  {
   "cell_type": "code",
   "execution_count": 54,
   "metadata": {},
   "outputs": [],
   "source": [
    "from ragas import evaluate\n",
    "from ragas.metrics import (\n",
    "    Faithfulness,\n",
    "    AnswerRelevancy,\n",
    "    AnswerCorrectness,\n",
    "    ContextRecall,\n",
    "    ContextPrecision,\n",
    "    faithfulness,\n",
    "    answer_relevancy,\n",
    "    answer_correctness,\n",
    "    context_recall,\n",
    "    context_precision\n",
    ")\n",
    "\n",
    "metrics = [\n",
    "    Faithfulness,\n",
    "    AnswerRelevancy,\n",
    "    AnswerCorrectness,\n",
    "    ContextRecall,\n",
    "    ContextPrecision\n",
    "]\n",
    "\n",
    "metrics = [\n",
    "    faithfulness,\n",
    "    answer_relevancy,\n",
    "    answer_correctness,\n",
    "    context_recall,\n",
    "    context_precision\n",
    "]"
   ]
  },
  {
   "cell_type": "code",
   "execution_count": 39,
   "metadata": {},
   "outputs": [
    {
     "data": {
      "application/vnd.jupyter.widget-view+json": {
       "model_id": "f8cb75071d2e49fe8cc9637a1223757b",
       "version_major": 2,
       "version_minor": 0
      },
      "text/plain": [
       "Evaluating:   0%|          | 0/80 [00:00<?, ?it/s]"
      ]
     },
     "metadata": {},
     "output_type": "display_data"
    }
   ],
   "source": [
    "OG_PerunaBot_eval_results = evaluate(OG_PerunaBot_eval, metrics)"
   ]
  },
  {
   "cell_type": "code",
   "execution_count": 40,
   "metadata": {},
   "outputs": [
    {
     "data": {
      "application/vnd.jupyter.widget-view+json": {
       "model_id": "9523830cb5204177ada449ab53bd8999",
       "version_major": 2,
       "version_minor": 0
      },
      "text/plain": [
       "Evaluating:   0%|          | 0/80 [00:00<?, ?it/s]"
      ]
     },
     "metadata": {},
     "output_type": "display_data"
    }
   ],
   "source": [
    "PerunaBot_0_eval_results = evaluate(PerunaBot_0_eval, metrics)"
   ]
  },
  {
   "cell_type": "code",
   "execution_count": 55,
   "metadata": {},
   "outputs": [
    {
     "data": {
      "application/vnd.jupyter.widget-view+json": {
       "model_id": "e9023b7cb6d140f882e290bfb5451a11",
       "version_major": 2,
       "version_minor": 0
      },
      "text/plain": [
       "Evaluating:   0%|          | 0/80 [00:00<?, ?it/s]"
      ]
     },
     "metadata": {},
     "output_type": "display_data"
    }
   ],
   "source": [
    "PerunaBot_1_eval_results = evaluate(PerunaBot_1_eval, metrics)\n"
   ]
  },
  {
   "cell_type": "code",
   "execution_count": 57,
   "metadata": {},
   "outputs": [
    {
     "data": {
      "application/vnd.jupyter.widget-view+json": {
       "model_id": "51bfd06628b048f8b6e22feb124632c6",
       "version_major": 2,
       "version_minor": 0
      },
      "text/plain": [
       "Evaluating:   0%|          | 0/80 [00:00<?, ?it/s]"
      ]
     },
     "metadata": {},
     "output_type": "display_data"
    }
   ],
   "source": [
    "PerunaBot_eval_2_results = evaluate(PerunaBot_2_eval, metrics)"
   ]
  },
  {
   "cell_type": "code",
   "execution_count": 75,
   "metadata": {},
   "outputs": [
    {
     "data": {
      "text/plain": [
       "{'faithfulness': 0.8326, 'answer_relevancy': 0.9247, 'answer_correctness': 0.5257, 'context_recall': 0.7542, 'context_precision': 0.8351}"
      ]
     },
     "execution_count": 75,
     "metadata": {},
     "output_type": "execute_result"
    }
   ],
   "source": [
    "OG_PerunaBot_eval_results"
   ]
  },
  {
   "cell_type": "code",
   "execution_count": 77,
   "metadata": {},
   "outputs": [
    {
     "data": {
      "text/plain": [
       "{'faithfulness': 0.7731, 'answer_relevancy': 0.8430, 'answer_correctness': 0.6438, 'context_recall': 0.8155, 'context_precision': 0.7977}"
      ]
     },
     "execution_count": 77,
     "metadata": {},
     "output_type": "execute_result"
    }
   ],
   "source": [
    "PerunaBot_0_eval_results"
   ]
  },
  {
   "cell_type": "code",
   "execution_count": 79,
   "metadata": {},
   "outputs": [
    {
     "data": {
      "text/plain": [
       "{'faithfulness': 0.7268, 'answer_relevancy': 0.8399, 'answer_correctness': 0.6372, 'context_recall': 0.7426, 'context_precision': 0.8038}"
      ]
     },
     "execution_count": 79,
     "metadata": {},
     "output_type": "execute_result"
    }
   ],
   "source": [
    "PerunaBot_1_eval_results"
   ]
  },
  {
   "cell_type": "code",
   "execution_count": 82,
   "metadata": {},
   "outputs": [
    {
     "data": {
      "text/plain": [
       "{'faithfulness': 0.8323, 'answer_relevancy': 0.8491, 'answer_correctness': 0.6134, 'context_recall': 0.6771, 'context_precision': 0.8044}"
      ]
     },
     "execution_count": 82,
     "metadata": {},
     "output_type": "execute_result"
    }
   ],
   "source": [
    "PerunaBot_eval_2_results"
   ]
  },
  {
   "cell_type": "code",
   "execution_count": 100,
   "metadata": {},
   "outputs": [],
   "source": [
    "OG_PerunaBot_eval_results_df = OG_PerunaBot_eval_results.to_pandas()\n",
    "PerunaBot_0_eval_results_df = PerunaBot_0_eval_results.to_pandas()\n",
    "PerunaBot_1_eval_results_df = PerunaBot_1_eval_results.to_pandas()\n",
    "PerunaBot_2_eval_results_df = PerunaBot_eval_2_results.to_pandas()"
   ]
  },
  {
   "cell_type": "code",
   "execution_count": 106,
   "metadata": {},
   "outputs": [
    {
     "data": {
      "text/html": [
       "<div>\n",
       "<style scoped>\n",
       "    .dataframe tbody tr th:only-of-type {\n",
       "        vertical-align: middle;\n",
       "    }\n",
       "\n",
       "    .dataframe tbody tr th {\n",
       "        vertical-align: top;\n",
       "    }\n",
       "\n",
       "    .dataframe thead th {\n",
       "        text-align: right;\n",
       "    }\n",
       "</style>\n",
       "<table border=\"1\" class=\"dataframe\">\n",
       "  <thead>\n",
       "    <tr style=\"text-align: right;\">\n",
       "      <th></th>\n",
       "      <th>Metric</th>\n",
       "      <th>OG_PerunaBot</th>\n",
       "      <th>PerunaBot_0</th>\n",
       "      <th>PerunaBot_1</th>\n",
       "      <th>PerunaBot_2</th>\n",
       "    </tr>\n",
       "  </thead>\n",
       "  <tbody>\n",
       "    <tr>\n",
       "      <th>0</th>\n",
       "      <td>faithfulness</td>\n",
       "      <td>0.832589</td>\n",
       "      <td>0.773087</td>\n",
       "      <td>0.726772</td>\n",
       "      <td>0.832339</td>\n",
       "    </tr>\n",
       "    <tr>\n",
       "      <th>1</th>\n",
       "      <td>answer_relevancy</td>\n",
       "      <td>0.924686</td>\n",
       "      <td>0.842953</td>\n",
       "      <td>0.839893</td>\n",
       "      <td>0.849084</td>\n",
       "    </tr>\n",
       "    <tr>\n",
       "      <th>2</th>\n",
       "      <td>answer_correctness</td>\n",
       "      <td>0.525716</td>\n",
       "      <td>0.643834</td>\n",
       "      <td>0.637232</td>\n",
       "      <td>0.613385</td>\n",
       "    </tr>\n",
       "    <tr>\n",
       "      <th>3</th>\n",
       "      <td>context_recall</td>\n",
       "      <td>0.754167</td>\n",
       "      <td>0.815476</td>\n",
       "      <td>0.742560</td>\n",
       "      <td>0.677083</td>\n",
       "    </tr>\n",
       "    <tr>\n",
       "      <th>4</th>\n",
       "      <td>context_precision</td>\n",
       "      <td>0.835069</td>\n",
       "      <td>0.797671</td>\n",
       "      <td>0.803812</td>\n",
       "      <td>0.804449</td>\n",
       "    </tr>\n",
       "  </tbody>\n",
       "</table>\n",
       "</div>"
      ],
      "text/plain": [
       "               Metric  OG_PerunaBot  PerunaBot_0  PerunaBot_1  PerunaBot_2\n",
       "0        faithfulness      0.832589     0.773087     0.726772     0.832339\n",
       "1    answer_relevancy      0.924686     0.842953     0.839893     0.849084\n",
       "2  answer_correctness      0.525716     0.643834     0.637232     0.613385\n",
       "3      context_recall      0.754167     0.815476     0.742560     0.677083\n",
       "4   context_precision      0.835069     0.797671     0.803812     0.804449"
      ]
     },
     "execution_count": 106,
     "metadata": {},
     "output_type": "execute_result"
    }
   ],
   "source": [
    "import pandas as pd\n",
    "\n",
    "new_df_0 = pd.DataFrame(list(OG_PerunaBot_eval_results.items()), columns=['Metric', 'OG_PerunaBot'])\n",
    "new_df_1 = pd.DataFrame(list(PerunaBot_0_eval_results.items()), columns=['Metric', 'PerunaBot_0'])\n",
    "new_df_2 = pd.DataFrame(list(PerunaBot_1_eval_results.items()), columns=['Metric', 'PerunaBot_1'])\n",
    "new_df_3 = pd.DataFrame(list(PerunaBot_eval_2_results.items()), columns=['Metric', 'PerunaBot_2'])\n",
    "\n",
    "for df in [new_df_1, new_df_2, new_df_3]:\n",
    "    df.drop('Metric', axis=1, inplace=True)\n",
    "\n",
    "total_results_comparison = pd.concat([new_df_0, new_df_1, new_df_2, new_df_3], axis=1)\n",
    "total_results_comparison"
   ]
  },
  {
   "cell_type": "code",
   "execution_count": 119,
   "metadata": {},
   "outputs": [],
   "source": [
    "# List of dataframes and their names\n",
    "dataframes = [\n",
    "    (\"Final Results Comparison\", total_results_comparison),\n",
    "    (\"OG PerunaBot Evaluation Results\", OG_PerunaBot_eval_results_df),\n",
    "    (\"PerunaBot 0 Evaluation Results\", PerunaBot_0_eval_results_df),\n",
    "    (\"PerunaBot 1 Evaluation Results\", PerunaBot_1_eval_results_df),\n",
    "    (\"PerunaBot 2 Evaluation Results\", PerunaBot_2_eval_results_df)\n",
    "]\n",
    "\n",
    "# Create the CSV file with utf-8 encoding\n",
    "with open('../Data/Evaluation Data/1st RAGAS Evaluation 7_25_2024.csv', 'w', encoding='utf-8') as f:\n",
    "    for name, df in dataframes:\n",
    "        # Write the name of the dataframe\n",
    "        f.write(name + \"\\n\")\n",
    "        # Write the dataframe to csv format\n",
    "        df.to_csv(f, index=False)\n",
    "        # Add an empty line after each dataframe if not the last one\n",
    "        if name != dataframes[-1][0]:\n",
    "            f.write(\"\\n\")"
   ]
  }
 ],
 "metadata": {
  "kernelspec": {
   "display_name": ".venv",
   "language": "python",
   "name": "python3"
  },
  "language_info": {
   "codemirror_mode": {
    "name": "ipython",
    "version": 3
   },
   "file_extension": ".py",
   "mimetype": "text/x-python",
   "name": "python",
   "nbconvert_exporter": "python",
   "pygments_lexer": "ipython3",
   "version": "3.11.5"
  }
 },
 "nbformat": 4,
 "nbformat_minor": 2
}
