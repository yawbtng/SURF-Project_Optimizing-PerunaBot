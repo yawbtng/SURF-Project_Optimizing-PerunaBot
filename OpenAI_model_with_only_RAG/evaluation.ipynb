{
 "cells": [
  {
   "cell_type": "code",
   "execution_count": null,
   "metadata": {},
   "outputs": [],
   "source": [
    "import chain_0, chain_1, chain_2\n",
    "from chain_0 import base_retriever_chain_0, normal_split_docs\n",
    "from chain_1 import parent_retriever_chain_1, pdf_docs, csv_docs\n",
    "from chain_2 import ensemble_retriever_chain_2, semantic_docs"
   ]
  }
 ],
 "metadata": {
  "language_info": {
   "name": "python"
  }
 },
 "nbformat": 4,
 "nbformat_minor": 2
}
