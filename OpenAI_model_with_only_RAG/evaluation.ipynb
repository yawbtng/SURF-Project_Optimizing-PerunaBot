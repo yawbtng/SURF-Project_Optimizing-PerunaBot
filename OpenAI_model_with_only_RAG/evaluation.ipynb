{
 "cells": [
  {
   "cell_type": "code",
   "execution_count": 3,
   "metadata": {},
   "outputs": [
    {
     "data": {
      "text/plain": [
       "True"
      ]
     },
     "execution_count": 3,
     "metadata": {},
     "output_type": "execute_result"
    }
   ],
   "source": [
    "import os\n",
    "from dotenv import load_dotenv, find_dotenv\n",
    "\n",
    "# Load environment variables from the .env file using 'from dotenv import find_dotenv, load_dotenv'\n",
    "load_dotenv(find_dotenv(filename='SURF-Project_Optimizing-PerunaBot/setup/.env'))"
   ]
  },
  {
   "cell_type": "code",
   "execution_count": 4,
   "metadata": {},
   "outputs": [],
   "source": [
    "from chain_0 import base_retriever_chain_0, normal_split_docs\n",
    "from chain_1 import parent_retriever_chain_1, pdf_docs, csv_docs\n",
    "from chain_2 import ensemble_retriever_chain_2, semantic_docs\n",
    "from OG_PerunaBot_chain import Original_PerunaBot_chain_0"
   ]
  },
  {
   "cell_type": "code",
   "execution_count": 7,
   "metadata": {},
   "outputs": [],
   "source": [
    "#langsmith\n",
    "from langsmith import Client\n",
    "import os\n",
    "\n",
    "langsmith_api_key = os.environ[\"LANGSMITH_API_KEY\"]\n",
    "langchain_endpoint = os.environ[\"LANGCHAIN_ENDPOINT\"]\n",
    "langsmith_project = os.environ[\"LANGCHAIN_PROJECT\"]\n",
    "os.environ[\"LANGCHAIN_TRACING_V2\"]\n",
    "\n",
    "# Initialize LangSmith Client using 'from langsmith import Client'\n",
    "langsmith_client = Client()"
   ]
  },
  {
   "cell_type": "code",
   "execution_count": null,
   "metadata": {},
   "outputs": [],
   "source": []
  }
 ],
 "metadata": {
  "kernelspec": {
   "display_name": "base",
   "language": "python",
   "name": "python3"
  },
  "language_info": {
   "codemirror_mode": {
    "name": "ipython",
    "version": 3
   },
   "file_extension": ".py",
   "mimetype": "text/x-python",
   "name": "python",
   "nbconvert_exporter": "python",
   "pygments_lexer": "ipython3",
   "version": "3.11.5"
  }
 },
 "nbformat": 4,
 "nbformat_minor": 2
}
