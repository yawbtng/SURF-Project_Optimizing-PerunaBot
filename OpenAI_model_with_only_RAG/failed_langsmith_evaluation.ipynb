{
 "cells": [
  {
   "cell_type": "code",
   "execution_count": 1,
   "metadata": {},
   "outputs": [
    {
     "data": {
      "text/plain": [
       "True"
      ]
     },
     "execution_count": 1,
     "metadata": {},
     "output_type": "execute_result"
    }
   ],
   "source": [
    "import os\n",
    "from dotenv import load_dotenv, find_dotenv\n",
    "\n",
    "# Load environment variables from the .env file using 'from dotenv import find_dotenv, load_dotenv'\n",
    "load_dotenv(find_dotenv(filename='SURF-Project_Optimizing-PerunaBot/setup/.env'))"
   ]
  },
  {
   "cell_type": "code",
   "execution_count": 2,
   "metadata": {},
   "outputs": [],
   "source": [
    "from OG_PerunaBot_chain import Original_PerunaBot_eval_chain\n",
    "from chain_0 import base_retriever_eval_chain_0\n",
    "from chain_1 import parent_retriever_eval_chain_1\n",
    "from chain_2 import ensemble_retriever_eval_chain_2"
   ]
  },
  {
   "cell_type": "code",
   "execution_count": 3,
   "metadata": {},
   "outputs": [],
   "source": [
    "#langsmith\n",
    "from langsmith import Client\n",
    "import os\n",
    "\n",
    "langsmith_api_key = os.environ[\"LANGSMITH_API_KEY\"]\n",
    "langchain_endpoint = os.environ[\"LANGCHAIN_ENDPOINT\"]\n",
    "langsmith_project = os.environ[\"LANGCHAIN_PROJECT\"]\n",
    "os.environ[\"LANGCHAIN_TRACING_V2\"]\n",
    "\n",
    "# Initialize LangSmith Client using 'from langsmith import Client'\n",
    "langsmith_client = Client()"
   ]
  },
  {
   "cell_type": "code",
   "execution_count": null,
   "metadata": {},
   "outputs": [],
   "source": [
    "from OG_PerunaBot_chain import Original_PerunaBot_eval_chain\n",
    "from chain_0 import base_retriever_eval_chain_0\n",
    "from chain_1 import parent_retriever_eval_chain_1\n",
    "from chain_2 import ensemble_retriever_eval_chain_2"
   ]
  },
  {
   "cell_type": "code",
   "execution_count": 4,
   "metadata": {},
   "outputs": [],
   "source": [
    "import nest_asyncio\n",
    "nest_asyncio.apply()"
   ]
  },
  {
   "cell_type": "code",
   "execution_count": 21,
   "metadata": {},
   "outputs": [],
   "source": [
    "\n",
    "def construct_OG_chain():\n",
    "    def predict(inputs: dict) -> dict:\n",
    "        text = inputs.get(\"question\")\n",
    "        input_mapper = {'text': 'question', 'input': text}\n",
    "        my_chain = input_mapper | Original_PerunaBot_eval_chain\n",
    "        response = my_chain.invoke({\"question\": input_mapper['input']})\n",
    "        return response[\"answer\"]\n",
    "    \n"
   ]
  },
  {
   "cell_type": "code",
   "execution_count": 22,
   "metadata": {},
   "outputs": [],
   "source": [
    "from langchain.smith import RunEvalConfig, run_on_dataset\n",
    "from langchain.evaluation import EvaluatorType, load_evaluator\n",
    "from langchain.evaluation.criteria import CriteriaEvalChain, Criteria\n",
    "from langchain_openai import ChatOpenAI\n",
    "\n",
    "\n",
    "# datasets in langsmith\n",
    "data_set_1 = \"SMU Schools Basic Info\"\n",
    "data_set_2 = \"SMU Campus Facts\"\n",
    "project_name = \"First test eval for \"\n",
    "\n",
    "eval_llm = ChatOpenAI(model=\"gpt-4o\", temperature=0)\n",
    "\n",
    "# Evaluation configuration\n",
    "eval_config = RunEvalConfig(\n",
    "    evaluators = [\n",
    "        \"qa\",\n",
    "        \"cot_qa\",\n",
    "        \"context_qa\"\n",
    "    ],\n",
    "    eval_llm = ChatOpenAI(model=\"gpt-4o\", temperature=0)\n",
    ")\n",
    "\n",
    "\n",
    "\n",
    "# Evaluate the target task\n",
    "def evaluate_chain(chain, dataset, chain_name):\n",
    "    chain_results = run_on_dataset(\n",
    "        client=langsmith_client,\n",
    "        llm_or_chain_factory=construct_chain,\n",
    "        evaluation=eval_config,\n",
    "        dataset_name=dataset,\n",
    "        verbose=True,\n",
    "        project_name= project_name + chain_name,\n",
    "        project_metadata={\n",
    "            \"chain\": chain_name,\n",
    "            \"dataset\": dataset,\n",
    "            \"version\": \"0.1\"\n",
    "        }\n",
    "    )"
   ]
  },
  {
   "cell_type": "code",
   "execution_count": 23,
   "metadata": {},
   "outputs": [
    {
     "name": "stdout",
     "output_type": "stream",
     "text": [
      "View the evaluation results for project 'First test eval for Original PerunaBot chain' at:\n",
      "https://smith.langchain.com/o/6f55b15c-54b8-5d1e-b020-8c8816d39599/datasets/d9b7f7ca-c259-4b1b-b464-017e5fc9395a/compare?selectedSessions=dfb2c94f-d3b3-4718-926b-2a5bdb38f099\n",
      "\n",
      "View all tests for Dataset SMU Schools Basic Info at:\n",
      "https://smith.langchain.com/o/6f55b15c-54b8-5d1e-b020-8c8816d39599/datasets/d9b7f7ca-c259-4b1b-b464-017e5fc9395a\n",
      "[------------------------------------------------->] 8/8"
     ]
    },
    {
     "data": {
      "text/html": [
       "<h3>Experiment Results:</h3>"
      ],
      "text/plain": [
       "<IPython.core.display.HTML object>"
      ]
     },
     "metadata": {},
     "output_type": "display_data"
    },
    {
     "data": {
      "text/html": [
       "<div>\n",
       "<style scoped>\n",
       "    .dataframe tbody tr th:only-of-type {\n",
       "        vertical-align: middle;\n",
       "    }\n",
       "\n",
       "    .dataframe tbody tr th {\n",
       "        vertical-align: top;\n",
       "    }\n",
       "\n",
       "    .dataframe thead th {\n",
       "        text-align: right;\n",
       "    }\n",
       "</style>\n",
       "<table border=\"1\" class=\"dataframe\">\n",
       "  <thead>\n",
       "    <tr style=\"text-align: right;\">\n",
       "      <th></th>\n",
       "      <th>feedback.correctness</th>\n",
       "      <th>feedback.COT Contextual Accuracy</th>\n",
       "      <th>feedback.Contextual Accuracy</th>\n",
       "      <th>error</th>\n",
       "      <th>execution_time</th>\n",
       "      <th>run_id</th>\n",
       "    </tr>\n",
       "  </thead>\n",
       "  <tbody>\n",
       "    <tr>\n",
       "      <th>count</th>\n",
       "      <td>8.0</td>\n",
       "      <td>8.0</td>\n",
       "      <td>8.0</td>\n",
       "      <td>0</td>\n",
       "      <td>8.000000</td>\n",
       "      <td>8</td>\n",
       "    </tr>\n",
       "    <tr>\n",
       "      <th>unique</th>\n",
       "      <td>NaN</td>\n",
       "      <td>NaN</td>\n",
       "      <td>NaN</td>\n",
       "      <td>0</td>\n",
       "      <td>NaN</td>\n",
       "      <td>8</td>\n",
       "    </tr>\n",
       "    <tr>\n",
       "      <th>top</th>\n",
       "      <td>NaN</td>\n",
       "      <td>NaN</td>\n",
       "      <td>NaN</td>\n",
       "      <td>NaN</td>\n",
       "      <td>NaN</td>\n",
       "      <td>4d84bb35-81ec-411a-8a0d-00bcc5882860</td>\n",
       "    </tr>\n",
       "    <tr>\n",
       "      <th>freq</th>\n",
       "      <td>NaN</td>\n",
       "      <td>NaN</td>\n",
       "      <td>NaN</td>\n",
       "      <td>NaN</td>\n",
       "      <td>NaN</td>\n",
       "      <td>1</td>\n",
       "    </tr>\n",
       "    <tr>\n",
       "      <th>mean</th>\n",
       "      <td>0.0</td>\n",
       "      <td>0.0</td>\n",
       "      <td>0.0</td>\n",
       "      <td>NaN</td>\n",
       "      <td>0.012205</td>\n",
       "      <td>NaN</td>\n",
       "    </tr>\n",
       "    <tr>\n",
       "      <th>std</th>\n",
       "      <td>0.0</td>\n",
       "      <td>0.0</td>\n",
       "      <td>0.0</td>\n",
       "      <td>NaN</td>\n",
       "      <td>0.005659</td>\n",
       "      <td>NaN</td>\n",
       "    </tr>\n",
       "    <tr>\n",
       "      <th>min</th>\n",
       "      <td>0.0</td>\n",
       "      <td>0.0</td>\n",
       "      <td>0.0</td>\n",
       "      <td>NaN</td>\n",
       "      <td>0.004012</td>\n",
       "      <td>NaN</td>\n",
       "    </tr>\n",
       "    <tr>\n",
       "      <th>25%</th>\n",
       "      <td>0.0</td>\n",
       "      <td>0.0</td>\n",
       "      <td>0.0</td>\n",
       "      <td>NaN</td>\n",
       "      <td>0.009935</td>\n",
       "      <td>NaN</td>\n",
       "    </tr>\n",
       "    <tr>\n",
       "      <th>50%</th>\n",
       "      <td>0.0</td>\n",
       "      <td>0.0</td>\n",
       "      <td>0.0</td>\n",
       "      <td>NaN</td>\n",
       "      <td>0.011417</td>\n",
       "      <td>NaN</td>\n",
       "    </tr>\n",
       "    <tr>\n",
       "      <th>75%</th>\n",
       "      <td>0.0</td>\n",
       "      <td>0.0</td>\n",
       "      <td>0.0</td>\n",
       "      <td>NaN</td>\n",
       "      <td>0.013905</td>\n",
       "      <td>NaN</td>\n",
       "    </tr>\n",
       "    <tr>\n",
       "      <th>max</th>\n",
       "      <td>0.0</td>\n",
       "      <td>0.0</td>\n",
       "      <td>0.0</td>\n",
       "      <td>NaN</td>\n",
       "      <td>0.021942</td>\n",
       "      <td>NaN</td>\n",
       "    </tr>\n",
       "  </tbody>\n",
       "</table>\n",
       "</div>"
      ],
      "text/plain": [
       "        feedback.correctness  feedback.COT Contextual Accuracy  \\\n",
       "count                    8.0                               8.0   \n",
       "unique                   NaN                               NaN   \n",
       "top                      NaN                               NaN   \n",
       "freq                     NaN                               NaN   \n",
       "mean                     0.0                               0.0   \n",
       "std                      0.0                               0.0   \n",
       "min                      0.0                               0.0   \n",
       "25%                      0.0                               0.0   \n",
       "50%                      0.0                               0.0   \n",
       "75%                      0.0                               0.0   \n",
       "max                      0.0                               0.0   \n",
       "\n",
       "        feedback.Contextual Accuracy error  execution_time  \\\n",
       "count                            8.0     0        8.000000   \n",
       "unique                           NaN     0             NaN   \n",
       "top                              NaN   NaN             NaN   \n",
       "freq                             NaN   NaN             NaN   \n",
       "mean                             0.0   NaN        0.012205   \n",
       "std                              0.0   NaN        0.005659   \n",
       "min                              0.0   NaN        0.004012   \n",
       "25%                              0.0   NaN        0.009935   \n",
       "50%                              0.0   NaN        0.011417   \n",
       "75%                              0.0   NaN        0.013905   \n",
       "max                              0.0   NaN        0.021942   \n",
       "\n",
       "                                      run_id  \n",
       "count                                      8  \n",
       "unique                                     8  \n",
       "top     4d84bb35-81ec-411a-8a0d-00bcc5882860  \n",
       "freq                                       1  \n",
       "mean                                     NaN  \n",
       "std                                      NaN  \n",
       "min                                      NaN  \n",
       "25%                                      NaN  \n",
       "50%                                      NaN  \n",
       "75%                                      NaN  \n",
       "max                                      NaN  "
      ]
     },
     "metadata": {},
     "output_type": "display_data"
    }
   ],
   "source": [
    "\n",
    "evaluate_chain(Original_PerunaBot_eval_chain, data_set_1, \"Original PerunaBot chain\")"
   ]
  },
  {
   "cell_type": "code",
   "execution_count": null,
   "metadata": {},
   "outputs": [],
   "source": [
    "\n",
    "# Chain 0 on data set 1\n",
    "evaluate_chain(base_retriever_eval_chain_0, data_set_1, \"Base Retriever Chain\")"
   ]
  },
  {
   "cell_type": "code",
   "execution_count": null,
   "metadata": {},
   "outputs": [],
   "source": [
    "\n",
    "# Chain 1 on data set 1\n",
    "evaluate_chain(parent_retriever_eval_chain_1, data_set_1, \"Parent Retriever Chain\")"
   ]
  },
  {
   "cell_type": "code",
   "execution_count": null,
   "metadata": {},
   "outputs": [],
   "source": [
    "\n",
    "# Chain 2 on data set 1\n",
    "evaluate_chain(ensemble_retriever_eval_chain_2, data_set_1, \"Ensemble Retriever Chain\")"
   ]
  },
  {
   "cell_type": "code",
   "execution_count": null,
   "metadata": {},
   "outputs": [],
   "source": [
    "# OG PerunaBot Chain on data set 2\n",
    "evaluate_chain(Original_PerunaBot__eval_chain, data_set_2, \"Original PerunaBot chain\")"
   ]
  },
  {
   "cell_type": "code",
   "execution_count": null,
   "metadata": {},
   "outputs": [],
   "source": [
    "\n",
    "# Chain 0 on data set 2\n",
    "evaluate_chain(base_retriever__eval_chain_0, data_set_2, \"Base Retriever Chain\")"
   ]
  },
  {
   "cell_type": "code",
   "execution_count": null,
   "metadata": {},
   "outputs": [],
   "source": [
    "\n",
    "# Chain 1 on data set 2\n",
    "evaluate_chain(parent_retriever__eval_chain_1, data_set_2, \"Parent Retriever Chain\")"
   ]
  },
  {
   "cell_type": "code",
   "execution_count": null,
   "metadata": {},
   "outputs": [],
   "source": [
    "\n",
    "# Chain 2 on data set 2\n",
    "evaluate_chain(ensemble_retriever__eval_chain_2, data_set_2, \"Ensemble Retriever Chain\")"
   ]
  }
 ],
 "metadata": {
  "kernelspec": {
   "display_name": "base",
   "language": "python",
   "name": "python3"
  },
  "language_info": {
   "codemirror_mode": {
    "name": "ipython",
    "version": 3
   },
   "file_extension": ".py",
   "mimetype": "text/x-python",
   "name": "python",
   "nbconvert_exporter": "python",
   "pygments_lexer": "ipython3",
   "version": "3.11.5"
  }
 },
 "nbformat": 4,
 "nbformat_minor": 2
}
